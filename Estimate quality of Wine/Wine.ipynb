{
 "cells": [
  {
   "cell_type": "code",
   "execution_count": 1,
   "metadata": {
    "collapsed": true
   },
   "outputs": [],
   "source": [
    "import pandas as pd\n",
    "import numpy as np\n",
    "from pandas import DataFrame,Series\n",
    "import matplotlib.pyplot as plt\n",
    "%matplotlib inline"
   ]
  },
  {
   "cell_type": "code",
   "execution_count": 2,
   "metadata": {
    "collapsed": true
   },
   "outputs": [],
   "source": [
    "#data = pd.read_csv('‪D:\\Data\\UCI Datasets\\winequality-red.csv',sep = ';')\n",
    "data = pd.read_csv('D:\\Data\\UCI Datasets\\winequality-red.csv',sep = ';')"
   ]
  },
  {
   "cell_type": "code",
   "execution_count": 3,
   "metadata": {},
   "outputs": [
    {
     "data": {
      "text/plain": [
       "(1599, 12)"
      ]
     },
     "execution_count": 3,
     "metadata": {},
     "output_type": "execute_result"
    }
   ],
   "source": [
    "data.shape"
   ]
  },
  {
   "cell_type": "code",
   "execution_count": 4,
   "metadata": {
    "scrolled": true
   },
   "outputs": [
    {
     "data": {
      "text/html": [
       "<div>\n",
       "<style>\n",
       "    .dataframe thead tr:only-child th {\n",
       "        text-align: right;\n",
       "    }\n",
       "\n",
       "    .dataframe thead th {\n",
       "        text-align: left;\n",
       "    }\n",
       "\n",
       "    .dataframe tbody tr th {\n",
       "        vertical-align: top;\n",
       "    }\n",
       "</style>\n",
       "<table border=\"1\" class=\"dataframe\">\n",
       "  <thead>\n",
       "    <tr style=\"text-align: right;\">\n",
       "      <th></th>\n",
       "      <th>fixed acidity</th>\n",
       "      <th>volatile acidity</th>\n",
       "      <th>citric acid</th>\n",
       "      <th>residual sugar</th>\n",
       "      <th>chlorides</th>\n",
       "      <th>free sulfur dioxide</th>\n",
       "      <th>total sulfur dioxide</th>\n",
       "      <th>density</th>\n",
       "      <th>pH</th>\n",
       "      <th>sulphates</th>\n",
       "      <th>alcohol</th>\n",
       "      <th>quality</th>\n",
       "    </tr>\n",
       "  </thead>\n",
       "  <tbody>\n",
       "    <tr>\n",
       "      <th>0</th>\n",
       "      <td>7.4</td>\n",
       "      <td>0.7</td>\n",
       "      <td>0.0</td>\n",
       "      <td>1.9</td>\n",
       "      <td>0.076</td>\n",
       "      <td>11.0</td>\n",
       "      <td>34.0</td>\n",
       "      <td>0.9978</td>\n",
       "      <td>3.51</td>\n",
       "      <td>0.56</td>\n",
       "      <td>9.4</td>\n",
       "      <td>5</td>\n",
       "    </tr>\n",
       "  </tbody>\n",
       "</table>\n",
       "</div>"
      ],
      "text/plain": [
       "   fixed acidity  volatile acidity  citric acid  residual sugar  chlorides  \\\n",
       "0            7.4               0.7          0.0             1.9      0.076   \n",
       "\n",
       "   free sulfur dioxide  total sulfur dioxide  density    pH  sulphates  \\\n",
       "0                 11.0                  34.0   0.9978  3.51       0.56   \n",
       "\n",
       "   alcohol  quality  \n",
       "0      9.4        5  "
      ]
     },
     "execution_count": 4,
     "metadata": {},
     "output_type": "execute_result"
    }
   ],
   "source": [
    "data.head(1)"
   ]
  },
  {
   "cell_type": "code",
   "execution_count": 5,
   "metadata": {},
   "outputs": [
    {
     "data": {
      "text/plain": [
       "fixed acidity           False\n",
       "volatile acidity        False\n",
       "citric acid             False\n",
       "residual sugar          False\n",
       "chlorides               False\n",
       "free sulfur dioxide     False\n",
       "total sulfur dioxide    False\n",
       "density                 False\n",
       "pH                      False\n",
       "sulphates               False\n",
       "alcohol                 False\n",
       "quality                 False\n",
       "dtype: bool"
      ]
     },
     "execution_count": 5,
     "metadata": {},
     "output_type": "execute_result"
    }
   ],
   "source": [
    "data.isnull().any()"
   ]
  },
  {
   "cell_type": "code",
   "execution_count": 6,
   "metadata": {
    "scrolled": true
   },
   "outputs": [
    {
     "data": {
      "text/plain": [
       "['fixed acidity',\n",
       " 'volatile acidity',\n",
       " 'citric acid',\n",
       " 'residual sugar',\n",
       " 'chlorides',\n",
       " 'free sulfur dioxide',\n",
       " 'total sulfur dioxide',\n",
       " 'density',\n",
       " 'pH',\n",
       " 'sulphates',\n",
       " 'alcohol',\n",
       " 'quality']"
      ]
     },
     "execution_count": 6,
     "metadata": {},
     "output_type": "execute_result"
    }
   ],
   "source": [
    "data.columns.tolist()"
   ]
  },
  {
   "cell_type": "code",
   "execution_count": 9,
   "metadata": {
    "collapsed": true
   },
   "outputs": [],
   "source": [
    "# # data['Quality_Type'] = np.where(data['quality'] > 5,3,4)\n",
    "# def get_target_quality(data) : \n",
    "#     if  7 <= data  :\n",
    "#         return 1\n",
    "#     if 7 <= data <= 5  :\n",
    "#         return 2\n",
    "#     if data == 3 :\n",
    "#         return 3\n",
    "#     if data == 4 :\n",
    "#         return \"Poor\"\n",
    "\n",
    " #a= np.where(data['quality'] > 7.5) \n",
    "\n",
    "#data[data['quality'] > 7.5]['Quality_Type'] = 'Excellent'\n",
    "\n",
    "# data.loc[data['quality'] > 7.5, 'Quality_Type'] = 1\n",
    "\n",
    "# data['Quality_Type'].value_counts()\n",
    "\n",
    " #b= (np.where(data['quality'] <= 5.0) and np.where(data['quality'] > 2.5) )\n",
    "\n",
    "#data.ix[b]['Quality_Type'] = 'Poor'\n",
    "# data.loc[(data[\"quality\"] > 2.5) & (data[\"quality\"] < 5.0), \"Quality_Type\"] = 2\n",
    "\n",
    "# data['Quality_Type'].value_counts()\n",
    "\n",
    "# def get_target_quality(data) : \n",
    "#     if data == 1 :\n",
    "#         return \"Excellent\"\n",
    "#     if data == 2 :\n",
    "#         return \"Good\"\n",
    "#     if data == 3 :\n",
    "#         return \"OK\"\n",
    "#     if data == 4 :\n",
    "#         return \"Poor\"\n",
    "\n",
    "# data['QType'] = data.quality.map(get_target_quality)"
   ]
  },
  {
   "cell_type": "code",
   "execution_count": 7,
   "metadata": {
    "collapsed": true
   },
   "outputs": [],
   "source": [
    "features = ['fixed acidity',\n",
    " 'volatile acidity',\n",
    " 'citric acid',\n",
    " 'residual sugar',\n",
    " 'chlorides',\n",
    " 'free sulfur dioxide',\n",
    " 'total sulfur dioxide',\n",
    " 'density',\n",
    " 'pH',\n",
    " 'sulphates',\n",
    " 'alcohol']\n",
    "target = ['quality']"
   ]
  },
  {
   "cell_type": "code",
   "execution_count": 9,
   "metadata": {
    "collapsed": true
   },
   "outputs": [],
   "source": [
    "import warnings\n",
    "warnings.filterwarnings('ignore')"
   ]
  },
  {
   "cell_type": "markdown",
   "metadata": {},
   "source": [
    "### most correlated features"
   ]
  },
  {
   "cell_type": "code",
   "execution_count": 14,
   "metadata": {},
   "outputs": [
    {
     "data": {
      "image/png": "[encoded data removed]",
      "text/plain": [
       "<matplotlib.figure.Figure at 0xec1f7b8>"
      ]
     },
     "metadata": {},
     "output_type": "display_data"
    }
   ],
   "source": [
    "import seaborn as sns\n",
    "corrmat = data.corr()\n",
    "plt.figure(figsize = (10,7))\n",
    "# or fig, ax = plt.subplots(figsize=(20, 10))\n",
    "#top_corr_features = corrmat.index[abs(corrmat[\"quality\"])>0.2]\n",
    "g = sns.heatmap(data.corr(),annot=True,cmap=\"RdYlGn\")"
   ]
  },
  {
   "cell_type": "code",
   "execution_count": 17,
   "metadata": {},
   "outputs": [
    {
     "name": "stdout",
     "output_type": "stream",
     "text": [
      "quality                 1.000000\n",
      "alcohol                 0.476166\n",
      "sulphates               0.251397\n",
      "citric acid             0.226373\n",
      "fixed acidity           0.124052\n",
      "residual sugar          0.013732\n",
      "free sulfur dioxide    -0.050656\n",
      "pH                     -0.057731\n",
      "chlorides              -0.128907\n",
      "density                -0.174919\n",
      "total sulfur dioxide   -0.185100\n",
      "volatile acidity       -0.390558\n",
      "Name: quality, dtype: float64\n"
     ]
    }
   ],
   "source": [
    "corrmat.sort_values([\"quality\"], ascending = False, inplace = True)\n",
    "print(corrmat.quality)"
   ]
  },
  {
   "cell_type": "markdown",
   "metadata": {},
   "source": [
    "Alchol contributes highest to the quality of a fine wine and volatile acidity negatively affects the wine quality"
   ]
  },
  {
   "cell_type": "code",
   "execution_count": 18,
   "metadata": {},
   "outputs": [
    {
     "name": "stdout",
     "output_type": "stream",
     "text": [
      "NAs for features in whole data : 0\n"
     ]
    }
   ],
   "source": [
    "print(\"NAs for features in whole data : \" + str(data.isnull().values.sum()))"
   ]
  },
  {
   "cell_type": "markdown",
   "metadata": {},
   "source": [
    "## Skewness"
   ]
  },
  {
   "cell_type": "code",
   "execution_count": 57,
   "metadata": {},
   "outputs": [
    {
     "data": {
      "text/plain": [
       "volatile acidity        0.670962\n",
       "residual sugar          1.019251\n",
       "chlorides               3.427354\n",
       "free sulfur dioxide    -1.042670\n",
       "total sulfur dioxide   -0.600474\n",
       "sulphates               0.695695\n",
       "alcohol                 0.581647\n",
       "dtype: float64"
      ]
     },
     "execution_count": 57,
     "metadata": {},
     "output_type": "execute_result"
    }
   ],
   "source": [
    "from scipy.stats import skew \n",
    "skewness = data.apply(lambda x:skew(x.dropna()))\n",
    "skewness = skewness[abs(skewness) > 0.5]\n",
    "skewness"
   ]
  },
  {
   "cell_type": "code",
   "execution_count": 58,
   "metadata": {},
   "outputs": [
    {
     "data": {
      "text/html": [
       "<div>\n",
       "<style>\n",
       "    .dataframe thead tr:only-child th {\n",
       "        text-align: right;\n",
       "    }\n",
       "\n",
       "    .dataframe thead th {\n",
       "        text-align: left;\n",
       "    }\n",
       "\n",
       "    .dataframe tbody tr th {\n",
       "        vertical-align: top;\n",
       "    }\n",
       "</style>\n",
       "<table border=\"1\" class=\"dataframe\">\n",
       "  <thead>\n",
       "    <tr style=\"text-align: right;\">\n",
       "      <th></th>\n",
       "      <th>volatile acidity</th>\n",
       "      <th>residual sugar</th>\n",
       "      <th>chlorides</th>\n",
       "      <th>free sulfur dioxide</th>\n",
       "      <th>total sulfur dioxide</th>\n",
       "      <th>sulphates</th>\n",
       "      <th>alcohol</th>\n",
       "    </tr>\n",
       "  </thead>\n",
       "  <tbody>\n",
       "    <tr>\n",
       "      <th>0</th>\n",
       "      <td>0.70</td>\n",
       "      <td>0.308426</td>\n",
       "      <td>0.062019</td>\n",
       "      <td>0.382474</td>\n",
       "      <td>0.407504</td>\n",
       "      <td>0.215917</td>\n",
       "      <td>0.377974</td>\n",
       "    </tr>\n",
       "    <tr>\n",
       "      <th>1</th>\n",
       "      <td>0.88</td>\n",
       "      <td>0.326306</td>\n",
       "      <td>0.075977</td>\n",
       "      <td>0.401735</td>\n",
       "      <td>0.418232</td>\n",
       "      <td>0.232684</td>\n",
       "      <td>0.379197</td>\n",
       "    </tr>\n",
       "  </tbody>\n",
       "</table>\n",
       "</div>"
      ],
      "text/plain": [
       "   volatile acidity  residual sugar  chlorides  free sulfur dioxide  \\\n",
       "0              0.70        0.308426   0.062019             0.382474   \n",
       "1              0.88        0.326306   0.075977             0.401735   \n",
       "\n",
       "   total sulfur dioxide  sulphates   alcohol  \n",
       "0              0.407504   0.215917  0.377974  \n",
       "1              0.418232   0.232684  0.379197  "
      ]
     },
     "execution_count": 58,
     "metadata": {},
     "output_type": "execute_result"
    }
   ],
   "source": [
    "skew_features = data[skewness.index]\n",
    "skew_features[:2]"
   ]
  },
  {
   "cell_type": "code",
   "execution_count": 59,
   "metadata": {},
   "outputs": [],
   "source": [
    "skew_features  = np.log1p(skew_features)\n"
   ]
  },
  {
   "cell_type": "code",
   "execution_count": 60,
   "metadata": {
    "scrolled": true
   },
   "outputs": [],
   "source": [
    "data[skew_features.columns] = skew_features"
   ]
  },
  {
   "cell_type": "code",
   "execution_count": 67,
   "metadata": {},
   "outputs": [
    {
     "name": "stdout",
     "output_type": "stream",
     "text": [
      "NAs for numerical features in data : 0\n"
     ]
    }
   ],
   "source": [
    "print(\"NAs for numerical features in data : \" + str(data.isnull().values.sum()))\n"
   ]
  },
  {
   "cell_type": "code",
   "execution_count": 63,
   "metadata": {
    "collapsed": true
   },
   "outputs": [],
   "source": [
    "from sklearn.model_selection import train_test_split # to split the data into two parts\n",
    "train, test = train_test_split(data,random_state = 0)\n",
    "#Fill the training and test data with require information\n",
    "X_train = train[features] \n",
    "y_train = train[target]\n",
    "X_test = test[features]\n",
    "y_test = test[target]\n"
   ]
  },
  {
   "cell_type": "code",
   "execution_count": 53,
   "metadata": {
    "collapsed": true
   },
   "outputs": [],
   "source": [
    "\n",
    "# from sklearn.preprocessing import MinMaxScaler\n",
    "# sc = MinMaxScaler()\n",
    "# train_x_std = sc.fit_transform(X_train)\n",
    "# test_x_std = sc.transform(X_test)\n"
   ]
  },
  {
   "cell_type": "markdown",
   "metadata": {},
   "source": [
    "## Linear Regression"
   ]
  },
  {
   "cell_type": "code",
   "execution_count": 64,
   "metadata": {
    "scrolled": true
   },
   "outputs": [
    {
     "name": "stdout",
     "output_type": "stream",
     "text": [
      "linear model coeff (w): [[  16.42799542   -1.84948136   -0.33365396    3.09954857   -4.01903599\n",
      "     3.25826414   -7.73666789  -46.74829239   -0.25961867   12.43335175\n",
      "   126.35075057]]\n",
      "R-squared score (training): 0.370\n",
      "R-squared score (test): 0.364\n"
     ]
    }
   ],
   "source": [
    "from sklearn.linear_model import LinearRegression\n",
    "\n",
    "\n",
    "linreg = LinearRegression().fit(X_train, y_train)\n",
    "\n",
    "print('linear model coeff (w): {}'\n",
    "     .format(linreg.coef_))\n",
    "print('R-squared score (training): {:.3f}'\n",
    "     .format(linreg.score(X_train, y_train)))\n",
    "print('R-squared score (test): {:.3f}'\n",
    "     .format(linreg.score(X_test, y_test)))"
   ]
  },
  {
   "cell_type": "code",
   "execution_count": 25,
   "metadata": {
    "collapsed": true
   },
   "outputs": [],
   "source": [
    "# plt.figure(figsize=(5,4))\n",
    "# plt.scatter(X_train, y_train, marker= 'o', s=50, alpha=0.8)\n",
    "# plt.plot(data['features'], linreg.coef_ * X_R1 + linreg.intercept_, 'r-')\n",
    "# plt.title('Least-squares linear regression')\n",
    "# plt.xlabel('Feature value (x)')\n",
    "# plt.ylabel('Target value (y)')\n",
    "# plt.show()"
   ]
  },
  {
   "cell_type": "markdown",
   "metadata": {},
   "source": [
    "## With Standard Features Normalization"
   ]
  },
  {
   "cell_type": "code",
   "execution_count": 73,
   "metadata": {},
   "outputs": [
    {
     "name": "stdout",
     "output_type": "stream",
     "text": [
      "linear model coeff (w): [[ 0.62460793 -1.54331954 -0.33365396  0.31767155 -0.76443764  0.37734313\n",
      "  -0.39691062 -0.63671174 -0.32971571  1.32361446  1.44352094]]\n",
      "R-squared score (training): 0.370\n",
      "R-squared score (test): 0.364\n"
     ]
    }
   ],
   "source": [
    "from sklearn.preprocessing import MinMaxScaler\n",
    "sc = MinMaxScaler()\n",
    "train_x_std = sc.fit_transform(X_train)\n",
    "test_x_std = sc.transform(X_test)\n",
    "\n",
    "linreg = LinearRegression().fit(train_x_std, y_train)\n",
    "\n",
    "print('linear model coeff (w): {}'\n",
    "     .format(linreg.coef_))\n",
    "print('R-squared score (training): {:.3f}'\n",
    "     .format(linreg.score(train_x_std, y_train)))\n",
    "print('R-squared score (test): {:.3f}'\n",
    "     .format(linreg.score(test_x_std, y_test)))"
   ]
  },
  {
   "cell_type": "code",
   "execution_count": 74,
   "metadata": {},
   "outputs": [
    {
     "name": "stdout",
     "output_type": "stream",
     "text": [
      "R-squared test score: 0.220\n"
     ]
    }
   ],
   "source": [
    "from sklearn.neighbors import KNeighborsRegressor\n",
    "\n",
    "knnreg = KNeighborsRegressor(n_neighbors = 5).fit(train_x_std, y_train)\n",
    "\n",
    "#\\print(knnreg.predict(X_test))\n",
    "print('R-squared test score: {:.3f}'\n",
    "     .format(knnreg.score(test_x_std, y_test)))"
   ]
  },
  {
   "cell_type": "markdown",
   "metadata": {},
   "source": [
    "## Ridge Regression"
   ]
  },
  {
   "cell_type": "code",
   "execution_count": 28,
   "metadata": {
    "collapsed": true
   },
   "outputs": [],
   "source": [
    "from sklearn.linear_model import Ridge\n",
    "linridge = Ridge(alpha=20.0).fit(train_x_std, y_train)"
   ]
  },
  {
   "cell_type": "code",
   "execution_count": 29,
   "metadata": {},
   "outputs": [
    {
     "data": {
      "text/plain": [
       "0.29365528041934941"
      ]
     },
     "execution_count": 29,
     "metadata": {},
     "output_type": "execute_result"
    }
   ],
   "source": [
    "linridge.score(test_x_std, y_test)"
   ]
  },
  {
   "cell_type": "markdown",
   "metadata": {},
   "source": [
    "#### Let's find a erfect alpha for Ridge"
   ]
  },
  {
   "cell_type": "code",
   "execution_count": 68,
   "metadata": {},
   "outputs": [
    {
     "name": "stdout",
     "output_type": "stream",
     "text": [
      "('best alpha', 0.01)\n"
     ]
    }
   ],
   "source": [
    "from sklearn.linear_model import LinearRegression, RidgeCV, LassoCV\n",
    "ridge = RidgeCV(alphas = [0.01, 0.03, 0.06, 0.1, 0.3, 0.6, 1, 3, 6, 10, 30, 60])\n",
    "ridge.fit(X_train,y_train)\n",
    "alpha = ridge.alpha_\n",
    "print('best alpha',alpha)\n"
   ]
  },
  {
   "cell_type": "code",
   "execution_count": 69,
   "metadata": {},
   "outputs": [
    {
     "name": "stdout",
     "output_type": "stream",
     "text": [
      "('Best alpha :', 0.0060000000000000001)\n"
     ]
    }
   ],
   "source": [
    "ridge = RidgeCV(alphas = [alpha * .6, alpha * .65, alpha * .7, alpha * .75, alpha * .8, alpha * .85, \n",
    "                          alpha * .9, alpha * .95, alpha, alpha * 1.05, alpha * 1.1, alpha * 1.15,\n",
    "                          alpha * 1.25, alpha * 1.3, alpha * 1.35, alpha * 1.4],cv = 5)\n",
    "ridge.fit(X_train, y_train)\n",
    "alpha = ridge.alpha_\n",
    "print(\"Best alpha :\", alpha)"
   ]
  },
  {
   "cell_type": "code",
   "execution_count": 70,
   "metadata": {},
   "outputs": [
    {
     "data": {
      "text/plain": [
       "0.31359534107847187"
      ]
     },
     "execution_count": 70,
     "metadata": {},
     "output_type": "execute_result"
    }
   ],
   "source": [
    "y_train_rdg = ridge.predict(X_train)\n",
    "y_test_rdg = ridge.predict(X_test)\n",
    "ridge.score(X_test,y_test)"
   ]
  },
  {
   "cell_type": "code",
   "execution_count": 71,
   "metadata": {},
   "outputs": [
    {
     "data": {
      "image/png": "[encoded data removed]",
      "text/plain": [
       "<matplotlib.figure.Figure at 0x10ab0e80>"
      ]
     },
     "metadata": {},
     "output_type": "display_data"
    }
   ],
   "source": [
    "plt.scatter(y_train_rdg, y_train_rdg - y_train, c = \"blue\",  label = \"Training data\")\n",
    "plt.scatter(y_test_rdg,y_test_rdg - y_test, c = \"green\",  label = \"Validation data\")\n",
    "plt.title(\"Ridge regression\")\n",
    "plt.xlabel(\"Predicted values\")\n",
    "plt.ylabel(\"Residuals\")\n",
    "plt.legend(loc = \"upper left\")\n",
    "plt.hlines(y = 0, xmin = 10.5, xmax = 13.5, color = \"red\")\n",
    "plt.show()"
   ]
  },
  {
   "cell_type": "code",
   "execution_count": 76,
   "metadata": {},
   "outputs": [
    {
     "name": "stdout",
     "output_type": "stream",
     "text": [
      "Wine dataset\n",
      "ridge regression linear model intercept: [ 13.867503]\n",
      "ridge regression features: ['fixed acidity', 'volatile acidity', 'citric acid', 'residual sugar', 'chlorides', 'free sulfur dioxide', 'total sulfur dioxide', 'density', 'pH', 'sulphates', 'alcohol']\n",
      "ridge regression linear model coeff:\n",
      "[[  3.48099296e+00  -1.93395141e+00  -4.83900193e-02   3.81624591e+00\n",
      "   -6.41408865e+00   4.20261227e+00  -1.34444085e+01  -2.47341825e+01\n",
      "   -1.86097725e-01   1.36712385e+01   5.07069309e+01]]\n",
      "R-squared score (training): 0.338\n",
      "R-squared score (test): 0.314\n",
      "Number of non-zero features: 11\n",
      "Number of zero features: 0\n"
     ]
    }
   ],
   "source": [
    "print('Wine dataset')\n",
    "\n",
    "print('ridge regression linear model intercept: {}'\n",
    "     .format(ridge.intercept_))\n",
    "print('ridge regression features: {}'\n",
    "     .format(features))\n",
    "print('ridge regression linear model coeff:\\n{}'\n",
    "     .format(ridge.coef_))\n",
    "print('R-squared score (training): {:.3f}'\n",
    "     .format(ridge.score(X_train, y_train)))\n",
    "print('R-squared score (test): {:.3f}'\n",
    "     .format(ridge.score(X_test, y_test)))\n",
    "print('Number of non-zero features: {}'\n",
    "     .format(np.sum(ridge.coef_ != 0)))\n",
    "print('Number of zero features: {}'\n",
    "     .format(np.sum(ridge.coef_ == 0)))\n"
   ]
  },
  {
   "cell_type": "code",
   "execution_count": 78,
   "metadata": {
    "collapsed": true
   },
   "outputs": [],
   "source": [
    "\n",
    "from sklearn.model_selection import cross_val_score\n",
    "\n",
    "def rmse_cv(model):\n",
    "    rmse= np.sqrt(-cross_val_score(model, X_train, y_train, scoring=\"neg_mean_squared_error\", cv = 5))\n",
    "    return(rmse)"
   ]
  },
  {
   "cell_type": "code",
   "execution_count": 79,
   "metadata": {
    "collapsed": true
   },
   "outputs": [],
   "source": [
    "from sklearn.linear_model import Ridge\n",
    "alphas = [0.05, 0.1, 0.3, 1, 3, 5, 10, 15, 30, 50, 75]\n",
    "cv_ridge = [rmse_cv(Ridge(alpha = alpha)).mean() \n",
    "            for alpha in alphas]"
   ]
  },
  {
   "cell_type": "code",
   "execution_count": 82,
   "metadata": {},
   "outputs": [
    {
     "data": {
      "text/plain": [
       "<matplotlib.text.Text at 0xec06518>"
      ]
     },
     "execution_count": 82,
     "metadata": {},
     "output_type": "execute_result"
    },
    {
     "data": {
      "image/png": "[encoded data removed]",
      "text/plain": [
       "<matplotlib.figure.Figure at 0xedbce80>"
      ]
     },
     "metadata": {},
     "output_type": "display_data"
    }
   ],
   "source": [
    "cv_ridge = pd.Series(cv_ridge, index = alphas)\n",
    "cv_ridge.plot(title = \"Validation - Just Do It\")\n",
    "plt.xlabel(\"alpha\")\n",
    "plt.ylabel(\"rmse\")"
   ]
  },
  {
   "cell_type": "markdown",
   "metadata": {},
   "source": [
    "### Ridge is not for this dataset"
   ]
  },
  {
   "cell_type": "code",
   "execution_count": 77,
   "metadata": {},
   "outputs": [],
   "source": [
    "# print('Ridge regression: effect of alpha regularization parameter\\n')\n",
    "# for this_alpha in [0, 1, 10, 20, 50, 100, 1000]:\n",
    "#     linridge = Ridge(alpha = this_alpha).fit(train_x_std, y_train)\n",
    "#     r2_train = linridge.score(train_x_std, y_train)\n",
    "#     r2_test = linridge.score(test_x_std, y_test)\n",
    "#     num_coeff_bigger = np.sum(abs(linridge.coef_) > 1.0)\n",
    "#     print('Alpha = {:.2f}\\nnum abs(coeff) > 1.0: {}, \\\n",
    "# r-squared training: {:.2f}, r-squared test: {:.2f}\\n'\n",
    "#          .format(this_alpha, num_coeff_bigger, r2_train, r2_test))"
   ]
  },
  {
   "cell_type": "markdown",
   "metadata": {},
   "source": [
    "## Lasso Regression"
   ]
  },
  {
   "cell_type": "code",
   "execution_count": null,
   "metadata": {
    "collapsed": true
   },
   "outputs": [],
   "source": [
    "# from sklearn.linear_model import Lasso\n",
    "# linlasso = Lasso(alpha=1.0, max_iter = 10000).fit(train_x_std, y_train)"
   ]
  },
  {
   "cell_type": "code",
   "execution_count": 83,
   "metadata": {},
   "outputs": [
    {
     "data": {
      "text/plain": [
       "0.25985937675670834"
      ]
     },
     "execution_count": 83,
     "metadata": {},
     "output_type": "execute_result"
    }
   ],
   "source": [
    "from sklearn.linear_model import Lasso\n",
    "from sklearn.model_selection import KFold\n",
    "from sklearn.model_selection import GridSearchCV\n",
    "\n",
    "\n",
    "#lasso = Lasso(random_state=0)\n",
    "alphas = np.logspace(-4, -0.5, 30)\n",
    "\n",
    "tuned_parameters = [{'alpha': alphas}]\n",
    "n_folds = 3\n",
    "#lasso_cv = LassoCV(alphas=alphas, random_state=0)\n",
    "lasso_cv = LassoCV(alphas = [1, 0.1, 0.001, 0.0005]).fit(X_train, y_train)\n",
    "\n",
    "lasso_cv.fit(X_train, y_train)\n",
    "lasso_cv.score(X_train, y_train)\n",
    "#lasso_cv.predict(X_test)"
   ]
  },
  {
   "cell_type": "code",
   "execution_count": 84,
   "metadata": {},
   "outputs": [
    {
     "name": "stdout",
     "output_type": "stream",
     "text": [
      "Wine dataset\n",
      "lasso regression linear model intercept: 5.2854221215\n",
      "lasso regression linear model coeff:\n",
      "[ -0.          -2.19034307   0.05264839   0.25729065  -6.06239469  -0.\n",
      "  -5.54545049  -0.           0.03357653  11.65130391   3.04341218]\n",
      "Non-zero features: 8\n",
      "R-squared score (training): -5.434\n",
      "R-squared score (test): -4.715\n",
      "\n",
      "Features with non-zero weight (sorted by absolute magnitude):\n",
      "\tsulphates, 11.651\n",
      "\tchlorides, -6.062\n",
      "\ttotal sulfur dioxide, -5.545\n",
      "\talcohol, 3.043\n",
      "\tvolatile acidity, -2.190\n",
      "\tresidual sugar, 0.257\n",
      "\tcitric acid, 0.053\n",
      "\tpH, 0.034\n"
     ]
    }
   ],
   "source": [
    "print('Wine dataset')\n",
    "print('lasso regression linear model intercept: {}'\n",
    "     .format(lasso_cv.intercept_))\n",
    "print('lasso regression linear model coeff:\\n{}'\n",
    "     .format(lasso_cv.coef_))\n",
    "print('Non-zero features: {}'\n",
    "     .format(np.sum(lasso_cv.coef_ != 0)))\n",
    "print('R-squared score (training): {:.3f}'\n",
    "     .format(lasso_cv.score(train_x_std, y_train)))\n",
    "print('R-squared score (test): {:.3f}\\n'\n",
    "     .format(lasso_cv.score(test_x_std, y_test)))\n",
    "print('Features with non-zero weight (sorted by absolute magnitude):')\n",
    "\n",
    "for e in sorted (list(zip(list(X_train), lasso_cv.coef_)),\n",
    "                key = lambda e: -abs(e[1])):\n",
    "    if e[1] != 0:\n",
    "        print('\\t{}, {:.3f}'.format(e[0], e[1]))"
   ]
  },
  {
   "cell_type": "markdown",
   "metadata": {},
   "source": [
    "## Logistic Regression"
   ]
  },
  {
   "cell_type": "code",
   "execution_count": 89,
   "metadata": {},
   "outputs": [
    {
     "name": "stdout",
     "output_type": "stream",
     "text": [
      "('Best C :', array([  1.00000000e+05,   1.00000000e+05,   1.00000000e+06,\n",
      "         1.00000000e+00,   1.00000000e+06,   1.00000000e-10]))\n",
      "Wine dataset\n",
      "Accuracy of Logistic regression classifier on training set: 0.60\n",
      "Accuracy of Logistic regression classifier on test set: 0.62\n"
     ]
    }
   ],
   "source": [
    "from sklearn.linear_model import LogisticRegression,LogisticRegressionCV\n",
    "\n",
    "clf = LogisticRegressionCV(Cs=list(np.power(10.0, np.arange(-10, 10)))).fit(X_train, y_train)\n",
    "\n",
    "print(\"Best C :\", clf.C_)\n",
    "print('Wine dataset')\n",
    "print('Accuracy of Logistic regression classifier on training set: {:.2f}'\n",
    "     .format(clf.score(X_train, y_train)))\n",
    "print('Accuracy of Logistic regression classifier on test set: {:.2f}'\n",
    "     .format(clf.score(X_test, y_test)))"
   ]
  },
  {
   "cell_type": "code",
   "execution_count": 98,
   "metadata": {},
   "outputs": [
    {
     "name": "stdout",
     "output_type": "stream",
     "text": [
      "Logistic regression: effect of C regularization parameter\n",
      "\n",
      "C = 0.10, r-squared training: 0.56, r-squared test: 0.60\n",
      "\n",
      "C = 1.00, r-squared training: 0.59, r-squared test: 0.61\n",
      "\n",
      "C = 100.00, r-squared training: 0.60, r-squared test: 0.62\n",
      "\n",
      "C = 500.00, r-squared training: 0.60, r-squared test: 0.61\n",
      "\n",
      "C = 1000.00, r-squared training: 0.60, r-squared test: 0.61\n",
      "\n"
     ]
    }
   ],
   "source": [
    "print('Logistic regression: effect of C regularization parameter\\n')\n",
    "for this_c in [0.1, 1, 100,500,1000]:\n",
    "    linridge = LogisticRegression(C = this_c).fit(train_x_std, y_train)\n",
    "    r2_train = linridge.score(train_x_std, y_train)\n",
    "    r2_test = linridge.score(test_x_std, y_test)\n",
    "    print('C = {:.2f}, \\\n",
    "r-squared training: {:.2f}, r-squared test: {:.2f}\\n'\n",
    "         .format(this_c, r2_train, r2_test))"
   ]
  },
  {
   "cell_type": "code",
   "execution_count": 35,
   "metadata": {},
   "outputs": [
    {
     "name": "stderr",
     "output_type": "stream",
     "text": [
      "C:\\Users\\jinda\\Anaconda2\\lib\\site-packages\\sklearn\\utils\\validation.py:395: DeprecationWarning: Passing 1d arrays as data is deprecated in 0.17 and will raise ValueError in 0.19. Reshape your data either using X.reshape(-1, 1) if your data has a single feature or X.reshape(1, -1) if it contains a single sample.\n",
      "  DeprecationWarning)\n"
     ]
    },
    {
     "data": {
      "text/plain": [
       "array([5], dtype=int64)"
      ]
     },
     "execution_count": 35,
     "metadata": {},
     "output_type": "execute_result"
    }
   ],
   "source": [
    "clf.predict([ 0.25892857,  0.21232877,  0.29      ,  0.08219178,  0.10517529,\n",
    "        0.25352113,  0.21201413,  0.52202643,  0.51968504,  0.16564417,\n",
    "        0.16923077])"
   ]
  },
  {
   "cell_type": "markdown",
   "metadata": {},
   "source": [
    "## Linear SVC"
   ]
  },
  {
   "cell_type": "code",
   "execution_count": 36,
   "metadata": {},
   "outputs": [
    {
     "name": "stdout",
     "output_type": "stream",
     "text": [
      "Accuracy of Linear SVC classifier on training set: 0.58\n",
      "Accuracy of Linear SVC classifier on test set: 0.62\n",
      "('Coefficients:\\n', array([[ 0.17895561,  0.67589671, -0.20440618,  0.15802829,  0.48236659,\n",
      "         0.08153061, -0.5814566 , -0.03783692,  0.17687611, -0.16181418,\n",
      "        -0.13173679],\n",
      "       [ 0.34820055,  0.67184739,  0.14835802,  0.26680566,  0.17157542,\n",
      "         0.02444577, -0.35403359, -0.45770168,  0.48037265, -0.02023479,\n",
      "        -0.29074006],\n",
      "       [-0.89607071,  0.81011054,  0.22471513, -0.63013182,  0.66167174,\n",
      "        -0.45112021,  1.91195214,  0.72631956, -0.26615914, -1.69635352,\n",
      "        -1.78419783],\n",
      "       [-0.36216818, -0.91042944, -0.5607197 , -0.4503886 , -0.23761216,\n",
      "         0.53655536, -1.34695591,  0.90590225, -0.50301456,  0.57396076,\n",
      "         0.93435023],\n",
      "       [ 1.00837469, -1.43185926, -0.02627224,  0.91288793, -0.73317848,\n",
      "        -0.08696231, -0.62111601, -1.02268755,  0.4940871 ,  1.30649891,\n",
      "         1.03851621],\n",
      "       [-0.34990649,  0.07445299,  0.23672086, -0.17536981, -0.39619605,\n",
      "         0.06179953, -0.345494  , -0.09822969, -0.45202136,  0.20132571,\n",
      "         0.41152994]]))\n",
      "('Intercepts:\\n', array([-1.31475438, -1.19240121,  0.2663729 , -0.14038554, -0.91927383,\n",
      "       -0.83567843]))\n"
     ]
    }
   ],
   "source": [
    "from sklearn.svm import LinearSVC\n",
    "\n",
    "clf = LinearSVC().fit(train_x_std, y_train)\n",
    "print('Accuracy of Linear SVC classifier on training set: {:.2f}'\n",
    "     .format(clf.score(train_x_std, y_train)))\n",
    "print('Accuracy of Linear SVC classifier on test set: {:.2f}'\n",
    "     .format(clf.score(test_x_std, y_test)))\n",
    "print('Coefficients:\\n', clf.coef_)\n",
    "print('Intercepts:\\n', clf.intercept_)"
   ]
  },
  {
   "cell_type": "code",
   "execution_count": 37,
   "metadata": {},
   "outputs": [
    {
     "data": {
      "text/plain": [
       "5    681\n",
       "6    638\n",
       "7    199\n",
       "4     53\n",
       "8     18\n",
       "3     10\n",
       "Name: quality, dtype: int64"
      ]
     },
     "execution_count": 37,
     "metadata": {},
     "output_type": "execute_result"
    }
   ],
   "source": [
    "data.quality.value_counts()"
   ]
  },
  {
   "cell_type": "markdown",
   "metadata": {},
   "source": [
    "## Kernalized SVC"
   ]
  },
  {
   "cell_type": "code",
   "execution_count": 38,
   "metadata": {},
   "outputs": [
    {
     "name": "stdout",
     "output_type": "stream",
     "text": [
      "Accuracy of Linear SVC classifier on training set: 0.56\n",
      "Accuracy of Linear SVC classifier on test set: 0.58\n"
     ]
    }
   ],
   "source": [
    "from sklearn.svm import SVC\n",
    "# Support Vector Classifier: RBF kernel\n",
    "clf = SVC().fit(train_x_std, y_train)\n",
    "print('Accuracy of Linear SVC classifier on training set: {:.2f}'\n",
    "     .format(clf.score(train_x_std, y_train)))\n",
    "print('Accuracy of Linear SVC classifier on test set: {:.2f}'\n",
    "     .format(clf.score(test_x_std, y_test)))"
   ]
  },
  {
   "cell_type": "code",
   "execution_count": 39,
   "metadata": {},
   "outputs": [
    {
     "name": "stdout",
     "output_type": "stream",
     "text": [
      "Accuracy of Linear SVC classifier on training set: 0.43\n",
      "Accuracy of Linear SVC classifier on test set: 0.42\n"
     ]
    }
   ],
   "source": [
    "# Support Vector Classifier: Poly kernel\n",
    "clf = SVC(kernel = 'poly', degree = 3).fit(train_x_std, y_train)\n",
    "print('Accuracy of Linear SVC classifier on training set: {:.2f}'\n",
    "     .format(clf.score(train_x_std, y_train)))\n",
    "print('Accuracy of Linear SVC classifier on test set: {:.2f}'\n",
    "     .format(clf.score(test_x_std, y_test)))"
   ]
  },
  {
   "cell_type": "code",
   "execution_count": 40,
   "metadata": {},
   "outputs": [
    {
     "name": "stdout",
     "output_type": "stream",
     "text": [
      "SVC RBF: effect of  regularization parameter gamma\n",
      "\n",
      "Gamma = 0.01, r-squared training: 0.43, r-squared test: 0.42\n",
      "\n",
      "Gamma = 1.00, r-squared training: 0.59, r-squared test: 0.60\n",
      "\n",
      "Gamma = 10.00, r-squared training: 0.71, r-squared test: 0.62\n",
      "\n",
      "Gamma = 50.00, r-squared training: 0.92, r-squared test: 0.67\n",
      "\n",
      "Gamma = 100.00, r-squared training: 0.98, r-squared test: 0.66\n",
      "\n",
      "Gamma = 120.00, r-squared training: 0.98, r-squared test: 0.63\n",
      "\n",
      "Gamma = 150.00, r-squared training: 0.99, r-squared test: 0.60\n",
      "\n"
     ]
    }
   ],
   "source": [
    "print('SVC RBF: effect of  regularization parameter gamma\\n')\n",
    "for this_gamma in [0.01, 1, 10,50,100,120,150]:\n",
    "    clf = SVC(    kernel = 'rbf', gamma=this_gamma).fit(train_x_std, y_train)\n",
    "    r2_train = clf.score(train_x_std, y_train)\n",
    "    r2_test = clf.score(test_x_std, y_test)\n",
    "    print('Gamma = {:.2f}, \\\n",
    "r-squared training: {:.2f}, r-squared test: {:.2f}\\n'\n",
    "         .format(this_gamma, r2_train, r2_test))\n"
   ]
  },
  {
   "cell_type": "code",
   "execution_count": 41,
   "metadata": {},
   "outputs": [
    {
     "name": "stdout",
     "output_type": "stream",
     "text": [
      "SVC RBF: effect of  regularization parameter gamma and C \n",
      "\n",
      "Gamma = 1.00,C = 0.10         r-squared training: 0.57, r-squared test: 0.59\n",
      "\n",
      "Gamma = 1.00,C = 1.00         r-squared training: 0.59, r-squared test: 0.60\n",
      "\n",
      "Gamma = 1.00,C = 15.00         r-squared training: 0.66, r-squared test: 0.61\n",
      "\n",
      "Gamma = 10.00,C = 0.10         r-squared training: 0.59, r-squared test: 0.60\n",
      "\n",
      "Gamma = 10.00,C = 1.00         r-squared training: 0.71, r-squared test: 0.62\n",
      "\n",
      "Gamma = 10.00,C = 15.00         r-squared training: 0.92, r-squared test: 0.63\n",
      "\n",
      "Gamma = 50.00,C = 0.10         r-squared training: 0.43, r-squared test: 0.42\n",
      "\n",
      "Gamma = 50.00,C = 1.00         r-squared training: 0.92, r-squared test: 0.67\n",
      "\n",
      "Gamma = 50.00,C = 15.00         r-squared training: 1.00, r-squared test: 0.64\n",
      "\n",
      "Gamma = 100.00,C = 0.10         r-squared training: 0.43, r-squared test: 0.42\n",
      "\n",
      "Gamma = 100.00,C = 1.00         r-squared training: 0.98, r-squared test: 0.66\n",
      "\n",
      "Gamma = 100.00,C = 15.00         r-squared training: 1.00, r-squared test: 0.65\n",
      "\n"
     ]
    }
   ],
   "source": [
    "print('SVC RBF: effect of  regularization parameter gamma and C \\n')\n",
    "for this_gamma in [1, 10,50,100]:\n",
    "    for this_C in [0.1, 1, 15]:\n",
    "        \n",
    "        clf = SVC(    kernel = 'rbf', gamma=this_gamma, C = this_C).fit(train_x_std, y_train)\n",
    "        r2_train = clf.score(train_x_std, y_train)\n",
    "        r2_test = clf.score(test_x_std, y_test)\n",
    "        print('Gamma = {:.2f},C = {:.2f} \\\n",
    "        r-squared training: {:.2f}, r-squared test: {:.2f}\\n'\n",
    "         .format(this_gamma,this_C, r2_train, r2_test))"
   ]
  },
  {
   "cell_type": "markdown",
   "metadata": {
    "collapsed": true
   },
   "source": [
    "## Decision Tree Classifier"
   ]
  },
  {
   "cell_type": "code",
   "execution_count": 47,
   "metadata": {},
   "outputs": [
    {
     "name": "stdout",
     "output_type": "stream",
     "text": [
      "Max depth: 2.00 R Squared train data: 0.55, R Squared test data 0.53\n",
      "\n",
      "Max depth: 4.00 R Squared train data: 0.61, R Squared test data 0.56\n",
      "\n",
      "Max depth: 8.00 R Squared train data: 0.77, R Squared test data 0.59\n",
      "\n",
      "Max depth: 16.00 R Squared train data: 0.99, R Squared test data 0.64\n",
      "\n",
      "Max depth: 20.00 R Squared train data: 1.00, R Squared test data 0.61\n",
      "\n",
      "Max depth: 25.00 R Squared train data: 1.00, R Squared test data 0.62\n",
      "\n",
      "Max depth: 26.00 R Squared train data: 1.00, R Squared test data 0.62\n",
      "\n",
      "Max depth: 27.00 R Squared train data: 1.00, R Squared test data 0.64\n",
      "\n",
      "Max depth: 28.00 R Squared train data: 1.00, R Squared test data 0.63\n",
      "\n"
     ]
    }
   ],
   "source": [
    "from sklearn.tree import DecisionTreeClassifier\n",
    "\n",
    "for this_depth in [2,4,8,16,20,25,26,27,28]:\n",
    "    clf = DecisionTreeClassifier(max_depth = this_depth)\n",
    "    dtree = clf.fit(X_train,y_train)\n",
    "    print('Max depth: {:.2f} R Squared train data: {:.2f}, R Squared test data {:.2f}\\n'.format(this_depth,dtree.score(X_train,y_train),dtree.score(X_test,y_test)))\n",
    "    "
   ]
  },
  {
   "cell_type": "code",
   "execution_count": null,
   "metadata": {
    "collapsed": true
   },
   "outputs": [],
   "source": []
  }
 ],
 "metadata": {
  "kernelspec": {
   "display_name": "Python 2",
   "language": "python",
   "name": "python2"
  },
  "language_info": {
   "codemirror_mode": {
    "name": "ipython",
    "version": 2
   },
   "file_extension": ".py",
   "mimetype": "text/x-python",
   "name": "python",
   "nbconvert_exporter": "python",
   "pygments_lexer": "ipython2",
   "version": "2.7.13"
  }
 },
 "nbformat": 4,
 "nbformat_minor": 2
}
