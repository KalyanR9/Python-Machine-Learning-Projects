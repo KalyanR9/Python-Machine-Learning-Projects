{
 "cells": [
  {
   "cell_type": "code",
   "execution_count": 1,
   "metadata": {
    "collapsed": true
   },
   "outputs": [],
   "source": [
    "import pandas as pd\n",
    "import numpy as np\n",
    "from pandas import DataFrame,Series\n",
    "import matplotlib.pyplot as plt\n",
    "%matplotlib inline"
   ]
  },
  {
   "cell_type": "code",
   "execution_count": 2,
   "metadata": {
    "collapsed": true
   },
   "outputs": [],
   "source": [
    "#data = pd.read_csv('‪D:\\Data\\UCI Datasets\\winequality-red.csv',sep = ';')\n",
    "data = pd.read_csv('D:\\Data\\UCI_Datasets\\winequality-red.csv',sep = ';')"
   ]
  },
  {
   "cell_type": "code",
   "execution_count": 3,
   "metadata": {},
   "outputs": [
    {
     "data": {
      "text/plain": [
       "(1599, 12)"
      ]
     },
     "execution_count": 3,
     "metadata": {},
     "output_type": "execute_result"
    }
   ],
   "source": [
    "data.shape"
   ]
  },
  {
   "cell_type": "code",
   "execution_count": 4,
   "metadata": {
    "scrolled": true
   },
   "outputs": [
    {
     "data": {
      "text/html": [
       "<div>\n",
       "<style>\n",
       "    .dataframe thead tr:only-child th {\n",
       "        text-align: right;\n",
       "    }\n",
       "\n",
       "    .dataframe thead th {\n",
       "        text-align: left;\n",
       "    }\n",
       "\n",
       "    .dataframe tbody tr th {\n",
       "        vertical-align: top;\n",
       "    }\n",
       "</style>\n",
       "<table border=\"1\" class=\"dataframe\">\n",
       "  <thead>\n",
       "    <tr style=\"text-align: right;\">\n",
       "      <th></th>\n",
       "      <th>fixed acidity</th>\n",
       "      <th>volatile acidity</th>\n",
       "      <th>citric acid</th>\n",
       "      <th>residual sugar</th>\n",
       "      <th>chlorides</th>\n",
       "      <th>free sulfur dioxide</th>\n",
       "      <th>total sulfur dioxide</th>\n",
       "      <th>density</th>\n",
       "      <th>pH</th>\n",
       "      <th>sulphates</th>\n",
       "      <th>alcohol</th>\n",
       "      <th>quality</th>\n",
       "    </tr>\n",
       "  </thead>\n",
       "  <tbody>\n",
       "    <tr>\n",
       "      <th>0</th>\n",
       "      <td>7.4</td>\n",
       "      <td>0.7</td>\n",
       "      <td>0.0</td>\n",
       "      <td>1.9</td>\n",
       "      <td>0.076</td>\n",
       "      <td>11.0</td>\n",
       "      <td>34.0</td>\n",
       "      <td>0.9978</td>\n",
       "      <td>3.51</td>\n",
       "      <td>0.56</td>\n",
       "      <td>9.4</td>\n",
       "      <td>5</td>\n",
       "    </tr>\n",
       "  </tbody>\n",
       "</table>\n",
       "</div>"
      ],
      "text/plain": [
       "   fixed acidity  volatile acidity  citric acid  residual sugar  chlorides  \\\n",
       "0            7.4               0.7          0.0             1.9      0.076   \n",
       "\n",
       "   free sulfur dioxide  total sulfur dioxide  density    pH  sulphates  \\\n",
       "0                 11.0                  34.0   0.9978  3.51       0.56   \n",
       "\n",
       "   alcohol  quality  \n",
       "0      9.4        5  "
      ]
     },
     "execution_count": 4,
     "metadata": {},
     "output_type": "execute_result"
    }
   ],
   "source": [
    "data.head(1)"
   ]
  },
  {
   "cell_type": "code",
   "execution_count": 5,
   "metadata": {},
   "outputs": [
    {
     "data": {
      "text/plain": [
       "fixed acidity           False\n",
       "volatile acidity        False\n",
       "citric acid             False\n",
       "residual sugar          False\n",
       "chlorides               False\n",
       "free sulfur dioxide     False\n",
       "total sulfur dioxide    False\n",
       "density                 False\n",
       "pH                      False\n",
       "sulphates               False\n",
       "alcohol                 False\n",
       "quality                 False\n",
       "dtype: bool"
      ]
     },
     "execution_count": 5,
     "metadata": {},
     "output_type": "execute_result"
    }
   ],
   "source": [
    "data.isnull().any()"
   ]
  },
  {
   "cell_type": "code",
   "execution_count": 6,
   "metadata": {
    "scrolled": true
   },
   "outputs": [
    {
     "data": {
      "text/plain": [
       "['fixed acidity',\n",
       " 'volatile acidity',\n",
       " 'citric acid',\n",
       " 'residual sugar',\n",
       " 'chlorides',\n",
       " 'free sulfur dioxide',\n",
       " 'total sulfur dioxide',\n",
       " 'density',\n",
       " 'pH',\n",
       " 'sulphates',\n",
       " 'alcohol',\n",
       " 'quality']"
      ]
     },
     "execution_count": 6,
     "metadata": {},
     "output_type": "execute_result"
    }
   ],
   "source": [
    "data.columns.tolist()"
   ]
  },
  {
   "cell_type": "code",
   "execution_count": 7,
   "metadata": {
    "collapsed": true
   },
   "outputs": [],
   "source": [
    "features = ['fixed acidity',\n",
    " 'volatile acidity',\n",
    " 'citric acid',\n",
    " 'residual sugar',\n",
    " 'chlorides',\n",
    " 'free sulfur dioxide',\n",
    " 'total sulfur dioxide',\n",
    " 'density',\n",
    " 'pH',\n",
    " 'sulphates',\n",
    " 'alcohol']\n",
    "target = ['quality']"
   ]
  },
  {
   "cell_type": "code",
   "execution_count": 8,
   "metadata": {
    "collapsed": true
   },
   "outputs": [],
   "source": [
    "import warnings\n",
    "warnings.filterwarnings('ignore')"
   ]
  },
  {
   "cell_type": "markdown",
   "metadata": {},
   "source": [
    "### most correlated features"
   ]
  },
  {
   "cell_type": "code",
   "execution_count": 9,
   "metadata": {},
   "outputs": [
    {
     "data": {
      "image/png": "[encoded data removed]",
      "text/plain": [
       "<matplotlib.figure.Figure at 0xe277630>"
      ]
     },
     "metadata": {},
     "output_type": "display_data"
    }
   ],
   "source": [
    "import seaborn as sns\n",
    "corrmat = data.corr()\n",
    "plt.figure(figsize = (10,7))\n",
    "# or fig, ax = plt.subplots(figsize=(20, 10))\n",
    "#top_corr_features = corrmat.index[abs(corrmat[\"quality\"])>0.2]\n",
    "g = sns.heatmap(data.corr(),annot=True,cmap=\"RdYlGn\")"
   ]
  },
  {
   "cell_type": "code",
   "execution_count": 10,
   "metadata": {},
   "outputs": [
    {
     "name": "stdout",
     "output_type": "stream",
     "text": [
      "quality                 1.000000\n",
      "alcohol                 0.476166\n",
      "sulphates               0.251397\n",
      "citric acid             0.226373\n",
      "fixed acidity           0.124052\n",
      "residual sugar          0.013732\n",
      "free sulfur dioxide    -0.050656\n",
      "pH                     -0.057731\n",
      "chlorides              -0.128907\n",
      "density                -0.174919\n",
      "total sulfur dioxide   -0.185100\n",
      "volatile acidity       -0.390558\n",
      "Name: quality, dtype: float64\n"
     ]
    }
   ],
   "source": [
    "corrmat.sort_values([\"quality\"], ascending = False, inplace = True)\n",
    "print(corrmat.quality)"
   ]
  },
  {
   "cell_type": "markdown",
   "metadata": {},
   "source": [
    "Alchol contributes highest to the quality of a fine wine and volatile acidity negatively affects the wine quality"
   ]
  },
  {
   "cell_type": "code",
   "execution_count": 11,
   "metadata": {},
   "outputs": [
    {
     "name": "stdout",
     "output_type": "stream",
     "text": [
      "NAs for features in whole data : 0\n"
     ]
    }
   ],
   "source": [
    "print(\"NAs for features in whole data : \" + str(data.isnull().values.sum()))"
   ]
  },
  {
   "cell_type": "markdown",
   "metadata": {},
   "source": [
    "## Skewness"
   ]
  },
  {
   "cell_type": "code",
   "execution_count": 12,
   "metadata": {},
   "outputs": [
    {
     "data": {
      "text/plain": [
       "fixed acidity           0.981829\n",
       "volatile acidity        0.670962\n",
       "residual sugar          4.536395\n",
       "chlorides               5.675017\n",
       "free sulfur dioxide     1.249394\n",
       "total sulfur dioxide    1.514109\n",
       "sulphates               2.426393\n",
       "alcohol                 0.860021\n",
       "dtype: float64"
      ]
     },
     "execution_count": 12,
     "metadata": {},
     "output_type": "execute_result"
    }
   ],
   "source": [
    "from scipy.stats import skew \n",
    "skewness = data.apply(lambda x:skew(x.dropna()))\n",
    "skewness = skewness[abs(skewness) > 0.5]\n",
    "skewness"
   ]
  },
  {
   "cell_type": "code",
   "execution_count": 13,
   "metadata": {},
   "outputs": [
    {
     "data": {
      "text/html": [
       "<div>\n",
       "<style>\n",
       "    .dataframe thead tr:only-child th {\n",
       "        text-align: right;\n",
       "    }\n",
       "\n",
       "    .dataframe thead th {\n",
       "        text-align: left;\n",
       "    }\n",
       "\n",
       "    .dataframe tbody tr th {\n",
       "        vertical-align: top;\n",
       "    }\n",
       "</style>\n",
       "<table border=\"1\" class=\"dataframe\">\n",
       "  <thead>\n",
       "    <tr style=\"text-align: right;\">\n",
       "      <th></th>\n",
       "      <th>fixed acidity</th>\n",
       "      <th>volatile acidity</th>\n",
       "      <th>residual sugar</th>\n",
       "      <th>chlorides</th>\n",
       "      <th>free sulfur dioxide</th>\n",
       "      <th>total sulfur dioxide</th>\n",
       "      <th>sulphates</th>\n",
       "      <th>alcohol</th>\n",
       "    </tr>\n",
       "  </thead>\n",
       "  <tbody>\n",
       "    <tr>\n",
       "      <th>0</th>\n",
       "      <td>7.4</td>\n",
       "      <td>0.70</td>\n",
       "      <td>1.9</td>\n",
       "      <td>0.076</td>\n",
       "      <td>11.0</td>\n",
       "      <td>34.0</td>\n",
       "      <td>0.56</td>\n",
       "      <td>9.4</td>\n",
       "    </tr>\n",
       "    <tr>\n",
       "      <th>1</th>\n",
       "      <td>7.8</td>\n",
       "      <td>0.88</td>\n",
       "      <td>2.6</td>\n",
       "      <td>0.098</td>\n",
       "      <td>25.0</td>\n",
       "      <td>67.0</td>\n",
       "      <td>0.68</td>\n",
       "      <td>9.8</td>\n",
       "    </tr>\n",
       "  </tbody>\n",
       "</table>\n",
       "</div>"
      ],
      "text/plain": [
       "   fixed acidity  volatile acidity  residual sugar  chlorides  \\\n",
       "0            7.4              0.70             1.9      0.076   \n",
       "1            7.8              0.88             2.6      0.098   \n",
       "\n",
       "   free sulfur dioxide  total sulfur dioxide  sulphates  alcohol  \n",
       "0                 11.0                  34.0       0.56      9.4  \n",
       "1                 25.0                  67.0       0.68      9.8  "
      ]
     },
     "execution_count": 13,
     "metadata": {},
     "output_type": "execute_result"
    }
   ],
   "source": [
    "skew_features = data[skewness.index]\n",
    "skew_features[:2]"
   ]
  },
  {
   "cell_type": "code",
   "execution_count": 14,
   "metadata": {
    "collapsed": true
   },
   "outputs": [],
   "source": [
    "skew_features  = np.log1p(skew_features)\n"
   ]
  },
  {
   "cell_type": "code",
   "execution_count": 15,
   "metadata": {
    "collapsed": true,
    "scrolled": true
   },
   "outputs": [],
   "source": [
    "data[skew_features.columns] = skew_features"
   ]
  },
  {
   "cell_type": "code",
   "execution_count": 16,
   "metadata": {},
   "outputs": [
    {
     "name": "stdout",
     "output_type": "stream",
     "text": [
      "NAs for numerical features in data : 0\n"
     ]
    }
   ],
   "source": [
    "print(\"NAs for numerical features in data : \" + str(data.isnull().values.sum()))\n"
   ]
  },
  {
   "cell_type": "code",
   "execution_count": 17,
   "metadata": {
    "collapsed": true
   },
   "outputs": [],
   "source": [
    "from sklearn.model_selection import train_test_split # to split the data into two parts\n",
    "train, test = train_test_split(data,random_state = 0)\n",
    "#Fill the training and test data with require information\n",
    "X_train = train[features] \n",
    "y_train = train[target]\n",
    "X_test = test[features]\n",
    "y_test = test[target]\n"
   ]
  },
  {
   "cell_type": "markdown",
   "metadata": {},
   "source": [
    "## With Standard Features Normalization"
   ]
  },
  {
   "cell_type": "code",
   "execution_count": 18,
   "metadata": {
    "collapsed": true
   },
   "outputs": [],
   "source": [
    "from sklearn.preprocessing import MinMaxScaler\n",
    "sc = MinMaxScaler()\n",
    "train_x_std = sc.fit_transform(X_train)\n",
    "test_x_std = sc.transform(X_test)\n"
   ]
  },
  {
   "cell_type": "markdown",
   "metadata": {},
   "source": [
    "## Logistic Regression"
   ]
  },
  {
   "cell_type": "code",
   "execution_count": 19,
   "metadata": {},
   "outputs": [
    {
     "name": "stdout",
     "output_type": "stream",
     "text": [
      "('Best C :', array([  1.00000000e+02,   1.00000000e+03,   1.00000000e+03,\n",
      "         1.00000000e-10,   1.00000000e+01,   1.00000000e-10]))\n",
      "Wine dataset\n",
      "Accuracy of Logistic regression classifier on training set: 0.59\n",
      "Accuracy of Logistic regression classifier on test set: 0.61\n"
     ]
    }
   ],
   "source": [
    "from sklearn.linear_model import LogisticRegression,LogisticRegressionCV\n",
    "\n",
    "clf = LogisticRegressionCV(Cs=list(np.power(10.0, np.arange(-10, 10)))).fit(X_train, y_train)\n",
    "\n",
    "print(\"Best C :\", clf.C_)\n",
    "print('Wine dataset')\n",
    "print('Accuracy of Logistic regression classifier on training set: {:.2f}'\n",
    "     .format(clf.score(X_train, y_train)))\n",
    "print('Accuracy of Logistic regression classifier on test set: {:.2f}'\n",
    "     .format(clf.score(X_test, y_test)))"
   ]
  },
  {
   "cell_type": "code",
   "execution_count": 20,
   "metadata": {},
   "outputs": [
    {
     "name": "stdout",
     "output_type": "stream",
     "text": [
      "Logistic regression: effect of C regularization parameter\n",
      "\n",
      "C = 0.10, r-squared training: 0.55, r-squared test: 0.60\n",
      "\n",
      "C = 1.00, r-squared training: 0.59, r-squared test: 0.61\n",
      "\n",
      "C = 100.00, r-squared training: 0.60, r-squared test: 0.62\n",
      "\n",
      "C = 500.00, r-squared training: 0.60, r-squared test: 0.62\n",
      "\n",
      "C = 1000.00, r-squared training: 0.60, r-squared test: 0.62\n",
      "\n"
     ]
    }
   ],
   "source": [
    "print('Logistic regression: effect of C regularization parameter\\n')\n",
    "for this_c in [0.1, 1, 100,500,1000]:\n",
    "    linridge = LogisticRegression(C = this_c).fit(train_x_std, y_train)\n",
    "    r2_train = linridge.score(train_x_std, y_train)\n",
    "    r2_test = linridge.score(test_x_std, y_test)\n",
    "    print('C = {:.2f}, \\\n",
    "r-squared training: {:.2f}, r-squared test: {:.2f}\\n'\n",
    "         .format(this_c, r2_train, r2_test))"
   ]
  },
  {
   "cell_type": "code",
   "execution_count": 21,
   "metadata": {},
   "outputs": [
    {
     "name": "stderr",
     "output_type": "stream",
     "text": [
      "C:\\Users\\jinda\\Anaconda2\\lib\\site-packages\\sklearn\\utils\\validation.py:395: DeprecationWarning: Passing 1d arrays as data is deprecated in 0.17 and will raise ValueError in 0.19. Reshape your data either using X.reshape(-1, 1) if your data has a single feature or X.reshape(1, -1) if it contains a single sample.\n",
      "  DeprecationWarning)\n"
     ]
    },
    {
     "data": {
      "text/plain": [
       "array([5], dtype=int64)"
      ]
     },
     "execution_count": 21,
     "metadata": {},
     "output_type": "execute_result"
    }
   ],
   "source": [
    "clf.predict([ 0.25892857,  0.21232877,  0.29      ,  0.08219178,  0.10517529,\n",
    "        0.25352113,  0.21201413,  0.52202643,  0.51968504,  0.16564417,\n",
    "        0.16923077])"
   ]
  },
  {
   "cell_type": "markdown",
   "metadata": {},
   "source": [
    "## Linear SVC"
   ]
  },
  {
   "cell_type": "code",
   "execution_count": 22,
   "metadata": {},
   "outputs": [
    {
     "name": "stdout",
     "output_type": "stream",
     "text": [
      "Accuracy of Linear SVC classifier on training set: 0.59\n",
      "Accuracy of Linear SVC classifier on test set: 0.61\n",
      "('Coefficients:\\n', array([[ 0.12510262,  0.6438307 , -0.16806602,  0.10429511,  0.49907231,\n",
      "         0.14243754, -0.47366326,  0.01446453,  0.19433018, -0.14945462,\n",
      "        -0.13597885],\n",
      "       [ 0.2675533 ,  0.60661131,  0.17809617,  0.24537267,  0.15241345,\n",
      "         0.09585201, -0.29665046, -0.44093785,  0.47540063, -0.06595052,\n",
      "        -0.29394834],\n",
      "       [-0.98511448,  0.87603469,  0.41031318, -0.31870655,  0.4751926 ,\n",
      "        -0.68987766,  1.27797991,  0.61499308, -0.3488291 , -1.56046401,\n",
      "        -1.71132936],\n",
      "       [-0.35889485, -0.86762877, -0.67914706, -0.69964687, -0.10007764,\n",
      "         0.48859524, -0.5866665 ,  1.24160207, -0.54106276,  0.47451964,\n",
      "         1.12306159],\n",
      "       [ 1.06012527, -1.26646935, -0.11704457,  0.92701817, -0.75511807,\n",
      "         0.38317293, -0.83361653, -1.10158877,  0.54023158,  1.38353548,\n",
      "         0.9607674 ],\n",
      "       [-0.38123162,  0.08407232,  0.26180977, -0.16834817, -0.38825292,\n",
      "         0.03936408, -0.21430373, -0.04664171, -0.46109449,  0.2255273 ,\n",
      "         0.42356076]]))\n",
      "('Intercepts:\\n', array([-1.35244679, -1.21884486,  0.49244249, -0.24018749, -1.15787873,\n",
      "       -0.79962674]))\n"
     ]
    }
   ],
   "source": [
    "from sklearn.svm import LinearSVC\n",
    "\n",
    "clf = LinearSVC().fit(train_x_std, y_train)\n",
    "print('Accuracy of Linear SVC classifier on training set: {:.2f}'\n",
    "     .format(clf.score(train_x_std, y_train)))\n",
    "print('Accuracy of Linear SVC classifier on test set: {:.2f}'\n",
    "     .format(clf.score(test_x_std, y_test)))\n",
    "print('Coefficients:\\n', clf.coef_)\n",
    "print('Intercepts:\\n', clf.intercept_)"
   ]
  },
  {
   "cell_type": "code",
   "execution_count": 23,
   "metadata": {},
   "outputs": [
    {
     "data": {
      "text/plain": [
       "5    681\n",
       "6    638\n",
       "7    199\n",
       "4     53\n",
       "8     18\n",
       "3     10\n",
       "Name: quality, dtype: int64"
      ]
     },
     "execution_count": 23,
     "metadata": {},
     "output_type": "execute_result"
    }
   ],
   "source": [
    "data.quality.value_counts()"
   ]
  },
  {
   "cell_type": "markdown",
   "metadata": {},
   "source": [
    "## Kernalized SVC"
   ]
  },
  {
   "cell_type": "code",
   "execution_count": 24,
   "metadata": {},
   "outputs": [
    {
     "name": "stdout",
     "output_type": "stream",
     "text": [
      "Accuracy of Linear SVC classifier on training set: 0.57\n",
      "Accuracy of Linear SVC classifier on test set: 0.59\n"
     ]
    }
   ],
   "source": [
    "from sklearn.svm import SVC\n",
    "# Support Vector Classifier: RBF kernel\n",
    "clf = SVC().fit(train_x_std, y_train)\n",
    "print('Accuracy of Linear SVC classifier on training set: {:.2f}'\n",
    "     .format(clf.score(train_x_std, y_train)))\n",
    "print('Accuracy of Linear SVC classifier on test set: {:.2f}'\n",
    "     .format(clf.score(test_x_std, y_test)))"
   ]
  },
  {
   "cell_type": "code",
   "execution_count": 25,
   "metadata": {},
   "outputs": [
    {
     "name": "stdout",
     "output_type": "stream",
     "text": [
      "Accuracy of Linear SVC classifier on training set: 0.43\n",
      "Accuracy of Linear SVC classifier on test set: 0.42\n"
     ]
    }
   ],
   "source": [
    "# Support Vector Classifier: Poly kernel\n",
    "clf = SVC(kernel = 'poly', degree = 3).fit(train_x_std, y_train)\n",
    "print('Accuracy of Linear SVC classifier on training set: {:.2f}'\n",
    "     .format(clf.score(train_x_std, y_train)))\n",
    "print('Accuracy of Linear SVC classifier on test set: {:.2f}'\n",
    "     .format(clf.score(test_x_std, y_test)))"
   ]
  },
  {
   "cell_type": "code",
   "execution_count": 26,
   "metadata": {},
   "outputs": [
    {
     "name": "stdout",
     "output_type": "stream",
     "text": [
      "SVC RBF: effect of  regularization parameter gamma\n",
      "\n",
      "Gamma = 0.01, r-squared training: 0.43, r-squared test: 0.43\n",
      "\n",
      "Gamma = 1.00, r-squared training: 0.62, r-squared test: 0.62\n",
      "\n",
      "Gamma = 10.00, r-squared training: 0.74, r-squared test: 0.62\n",
      "\n",
      "Gamma = 50.00, r-squared training: 0.96, r-squared test: 0.66\n",
      "\n",
      "Gamma = 100.00, r-squared training: 0.99, r-squared test: 0.62\n",
      "\n",
      "Gamma = 120.00, r-squared training: 0.99, r-squared test: 0.59\n",
      "\n",
      "Gamma = 150.00, r-squared training: 1.00, r-squared test: 0.58\n",
      "\n"
     ]
    }
   ],
   "source": [
    "print('SVC RBF: effect of  regularization parameter gamma\\n')\n",
    "for this_gamma in [0.01, 1, 10,50,100,120,150]:\n",
    "    clf = SVC(    kernel = 'rbf', gamma=this_gamma).fit(train_x_std, y_train)\n",
    "    r2_train = clf.score(train_x_std, y_train)\n",
    "    r2_test = clf.score(test_x_std, y_test)\n",
    "    print('Gamma = {:.2f}, \\\n",
    "r-squared training: {:.2f}, r-squared test: {:.2f}\\n'\n",
    "         .format(this_gamma, r2_train, r2_test))\n"
   ]
  },
  {
   "cell_type": "code",
   "execution_count": 27,
   "metadata": {},
   "outputs": [
    {
     "name": "stdout",
     "output_type": "stream",
     "text": [
      "SVC RBF: effect of  regularization parameter gamma and C \n",
      "\n",
      "Gamma = 1.00,C = 0.10         r-squared training: 0.57, r-squared test: 0.60\n",
      "\n",
      "Gamma = 1.00,C = 1.00         r-squared training: 0.62, r-squared test: 0.62\n",
      "\n",
      "Gamma = 1.00,C = 15.00         r-squared training: 0.68, r-squared test: 0.61\n",
      "\n",
      "Gamma = 10.00,C = 0.10         r-squared training: 0.60, r-squared test: 0.60\n",
      "\n",
      "Gamma = 10.00,C = 1.00         r-squared training: 0.74, r-squared test: 0.62\n",
      "\n",
      "Gamma = 10.00,C = 15.00         r-squared training: 0.96, r-squared test: 0.65\n",
      "\n",
      "Gamma = 50.00,C = 0.10         r-squared training: 0.43, r-squared test: 0.42\n",
      "\n",
      "Gamma = 50.00,C = 1.00         r-squared training: 0.96, r-squared test: 0.66\n",
      "\n",
      "Gamma = 50.00,C = 15.00         r-squared training: 1.00, r-squared test: 0.66\n",
      "\n",
      "Gamma = 100.00,C = 0.10         r-squared training: 0.43, r-squared test: 0.42\n",
      "\n",
      "Gamma = 100.00,C = 1.00         r-squared training: 0.99, r-squared test: 0.62\n",
      "\n",
      "Gamma = 100.00,C = 15.00         r-squared training: 1.00, r-squared test: 0.62\n",
      "\n"
     ]
    }
   ],
   "source": [
    "print('SVC RBF: effect of  regularization parameter gamma and C \\n')\n",
    "for this_gamma in [1, 10,50,100]:\n",
    "    for this_C in [0.1, 1, 15]:\n",
    "        \n",
    "        clf = SVC(    kernel = 'rbf', gamma=this_gamma, C = this_C).fit(train_x_std, y_train)\n",
    "        r2_train = clf.score(train_x_std, y_train)\n",
    "        r2_test = clf.score(test_x_std, y_test)\n",
    "        print('Gamma = {:.2f},C = {:.2f} \\\n",
    "        r-squared training: {:.2f}, r-squared test: {:.2f}\\n'\n",
    "         .format(this_gamma,this_C, r2_train, r2_test))"
   ]
  },
  {
   "cell_type": "markdown",
   "metadata": {
    "collapsed": true
   },
   "source": [
    "## Decision Tree Classifier"
   ]
  },
  {
   "cell_type": "code",
   "execution_count": 28,
   "metadata": {},
   "outputs": [
    {
     "name": "stdout",
     "output_type": "stream",
     "text": [
      "Max depth: 2.00 R Squared train data: 0.55, R Squared test data 0.53\n",
      "\n",
      "Max depth: 4.00 R Squared train data: 0.61, R Squared test data 0.56\n",
      "\n",
      "Max depth: 8.00 R Squared train data: 0.77, R Squared test data 0.58\n",
      "\n",
      "Max depth: 16.00 R Squared train data: 0.99, R Squared test data 0.62\n",
      "\n",
      "Max depth: 20.00 R Squared train data: 1.00, R Squared test data 0.62\n",
      "\n",
      "Max depth: 25.00 R Squared train data: 1.00, R Squared test data 0.60\n",
      "\n",
      "Max depth: 26.00 R Squared train data: 1.00, R Squared test data 0.64\n",
      "\n",
      "Max depth: 27.00 R Squared train data: 1.00, R Squared test data 0.62\n",
      "\n",
      "Max depth: 28.00 R Squared train data: 1.00, R Squared test data 0.65\n",
      "\n"
     ]
    }
   ],
   "source": [
    "from sklearn.tree import DecisionTreeClassifier\n",
    "\n",
    "for this_depth in [2,4,8,16,20,25,26,27,28]:\n",
    "    clf = DecisionTreeClassifier(max_depth = this_depth)\n",
    "    dtree = clf.fit(X_train,y_train)\n",
    "    print('Max depth: {:.2f} R Squared train data: {:.2f}, R Squared test data {:.2f}\\n'.format(this_depth,dtree.score(X_train,y_train),dtree.score(X_test,y_test)))\n",
    "    "
   ]
  },
  {
   "cell_type": "code",
   "execution_count": null,
   "metadata": {
    "collapsed": true
   },
   "outputs": [],
   "source": []
  }
 ],
 "metadata": {
  "kernelspec": {
   "display_name": "Python 2",
   "language": "python",
   "name": "python2"
  },
  "language_info": {
   "codemirror_mode": {
    "name": "ipython",
    "version": 2
   },
   "file_extension": ".py",
   "mimetype": "text/x-python",
   "name": "python",
   "nbconvert_exporter": "python",
   "pygments_lexer": "ipython2",
   "version": "2.7.13"
  }
 },
 "nbformat": 4,
 "nbformat_minor": 2
}
