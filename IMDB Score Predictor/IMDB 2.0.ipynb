{
 "cells": [
  {
   "cell_type": "code",
   "execution_count": 162,
   "metadata": {
    "collapsed": true
   },
   "outputs": [],
   "source": [
    "import pandas as pd\n",
    "import numpy as np\n",
    "from pandas import DataFrame,Series\n",
    "import matplotlib.pyplot as plt\n",
    "%matplotlib inline\n",
    "import seaborn as sns\n",
    "pd.options.display.max_columns = 999\n",
    "import warnings\n",
    "warnings.filterwarnings(\"ignore\")\n",
    "data = pd.read_csv('D:\\Data\\kaggle datasets\\movie_IMDB.csv')"
   ]
  },
  {
   "cell_type": "code",
   "execution_count": 163,
   "metadata": {
    "scrolled": true
   },
   "outputs": [
    {
     "data": {
      "text/html": [
       "<div>\n",
       "<style>\n",
       "    .dataframe thead tr:only-child th {\n",
       "        text-align: right;\n",
       "    }\n",
       "\n",
       "    .dataframe thead th {\n",
       "        text-align: left;\n",
       "    }\n",
       "\n",
       "    .dataframe tbody tr th {\n",
       "        vertical-align: top;\n",
       "    }\n",
       "</style>\n",
       "<table border=\"1\" class=\"dataframe\">\n",
       "  <thead>\n",
       "    <tr style=\"text-align: right;\">\n",
       "      <th></th>\n",
       "      <th>color</th>\n",
       "      <th>director_name</th>\n",
       "      <th>num_critic_for_reviews</th>\n",
       "      <th>duration</th>\n",
       "      <th>director_facebook_likes</th>\n",
       "      <th>actor_3_facebook_likes</th>\n",
       "      <th>actor_2_name</th>\n",
       "      <th>actor_1_facebook_likes</th>\n",
       "      <th>gross</th>\n",
       "      <th>genres</th>\n",
       "      <th>actor_1_name</th>\n",
       "      <th>movie_title</th>\n",
       "      <th>num_voted_users</th>\n",
       "      <th>cast_total_facebook_likes</th>\n",
       "      <th>actor_3_name</th>\n",
       "      <th>facenumber_in_poster</th>\n",
       "      <th>plot_keywords</th>\n",
       "      <th>movie_imdb_link</th>\n",
       "      <th>num_user_for_reviews</th>\n",
       "      <th>language</th>\n",
       "      <th>country</th>\n",
       "      <th>content_rating</th>\n",
       "      <th>budget</th>\n",
       "      <th>title_year</th>\n",
       "      <th>actor_2_facebook_likes</th>\n",
       "      <th>imdb_score</th>\n",
       "      <th>aspect_ratio</th>\n",
       "      <th>movie_facebook_likes</th>\n",
       "    </tr>\n",
       "  </thead>\n",
       "  <tbody>\n",
       "    <tr>\n",
       "      <th>0</th>\n",
       "      <td>Color</td>\n",
       "      <td>James Cameron</td>\n",
       "      <td>723.0</td>\n",
       "      <td>178.0</td>\n",
       "      <td>0.0</td>\n",
       "      <td>855.0</td>\n",
       "      <td>Joel David Moore</td>\n",
       "      <td>1000.0</td>\n",
       "      <td>760505847.0</td>\n",
       "      <td>Action|Adventure|Fantasy|Sci-Fi</td>\n",
       "      <td>CCH Pounder</td>\n",
       "      <td>Avatar</td>\n",
       "      <td>886204</td>\n",
       "      <td>4834</td>\n",
       "      <td>Wes Studi</td>\n",
       "      <td>0.0</td>\n",
       "      <td>avatar|future|marine|native|paraplegic</td>\n",
       "      <td>http://www.imdb.com/title/tt0499549/?ref_=fn_t...</td>\n",
       "      <td>3054.0</td>\n",
       "      <td>English</td>\n",
       "      <td>USA</td>\n",
       "      <td>PG-13</td>\n",
       "      <td>237000000.0</td>\n",
       "      <td>2009.0</td>\n",
       "      <td>936.0</td>\n",
       "      <td>7.9</td>\n",
       "      <td>1.78</td>\n",
       "      <td>33000</td>\n",
       "    </tr>\n",
       "    <tr>\n",
       "      <th>1</th>\n",
       "      <td>Color</td>\n",
       "      <td>Gore Verbinski</td>\n",
       "      <td>302.0</td>\n",
       "      <td>169.0</td>\n",
       "      <td>563.0</td>\n",
       "      <td>1000.0</td>\n",
       "      <td>Orlando Bloom</td>\n",
       "      <td>40000.0</td>\n",
       "      <td>309404152.0</td>\n",
       "      <td>Action|Adventure|Fantasy</td>\n",
       "      <td>Johnny Depp</td>\n",
       "      <td>Pirates of the Caribbean: At World's End</td>\n",
       "      <td>471220</td>\n",
       "      <td>48350</td>\n",
       "      <td>Jack Davenport</td>\n",
       "      <td>0.0</td>\n",
       "      <td>goddess|marriage ceremony|marriage proposal|pi...</td>\n",
       "      <td>http://www.imdb.com/title/tt0449088/?ref_=fn_t...</td>\n",
       "      <td>1238.0</td>\n",
       "      <td>English</td>\n",
       "      <td>USA</td>\n",
       "      <td>PG-13</td>\n",
       "      <td>300000000.0</td>\n",
       "      <td>2007.0</td>\n",
       "      <td>5000.0</td>\n",
       "      <td>7.1</td>\n",
       "      <td>2.35</td>\n",
       "      <td>0</td>\n",
       "    </tr>\n",
       "    <tr>\n",
       "      <th>2</th>\n",
       "      <td>Color</td>\n",
       "      <td>Sam Mendes</td>\n",
       "      <td>602.0</td>\n",
       "      <td>148.0</td>\n",
       "      <td>0.0</td>\n",
       "      <td>161.0</td>\n",
       "      <td>Rory Kinnear</td>\n",
       "      <td>11000.0</td>\n",
       "      <td>200074175.0</td>\n",
       "      <td>Action|Adventure|Thriller</td>\n",
       "      <td>Christoph Waltz</td>\n",
       "      <td>Spectre</td>\n",
       "      <td>275868</td>\n",
       "      <td>11700</td>\n",
       "      <td>Stephanie Sigman</td>\n",
       "      <td>1.0</td>\n",
       "      <td>bomb|espionage|sequel|spy|terrorist</td>\n",
       "      <td>http://www.imdb.com/title/tt2379713/?ref_=fn_t...</td>\n",
       "      <td>994.0</td>\n",
       "      <td>English</td>\n",
       "      <td>UK</td>\n",
       "      <td>PG-13</td>\n",
       "      <td>245000000.0</td>\n",
       "      <td>2015.0</td>\n",
       "      <td>393.0</td>\n",
       "      <td>6.8</td>\n",
       "      <td>2.35</td>\n",
       "      <td>85000</td>\n",
       "    </tr>\n",
       "    <tr>\n",
       "      <th>3</th>\n",
       "      <td>Color</td>\n",
       "      <td>Christopher Nolan</td>\n",
       "      <td>813.0</td>\n",
       "      <td>164.0</td>\n",
       "      <td>22000.0</td>\n",
       "      <td>23000.0</td>\n",
       "      <td>Christian Bale</td>\n",
       "      <td>27000.0</td>\n",
       "      <td>448130642.0</td>\n",
       "      <td>Action|Thriller</td>\n",
       "      <td>Tom Hardy</td>\n",
       "      <td>The Dark Knight Rises</td>\n",
       "      <td>1144337</td>\n",
       "      <td>106759</td>\n",
       "      <td>Joseph Gordon-Levitt</td>\n",
       "      <td>0.0</td>\n",
       "      <td>deception|imprisonment|lawlessness|police offi...</td>\n",
       "      <td>http://www.imdb.com/title/tt1345836/?ref_=fn_t...</td>\n",
       "      <td>2701.0</td>\n",
       "      <td>English</td>\n",
       "      <td>USA</td>\n",
       "      <td>PG-13</td>\n",
       "      <td>250000000.0</td>\n",
       "      <td>2012.0</td>\n",
       "      <td>23000.0</td>\n",
       "      <td>8.5</td>\n",
       "      <td>2.35</td>\n",
       "      <td>164000</td>\n",
       "    </tr>\n",
       "    <tr>\n",
       "      <th>4</th>\n",
       "      <td>NaN</td>\n",
       "      <td>Doug Walker</td>\n",
       "      <td>NaN</td>\n",
       "      <td>NaN</td>\n",
       "      <td>131.0</td>\n",
       "      <td>NaN</td>\n",
       "      <td>Rob Walker</td>\n",
       "      <td>131.0</td>\n",
       "      <td>NaN</td>\n",
       "      <td>Documentary</td>\n",
       "      <td>Doug Walker</td>\n",
       "      <td>Star Wars: Episode VII - The Force Awakens    ...</td>\n",
       "      <td>8</td>\n",
       "      <td>143</td>\n",
       "      <td>NaN</td>\n",
       "      <td>0.0</td>\n",
       "      <td>NaN</td>\n",
       "      <td>http://www.imdb.com/title/tt5289954/?ref_=fn_t...</td>\n",
       "      <td>NaN</td>\n",
       "      <td>NaN</td>\n",
       "      <td>NaN</td>\n",
       "      <td>NaN</td>\n",
       "      <td>NaN</td>\n",
       "      <td>NaN</td>\n",
       "      <td>12.0</td>\n",
       "      <td>7.1</td>\n",
       "      <td>NaN</td>\n",
       "      <td>0</td>\n",
       "    </tr>\n",
       "  </tbody>\n",
       "</table>\n",
       "</div>"
      ],
      "text/plain": [
       "   color      director_name  num_critic_for_reviews  duration  \\\n",
       "0  Color      James Cameron                   723.0     178.0   \n",
       "1  Color     Gore Verbinski                   302.0     169.0   \n",
       "2  Color         Sam Mendes                   602.0     148.0   \n",
       "3  Color  Christopher Nolan                   813.0     164.0   \n",
       "4    NaN        Doug Walker                     NaN       NaN   \n",
       "\n",
       "   director_facebook_likes  actor_3_facebook_likes      actor_2_name  \\\n",
       "0                      0.0                   855.0  Joel David Moore   \n",
       "1                    563.0                  1000.0     Orlando Bloom   \n",
       "2                      0.0                   161.0      Rory Kinnear   \n",
       "3                  22000.0                 23000.0    Christian Bale   \n",
       "4                    131.0                     NaN        Rob Walker   \n",
       "\n",
       "   actor_1_facebook_likes        gross                           genres  \\\n",
       "0                  1000.0  760505847.0  Action|Adventure|Fantasy|Sci-Fi   \n",
       "1                 40000.0  309404152.0         Action|Adventure|Fantasy   \n",
       "2                 11000.0  200074175.0        Action|Adventure|Thriller   \n",
       "3                 27000.0  448130642.0                  Action|Thriller   \n",
       "4                   131.0          NaN                      Documentary   \n",
       "\n",
       "      actor_1_name                                        movie_title  \\\n",
       "0      CCH Pounder                                            Avatar    \n",
       "1      Johnny Depp          Pirates of the Caribbean: At World's End    \n",
       "2  Christoph Waltz                                           Spectre    \n",
       "3        Tom Hardy                             The Dark Knight Rises    \n",
       "4      Doug Walker  Star Wars: Episode VII - The Force Awakens    ...   \n",
       "\n",
       "   num_voted_users  cast_total_facebook_likes          actor_3_name  \\\n",
       "0           886204                       4834             Wes Studi   \n",
       "1           471220                      48350        Jack Davenport   \n",
       "2           275868                      11700      Stephanie Sigman   \n",
       "3          1144337                     106759  Joseph Gordon-Levitt   \n",
       "4                8                        143                   NaN   \n",
       "\n",
       "   facenumber_in_poster                                      plot_keywords  \\\n",
       "0                   0.0             avatar|future|marine|native|paraplegic   \n",
       "1                   0.0  goddess|marriage ceremony|marriage proposal|pi...   \n",
       "2                   1.0                bomb|espionage|sequel|spy|terrorist   \n",
       "3                   0.0  deception|imprisonment|lawlessness|police offi...   \n",
       "4                   0.0                                                NaN   \n",
       "\n",
       "                                     movie_imdb_link  num_user_for_reviews  \\\n",
       "0  http://www.imdb.com/title/tt0499549/?ref_=fn_t...                3054.0   \n",
       "1  http://www.imdb.com/title/tt0449088/?ref_=fn_t...                1238.0   \n",
       "2  http://www.imdb.com/title/tt2379713/?ref_=fn_t...                 994.0   \n",
       "3  http://www.imdb.com/title/tt1345836/?ref_=fn_t...                2701.0   \n",
       "4  http://www.imdb.com/title/tt5289954/?ref_=fn_t...                   NaN   \n",
       "\n",
       "  language country content_rating       budget  title_year  \\\n",
       "0  English     USA          PG-13  237000000.0      2009.0   \n",
       "1  English     USA          PG-13  300000000.0      2007.0   \n",
       "2  English      UK          PG-13  245000000.0      2015.0   \n",
       "3  English     USA          PG-13  250000000.0      2012.0   \n",
       "4      NaN     NaN            NaN          NaN         NaN   \n",
       "\n",
       "   actor_2_facebook_likes  imdb_score  aspect_ratio  movie_facebook_likes  \n",
       "0                   936.0         7.9          1.78                 33000  \n",
       "1                  5000.0         7.1          2.35                     0  \n",
       "2                   393.0         6.8          2.35                 85000  \n",
       "3                 23000.0         8.5          2.35                164000  \n",
       "4                    12.0         7.1           NaN                     0  "
      ]
     },
     "execution_count": 163,
     "metadata": {},
     "output_type": "execute_result"
    }
   ],
   "source": [
    "data.head()"
   ]
  },
  {
   "cell_type": "code",
   "execution_count": 164,
   "metadata": {},
   "outputs": [
    {
     "data": {
      "text/plain": [
       "(5043, 28)"
      ]
     },
     "execution_count": 164,
     "metadata": {},
     "output_type": "execute_result"
    }
   ],
   "source": [
    "data.shape"
   ]
  },
  {
   "cell_type": "code",
   "execution_count": 165,
   "metadata": {
    "scrolled": true
   },
   "outputs": [
    {
     "data": {
      "text/plain": [
       "Index([u'color', u'director_name', u'num_critic_for_reviews', u'duration',\n",
       "       u'director_facebook_likes', u'actor_3_facebook_likes', u'actor_2_name',\n",
       "       u'actor_1_facebook_likes', u'gross', u'genres', u'actor_1_name',\n",
       "       u'movie_title', u'num_voted_users', u'cast_total_facebook_likes',\n",
       "       u'actor_3_name', u'facenumber_in_poster', u'plot_keywords',\n",
       "       u'movie_imdb_link', u'num_user_for_reviews', u'language', u'country',\n",
       "       u'content_rating', u'budget', u'title_year', u'actor_2_facebook_likes',\n",
       "       u'imdb_score', u'aspect_ratio', u'movie_facebook_likes'],\n",
       "      dtype='object')"
      ]
     },
     "execution_count": 165,
     "metadata": {},
     "output_type": "execute_result"
    }
   ],
   "source": [
    "data.columns"
   ]
  },
  {
   "cell_type": "code",
   "execution_count": 166,
   "metadata": {},
   "outputs": [
    {
     "name": "stdout",
     "output_type": "stream",
     "text": [
      "<class 'pandas.core.frame.DataFrame'>\n",
      "RangeIndex: 5043 entries, 0 to 5042\n",
      "Data columns (total 28 columns):\n",
      "color                        5024 non-null object\n",
      "director_name                4939 non-null object\n",
      "num_critic_for_reviews       4993 non-null float64\n",
      "duration                     5028 non-null float64\n",
      "director_facebook_likes      4939 non-null float64\n",
      "actor_3_facebook_likes       5020 non-null float64\n",
      "actor_2_name                 5030 non-null object\n",
      "actor_1_facebook_likes       5036 non-null float64\n",
      "gross                        4159 non-null float64\n",
      "genres                       5043 non-null object\n",
      "actor_1_name                 5036 non-null object\n",
      "movie_title                  5043 non-null object\n",
      "num_voted_users              5043 non-null int64\n",
      "cast_total_facebook_likes    5043 non-null int64\n",
      "actor_3_name                 5020 non-null object\n",
      "facenumber_in_poster         5030 non-null float64\n",
      "plot_keywords                4890 non-null object\n",
      "movie_imdb_link              5043 non-null object\n",
      "num_user_for_reviews         5022 non-null float64\n",
      "language                     5031 non-null object\n",
      "country                      5038 non-null object\n",
      "content_rating               4740 non-null object\n",
      "budget                       4551 non-null float64\n",
      "title_year                   4935 non-null float64\n",
      "actor_2_facebook_likes       5030 non-null float64\n",
      "imdb_score                   5043 non-null float64\n",
      "aspect_ratio                 4714 non-null float64\n",
      "movie_facebook_likes         5043 non-null int64\n",
      "dtypes: float64(13), int64(3), object(12)\n",
      "memory usage: 1.1+ MB\n"
     ]
    }
   ],
   "source": [
    "data.info()"
   ]
  },
  {
   "cell_type": "code",
   "execution_count": 167,
   "metadata": {},
   "outputs": [
    {
     "data": {
      "text/plain": [
       "gross             884\n",
       "budget            492\n",
       "aspect_ratio      329\n",
       "content_rating    303\n",
       "plot_keywords     153\n",
       "dtype: int64"
      ]
     },
     "execution_count": 167,
     "metadata": {},
     "output_type": "execute_result"
    }
   ],
   "source": [
    "data.isnull().sum().sort_values(ascending = False)[:5]"
   ]
  },
  {
   "cell_type": "code",
   "execution_count": 168,
   "metadata": {
    "collapsed": true
   },
   "outputs": [],
   "source": [
    "data.dropna(how = 'any',axis = 0,inplace = True)"
   ]
  },
  {
   "cell_type": "code",
   "execution_count": 169,
   "metadata": {},
   "outputs": [
    {
     "data": {
      "text/plain": [
       "(3756, 28)"
      ]
     },
     "execution_count": 169,
     "metadata": {},
     "output_type": "execute_result"
    }
   ],
   "source": [
    "data.shape"
   ]
  },
  {
   "cell_type": "code",
   "execution_count": 170,
   "metadata": {
    "collapsed": true
   },
   "outputs": [],
   "source": [
    "numerical_features = data.select_dtypes(exclude=['object']).columns\n",
    "categorical_features = data.select_dtypes(include=['object']).columns"
   ]
  },
  {
   "cell_type": "code",
   "execution_count": 171,
   "metadata": {
    "collapsed": true,
    "scrolled": true
   },
   "outputs": [],
   "source": [
    "num_data = data[numerical_features]\n",
    "cat_data = data[categorical_features]"
   ]
  },
  {
   "cell_type": "code",
   "execution_count": 172,
   "metadata": {},
   "outputs": [
    {
     "data": {
      "text/plain": [
       "((3756, 16), (3756, 12))"
      ]
     },
     "execution_count": 172,
     "metadata": {},
     "output_type": "execute_result"
    }
   ],
   "source": [
    "num_data.shape,cat_data.shape"
   ]
  },
  {
   "cell_type": "code",
   "execution_count": 173,
   "metadata": {
    "scrolled": true
   },
   "outputs": [
    {
     "data": {
      "text/plain": [
       "movie_facebook_likes         0\n",
       "aspect_ratio                 0\n",
       "imdb_score                   0\n",
       "actor_2_facebook_likes       0\n",
       "title_year                   0\n",
       "budget                       0\n",
       "num_user_for_reviews         0\n",
       "facenumber_in_poster         0\n",
       "cast_total_facebook_likes    0\n",
       "num_voted_users              0\n",
       "gross                        0\n",
       "actor_1_facebook_likes       0\n",
       "actor_3_facebook_likes       0\n",
       "director_facebook_likes      0\n",
       "duration                     0\n",
       "num_critic_for_reviews       0\n",
       "dtype: int64"
      ]
     },
     "execution_count": 173,
     "metadata": {},
     "output_type": "execute_result"
    }
   ],
   "source": [
    "num_data.isnull().sum().sort_values(ascending = False)"
   ]
  },
  {
   "cell_type": "code",
   "execution_count": 174,
   "metadata": {},
   "outputs": [
    {
     "data": {
      "text/html": [
       "<div>\n",
       "<style>\n",
       "    .dataframe thead tr:only-child th {\n",
       "        text-align: right;\n",
       "    }\n",
       "\n",
       "    .dataframe thead th {\n",
       "        text-align: left;\n",
       "    }\n",
       "\n",
       "    .dataframe tbody tr th {\n",
       "        vertical-align: top;\n",
       "    }\n",
       "</style>\n",
       "<table border=\"1\" class=\"dataframe\">\n",
       "  <thead>\n",
       "    <tr style=\"text-align: right;\">\n",
       "      <th></th>\n",
       "      <th>num_critic_for_reviews</th>\n",
       "      <th>duration</th>\n",
       "      <th>director_facebook_likes</th>\n",
       "      <th>actor_3_facebook_likes</th>\n",
       "      <th>actor_1_facebook_likes</th>\n",
       "      <th>gross</th>\n",
       "      <th>num_voted_users</th>\n",
       "      <th>cast_total_facebook_likes</th>\n",
       "      <th>facenumber_in_poster</th>\n",
       "      <th>num_user_for_reviews</th>\n",
       "      <th>budget</th>\n",
       "      <th>title_year</th>\n",
       "      <th>actor_2_facebook_likes</th>\n",
       "      <th>imdb_score</th>\n",
       "      <th>aspect_ratio</th>\n",
       "      <th>movie_facebook_likes</th>\n",
       "    </tr>\n",
       "  </thead>\n",
       "  <tbody>\n",
       "    <tr>\n",
       "      <th>0</th>\n",
       "      <td>723.0</td>\n",
       "      <td>178.0</td>\n",
       "      <td>0.0</td>\n",
       "      <td>855.0</td>\n",
       "      <td>1000.0</td>\n",
       "      <td>760505847.0</td>\n",
       "      <td>886204</td>\n",
       "      <td>4834</td>\n",
       "      <td>0.0</td>\n",
       "      <td>3054.0</td>\n",
       "      <td>237000000.0</td>\n",
       "      <td>2009.0</td>\n",
       "      <td>936.0</td>\n",
       "      <td>7.9</td>\n",
       "      <td>1.78</td>\n",
       "      <td>33000</td>\n",
       "    </tr>\n",
       "    <tr>\n",
       "      <th>1</th>\n",
       "      <td>302.0</td>\n",
       "      <td>169.0</td>\n",
       "      <td>563.0</td>\n",
       "      <td>1000.0</td>\n",
       "      <td>40000.0</td>\n",
       "      <td>309404152.0</td>\n",
       "      <td>471220</td>\n",
       "      <td>48350</td>\n",
       "      <td>0.0</td>\n",
       "      <td>1238.0</td>\n",
       "      <td>300000000.0</td>\n",
       "      <td>2007.0</td>\n",
       "      <td>5000.0</td>\n",
       "      <td>7.1</td>\n",
       "      <td>2.35</td>\n",
       "      <td>0</td>\n",
       "    </tr>\n",
       "    <tr>\n",
       "      <th>2</th>\n",
       "      <td>602.0</td>\n",
       "      <td>148.0</td>\n",
       "      <td>0.0</td>\n",
       "      <td>161.0</td>\n",
       "      <td>11000.0</td>\n",
       "      <td>200074175.0</td>\n",
       "      <td>275868</td>\n",
       "      <td>11700</td>\n",
       "      <td>1.0</td>\n",
       "      <td>994.0</td>\n",
       "      <td>245000000.0</td>\n",
       "      <td>2015.0</td>\n",
       "      <td>393.0</td>\n",
       "      <td>6.8</td>\n",
       "      <td>2.35</td>\n",
       "      <td>85000</td>\n",
       "    </tr>\n",
       "    <tr>\n",
       "      <th>3</th>\n",
       "      <td>813.0</td>\n",
       "      <td>164.0</td>\n",
       "      <td>22000.0</td>\n",
       "      <td>23000.0</td>\n",
       "      <td>27000.0</td>\n",
       "      <td>448130642.0</td>\n",
       "      <td>1144337</td>\n",
       "      <td>106759</td>\n",
       "      <td>0.0</td>\n",
       "      <td>2701.0</td>\n",
       "      <td>250000000.0</td>\n",
       "      <td>2012.0</td>\n",
       "      <td>23000.0</td>\n",
       "      <td>8.5</td>\n",
       "      <td>2.35</td>\n",
       "      <td>164000</td>\n",
       "    </tr>\n",
       "    <tr>\n",
       "      <th>5</th>\n",
       "      <td>462.0</td>\n",
       "      <td>132.0</td>\n",
       "      <td>475.0</td>\n",
       "      <td>530.0</td>\n",
       "      <td>640.0</td>\n",
       "      <td>73058679.0</td>\n",
       "      <td>212204</td>\n",
       "      <td>1873</td>\n",
       "      <td>1.0</td>\n",
       "      <td>738.0</td>\n",
       "      <td>263700000.0</td>\n",
       "      <td>2012.0</td>\n",
       "      <td>632.0</td>\n",
       "      <td>6.6</td>\n",
       "      <td>2.35</td>\n",
       "      <td>24000</td>\n",
       "    </tr>\n",
       "  </tbody>\n",
       "</table>\n",
       "</div>"
      ],
      "text/plain": [
       "   num_critic_for_reviews  duration  director_facebook_likes  \\\n",
       "0                   723.0     178.0                      0.0   \n",
       "1                   302.0     169.0                    563.0   \n",
       "2                   602.0     148.0                      0.0   \n",
       "3                   813.0     164.0                  22000.0   \n",
       "5                   462.0     132.0                    475.0   \n",
       "\n",
       "   actor_3_facebook_likes  actor_1_facebook_likes        gross  \\\n",
       "0                   855.0                  1000.0  760505847.0   \n",
       "1                  1000.0                 40000.0  309404152.0   \n",
       "2                   161.0                 11000.0  200074175.0   \n",
       "3                 23000.0                 27000.0  448130642.0   \n",
       "5                   530.0                   640.0   73058679.0   \n",
       "\n",
       "   num_voted_users  cast_total_facebook_likes  facenumber_in_poster  \\\n",
       "0           886204                       4834                   0.0   \n",
       "1           471220                      48350                   0.0   \n",
       "2           275868                      11700                   1.0   \n",
       "3          1144337                     106759                   0.0   \n",
       "5           212204                       1873                   1.0   \n",
       "\n",
       "   num_user_for_reviews       budget  title_year  actor_2_facebook_likes  \\\n",
       "0                3054.0  237000000.0      2009.0                   936.0   \n",
       "1                1238.0  300000000.0      2007.0                  5000.0   \n",
       "2                 994.0  245000000.0      2015.0                   393.0   \n",
       "3                2701.0  250000000.0      2012.0                 23000.0   \n",
       "5                 738.0  263700000.0      2012.0                   632.0   \n",
       "\n",
       "   imdb_score  aspect_ratio  movie_facebook_likes  \n",
       "0         7.9          1.78                 33000  \n",
       "1         7.1          2.35                     0  \n",
       "2         6.8          2.35                 85000  \n",
       "3         8.5          2.35                164000  \n",
       "5         6.6          2.35                 24000  "
      ]
     },
     "execution_count": 174,
     "metadata": {},
     "output_type": "execute_result"
    }
   ],
   "source": [
    "num_data.head()"
   ]
  },
  {
   "cell_type": "code",
   "execution_count": 175,
   "metadata": {
    "collapsed": true
   },
   "outputs": [],
   "source": [
    "num_data.drop(['title_year'],axis = 1, inplace = True)\n"
   ]
  },
  {
   "cell_type": "code",
   "execution_count": 176,
   "metadata": {
    "collapsed": true
   },
   "outputs": [],
   "source": [
    "numerical_features = numerical_features.drop('title_year')"
   ]
  },
  {
   "cell_type": "code",
   "execution_count": 177,
   "metadata": {},
   "outputs": [
    {
     "data": {
      "text/plain": [
       "15"
      ]
     },
     "execution_count": 177,
     "metadata": {},
     "output_type": "execute_result"
    }
   ],
   "source": [
    "numerical_features.size"
   ]
  },
  {
   "cell_type": "code",
   "execution_count": 178,
   "metadata": {},
   "outputs": [
    {
     "data": {
      "image/png": "[encoded data removed]",
      "text/plain": [
       "<matplotlib.figure.Figure at 0x1c1ba4e0>"
      ]
     },
     "metadata": {},
     "output_type": "display_data"
    }
   ],
   "source": [
    "plt.figure(figsize=(8,6))\n",
    "plt.scatter(range(num_data.shape[0]), np.sort(num_data.imdb_score.values))\n",
    "plt.xlabel('index', fontsize=12)\n",
    "plt.ylabel('IMDB_SCORE', fontsize=12)\n",
    "plt.show()"
   ]
  },
  {
   "cell_type": "code",
   "execution_count": 179,
   "metadata": {
    "scrolled": false
   },
   "outputs": [
    {
     "data": {
      "image/png": "[encoded data removed]",
      "text/plain": [
       "<matplotlib.figure.Figure at 0x18afa198>"
      ]
     },
     "metadata": {},
     "output_type": "display_data"
    }
   ],
   "source": [
    "plt.figure(figsize=(12,8))\n",
    "sns.distplot(num_data.imdb_score.values, bins=50, kde=False)\n",
    "plt.xlabel('imdb_score', fontsize=12)\n",
    "plt.show()"
   ]
  },
  {
   "cell_type": "code",
   "execution_count": 180,
   "metadata": {},
   "outputs": [
    {
     "data": {
      "text/plain": [
       "['num_critic_for_reviews',\n",
       " 'duration',\n",
       " 'director_facebook_likes',\n",
       " 'actor_3_facebook_likes',\n",
       " 'actor_1_facebook_likes',\n",
       " 'gross',\n",
       " 'num_voted_users',\n",
       " 'cast_total_facebook_likes',\n",
       " 'facenumber_in_poster',\n",
       " 'num_user_for_reviews',\n",
       " 'budget',\n",
       " 'actor_2_facebook_likes',\n",
       " 'imdb_score',\n",
       " 'aspect_ratio',\n",
       " 'movie_facebook_likes']"
      ]
     },
     "execution_count": 180,
     "metadata": {},
     "output_type": "execute_result"
    }
   ],
   "source": [
    "num_data.columns.tolist()"
   ]
  },
  {
   "cell_type": "code",
   "execution_count": 181,
   "metadata": {},
   "outputs": [
    {
     "data": {
      "text/plain": [
       "<matplotlib.axes._subplots.AxesSubplot at 0x13b8d160>"
      ]
     },
     "execution_count": 181,
     "metadata": {},
     "output_type": "execute_result"
    },
    {
     "data": {
      "image/png": "[encoded data removed]",
      "text/plain": [
       "<matplotlib.figure.Figure at 0x159a1400>"
      ]
     },
     "metadata": {},
     "output_type": "display_data"
    }
   ],
   "source": [
    "fig, ax = plt.subplots(figsize=(20,10), ncols=2, nrows=3)\n",
    "sns.set_style(\"whitegrid\")\n",
    "#sns.boxplot(x=\"imdb_score\", data=num_data,orient = 'v',ax = ax[0][0])\n",
    "sns.boxplot(x=\"num_critic_for_reviews\", data=num_data,orient = 'v',ax = ax[0][0])\n",
    "sns.boxplot(x=\"duration\", data=num_data,orient = 'v',ax = ax[0][1])\n",
    "#sns.boxplot(x=\"director_facebook_likes\", data=num_data,orient = 'v',ax = ax[1][0])\n",
    "sns.boxplot(x=\"gross\", data=num_data,orient = 'v',ax = ax[1][0])\n",
    "sns.boxplot(x=\"num_voted_users\", data=num_data,orient = 'v',ax = ax[1][1])\n",
    "#sns.boxplot(x=\"num_user_for_reviews\", data=num_data,orient = 'v',ax = ax[2][0])\n",
    "#sns.boxplot(x=\"title_year\", data=num_data,orient = 'v',ax = ax[2][1])\n",
    "sns.boxplot(x=\"movie_facebook_likes\", data=num_data,orient = 'v',ax = ax[2][1])\n"
   ]
  },
  {
   "cell_type": "code",
   "execution_count": 182,
   "metadata": {
    "scrolled": false
   },
   "outputs": [
    {
     "data": {
      "text/plain": [
       "movie_facebook_likes         0\n",
       "aspect_ratio                 0\n",
       "imdb_score                   0\n",
       "actor_2_facebook_likes       0\n",
       "budget                       0\n",
       "num_user_for_reviews         0\n",
       "facenumber_in_poster         0\n",
       "cast_total_facebook_likes    0\n",
       "num_voted_users              0\n",
       "gross                        0\n",
       "actor_1_facebook_likes       0\n",
       "actor_3_facebook_likes       0\n",
       "director_facebook_likes      0\n",
       "duration                     0\n",
       "num_critic_for_reviews       0\n",
       "dtype: int64"
      ]
     },
     "execution_count": 182,
     "metadata": {},
     "output_type": "execute_result"
    }
   ],
   "source": [
    "num_data.isnull().sum().sort_values(ascending = False)"
   ]
  },
  {
   "cell_type": "code",
   "execution_count": 183,
   "metadata": {
    "collapsed": true,
    "scrolled": false
   },
   "outputs": [],
   "source": [
    "# from pandas.plotting import scatter_matrix\n",
    "# scatter_matrix(num_data, alpha=0.2, figsize=(10, 10), diagonal='kde')"
   ]
  },
  {
   "cell_type": "code",
   "execution_count": 184,
   "metadata": {},
   "outputs": [
    {
     "data": {
      "text/plain": [
       "num_critic_for_reviews            138.50\n",
       "duration                          106.00\n",
       "director_facebook_likes            64.00\n",
       "actor_3_facebook_likes            436.00\n",
       "actor_1_facebook_likes           1000.00\n",
       "gross                        30093107.00\n",
       "num_voted_users                 53973.50\n",
       "cast_total_facebook_likes        4059.50\n",
       "facenumber_in_poster                1.00\n",
       "num_user_for_reviews              210.00\n",
       "budget                       25000000.00\n",
       "actor_2_facebook_likes            685.50\n",
       "imdb_score                          6.60\n",
       "aspect_ratio                        2.35\n",
       "movie_facebook_likes              227.00\n",
       "dtype: float64"
      ]
     },
     "execution_count": 184,
     "metadata": {},
     "output_type": "execute_result"
    }
   ],
   "source": [
    "num_data.median()"
   ]
  },
  {
   "cell_type": "markdown",
   "metadata": {},
   "source": [
    "## Imputing NaN with Median (Because data has outliers)"
   ]
  },
  {
   "cell_type": "code",
   "execution_count": 185,
   "metadata": {
    "scrolled": true
   },
   "outputs": [
    {
     "data": {
      "text/html": [
       "<div>\n",
       "<style>\n",
       "    .dataframe thead tr:only-child th {\n",
       "        text-align: right;\n",
       "    }\n",
       "\n",
       "    .dataframe thead th {\n",
       "        text-align: left;\n",
       "    }\n",
       "\n",
       "    .dataframe tbody tr th {\n",
       "        vertical-align: top;\n",
       "    }\n",
       "</style>\n",
       "<table border=\"1\" class=\"dataframe\">\n",
       "  <thead>\n",
       "    <tr style=\"text-align: right;\">\n",
       "      <th></th>\n",
       "      <th>num_critic_for_reviews</th>\n",
       "      <th>duration</th>\n",
       "      <th>director_facebook_likes</th>\n",
       "      <th>actor_3_facebook_likes</th>\n",
       "      <th>actor_1_facebook_likes</th>\n",
       "      <th>gross</th>\n",
       "      <th>num_voted_users</th>\n",
       "      <th>cast_total_facebook_likes</th>\n",
       "      <th>facenumber_in_poster</th>\n",
       "      <th>num_user_for_reviews</th>\n",
       "      <th>budget</th>\n",
       "      <th>actor_2_facebook_likes</th>\n",
       "      <th>imdb_score</th>\n",
       "      <th>aspect_ratio</th>\n",
       "      <th>movie_facebook_likes</th>\n",
       "    </tr>\n",
       "  </thead>\n",
       "  <tbody>\n",
       "    <tr>\n",
       "      <th>0</th>\n",
       "      <td>723.0</td>\n",
       "      <td>178.0</td>\n",
       "      <td>0.0</td>\n",
       "      <td>855.0</td>\n",
       "      <td>1000.0</td>\n",
       "      <td>760505847.0</td>\n",
       "      <td>886204</td>\n",
       "      <td>4834</td>\n",
       "      <td>0.0</td>\n",
       "      <td>3054.0</td>\n",
       "      <td>237000000.0</td>\n",
       "      <td>936.0</td>\n",
       "      <td>7.9</td>\n",
       "      <td>1.78</td>\n",
       "      <td>33000</td>\n",
       "    </tr>\n",
       "    <tr>\n",
       "      <th>1</th>\n",
       "      <td>302.0</td>\n",
       "      <td>169.0</td>\n",
       "      <td>563.0</td>\n",
       "      <td>1000.0</td>\n",
       "      <td>40000.0</td>\n",
       "      <td>309404152.0</td>\n",
       "      <td>471220</td>\n",
       "      <td>48350</td>\n",
       "      <td>0.0</td>\n",
       "      <td>1238.0</td>\n",
       "      <td>300000000.0</td>\n",
       "      <td>5000.0</td>\n",
       "      <td>7.1</td>\n",
       "      <td>2.35</td>\n",
       "      <td>0</td>\n",
       "    </tr>\n",
       "    <tr>\n",
       "      <th>2</th>\n",
       "      <td>602.0</td>\n",
       "      <td>148.0</td>\n",
       "      <td>0.0</td>\n",
       "      <td>161.0</td>\n",
       "      <td>11000.0</td>\n",
       "      <td>200074175.0</td>\n",
       "      <td>275868</td>\n",
       "      <td>11700</td>\n",
       "      <td>1.0</td>\n",
       "      <td>994.0</td>\n",
       "      <td>245000000.0</td>\n",
       "      <td>393.0</td>\n",
       "      <td>6.8</td>\n",
       "      <td>2.35</td>\n",
       "      <td>85000</td>\n",
       "    </tr>\n",
       "    <tr>\n",
       "      <th>3</th>\n",
       "      <td>813.0</td>\n",
       "      <td>164.0</td>\n",
       "      <td>22000.0</td>\n",
       "      <td>23000.0</td>\n",
       "      <td>27000.0</td>\n",
       "      <td>448130642.0</td>\n",
       "      <td>1144337</td>\n",
       "      <td>106759</td>\n",
       "      <td>0.0</td>\n",
       "      <td>2701.0</td>\n",
       "      <td>250000000.0</td>\n",
       "      <td>23000.0</td>\n",
       "      <td>8.5</td>\n",
       "      <td>2.35</td>\n",
       "      <td>164000</td>\n",
       "    </tr>\n",
       "    <tr>\n",
       "      <th>5</th>\n",
       "      <td>462.0</td>\n",
       "      <td>132.0</td>\n",
       "      <td>475.0</td>\n",
       "      <td>530.0</td>\n",
       "      <td>640.0</td>\n",
       "      <td>73058679.0</td>\n",
       "      <td>212204</td>\n",
       "      <td>1873</td>\n",
       "      <td>1.0</td>\n",
       "      <td>738.0</td>\n",
       "      <td>263700000.0</td>\n",
       "      <td>632.0</td>\n",
       "      <td>6.6</td>\n",
       "      <td>2.35</td>\n",
       "      <td>24000</td>\n",
       "    </tr>\n",
       "    <tr>\n",
       "      <th>6</th>\n",
       "      <td>392.0</td>\n",
       "      <td>156.0</td>\n",
       "      <td>0.0</td>\n",
       "      <td>4000.0</td>\n",
       "      <td>24000.0</td>\n",
       "      <td>336530303.0</td>\n",
       "      <td>383056</td>\n",
       "      <td>46055</td>\n",
       "      <td>0.0</td>\n",
       "      <td>1902.0</td>\n",
       "      <td>258000000.0</td>\n",
       "      <td>11000.0</td>\n",
       "      <td>6.2</td>\n",
       "      <td>2.35</td>\n",
       "      <td>0</td>\n",
       "    </tr>\n",
       "    <tr>\n",
       "      <th>7</th>\n",
       "      <td>324.0</td>\n",
       "      <td>100.0</td>\n",
       "      <td>15.0</td>\n",
       "      <td>284.0</td>\n",
       "      <td>799.0</td>\n",
       "      <td>200807262.0</td>\n",
       "      <td>294810</td>\n",
       "      <td>2036</td>\n",
       "      <td>1.0</td>\n",
       "      <td>387.0</td>\n",
       "      <td>260000000.0</td>\n",
       "      <td>553.0</td>\n",
       "      <td>7.8</td>\n",
       "      <td>1.85</td>\n",
       "      <td>29000</td>\n",
       "    </tr>\n",
       "    <tr>\n",
       "      <th>8</th>\n",
       "      <td>635.0</td>\n",
       "      <td>141.0</td>\n",
       "      <td>0.0</td>\n",
       "      <td>19000.0</td>\n",
       "      <td>26000.0</td>\n",
       "      <td>458991599.0</td>\n",
       "      <td>462669</td>\n",
       "      <td>92000</td>\n",
       "      <td>4.0</td>\n",
       "      <td>1117.0</td>\n",
       "      <td>250000000.0</td>\n",
       "      <td>21000.0</td>\n",
       "      <td>7.5</td>\n",
       "      <td>2.35</td>\n",
       "      <td>118000</td>\n",
       "    </tr>\n",
       "    <tr>\n",
       "      <th>9</th>\n",
       "      <td>375.0</td>\n",
       "      <td>153.0</td>\n",
       "      <td>282.0</td>\n",
       "      <td>10000.0</td>\n",
       "      <td>25000.0</td>\n",
       "      <td>301956980.0</td>\n",
       "      <td>321795</td>\n",
       "      <td>58753</td>\n",
       "      <td>3.0</td>\n",
       "      <td>973.0</td>\n",
       "      <td>250000000.0</td>\n",
       "      <td>11000.0</td>\n",
       "      <td>7.5</td>\n",
       "      <td>2.35</td>\n",
       "      <td>10000</td>\n",
       "    </tr>\n",
       "    <tr>\n",
       "      <th>10</th>\n",
       "      <td>673.0</td>\n",
       "      <td>183.0</td>\n",
       "      <td>0.0</td>\n",
       "      <td>2000.0</td>\n",
       "      <td>15000.0</td>\n",
       "      <td>330249062.0</td>\n",
       "      <td>371639</td>\n",
       "      <td>24450</td>\n",
       "      <td>0.0</td>\n",
       "      <td>3018.0</td>\n",
       "      <td>250000000.0</td>\n",
       "      <td>4000.0</td>\n",
       "      <td>6.9</td>\n",
       "      <td>2.35</td>\n",
       "      <td>197000</td>\n",
       "    </tr>\n",
       "    <tr>\n",
       "      <th>11</th>\n",
       "      <td>434.0</td>\n",
       "      <td>169.0</td>\n",
       "      <td>0.0</td>\n",
       "      <td>903.0</td>\n",
       "      <td>18000.0</td>\n",
       "      <td>200069408.0</td>\n",
       "      <td>240396</td>\n",
       "      <td>29991</td>\n",
       "      <td>0.0</td>\n",
       "      <td>2367.0</td>\n",
       "      <td>209000000.0</td>\n",
       "      <td>10000.0</td>\n",
       "      <td>6.1</td>\n",
       "      <td>2.35</td>\n",
       "      <td>0</td>\n",
       "    </tr>\n",
       "    <tr>\n",
       "      <th>12</th>\n",
       "      <td>403.0</td>\n",
       "      <td>106.0</td>\n",
       "      <td>395.0</td>\n",
       "      <td>393.0</td>\n",
       "      <td>451.0</td>\n",
       "      <td>168368427.0</td>\n",
       "      <td>330784</td>\n",
       "      <td>2023</td>\n",
       "      <td>1.0</td>\n",
       "      <td>1243.0</td>\n",
       "      <td>200000000.0</td>\n",
       "      <td>412.0</td>\n",
       "      <td>6.7</td>\n",
       "      <td>2.35</td>\n",
       "      <td>0</td>\n",
       "    </tr>\n",
       "    <tr>\n",
       "      <th>13</th>\n",
       "      <td>313.0</td>\n",
       "      <td>151.0</td>\n",
       "      <td>563.0</td>\n",
       "      <td>1000.0</td>\n",
       "      <td>40000.0</td>\n",
       "      <td>423032628.0</td>\n",
       "      <td>522040</td>\n",
       "      <td>48486</td>\n",
       "      <td>2.0</td>\n",
       "      <td>1832.0</td>\n",
       "      <td>225000000.0</td>\n",
       "      <td>5000.0</td>\n",
       "      <td>7.3</td>\n",
       "      <td>2.35</td>\n",
       "      <td>5000</td>\n",
       "    </tr>\n",
       "    <tr>\n",
       "      <th>14</th>\n",
       "      <td>450.0</td>\n",
       "      <td>150.0</td>\n",
       "      <td>563.0</td>\n",
       "      <td>1000.0</td>\n",
       "      <td>40000.0</td>\n",
       "      <td>89289910.0</td>\n",
       "      <td>181792</td>\n",
       "      <td>45757</td>\n",
       "      <td>1.0</td>\n",
       "      <td>711.0</td>\n",
       "      <td>215000000.0</td>\n",
       "      <td>2000.0</td>\n",
       "      <td>6.5</td>\n",
       "      <td>2.35</td>\n",
       "      <td>48000</td>\n",
       "    </tr>\n",
       "    <tr>\n",
       "      <th>15</th>\n",
       "      <td>733.0</td>\n",
       "      <td>143.0</td>\n",
       "      <td>0.0</td>\n",
       "      <td>748.0</td>\n",
       "      <td>15000.0</td>\n",
       "      <td>291021565.0</td>\n",
       "      <td>548573</td>\n",
       "      <td>20495</td>\n",
       "      <td>0.0</td>\n",
       "      <td>2536.0</td>\n",
       "      <td>225000000.0</td>\n",
       "      <td>3000.0</td>\n",
       "      <td>7.2</td>\n",
       "      <td>2.35</td>\n",
       "      <td>118000</td>\n",
       "    </tr>\n",
       "    <tr>\n",
       "      <th>16</th>\n",
       "      <td>258.0</td>\n",
       "      <td>150.0</td>\n",
       "      <td>80.0</td>\n",
       "      <td>201.0</td>\n",
       "      <td>22000.0</td>\n",
       "      <td>141614023.0</td>\n",
       "      <td>149922</td>\n",
       "      <td>22697</td>\n",
       "      <td>4.0</td>\n",
       "      <td>438.0</td>\n",
       "      <td>225000000.0</td>\n",
       "      <td>216.0</td>\n",
       "      <td>6.6</td>\n",
       "      <td>2.35</td>\n",
       "      <td>0</td>\n",
       "    </tr>\n",
       "    <tr>\n",
       "      <th>17</th>\n",
       "      <td>703.0</td>\n",
       "      <td>173.0</td>\n",
       "      <td>0.0</td>\n",
       "      <td>19000.0</td>\n",
       "      <td>26000.0</td>\n",
       "      <td>623279547.0</td>\n",
       "      <td>995415</td>\n",
       "      <td>87697</td>\n",
       "      <td>3.0</td>\n",
       "      <td>1722.0</td>\n",
       "      <td>220000000.0</td>\n",
       "      <td>21000.0</td>\n",
       "      <td>8.1</td>\n",
       "      <td>1.85</td>\n",
       "      <td>123000</td>\n",
       "    </tr>\n",
       "    <tr>\n",
       "      <th>18</th>\n",
       "      <td>448.0</td>\n",
       "      <td>136.0</td>\n",
       "      <td>252.0</td>\n",
       "      <td>1000.0</td>\n",
       "      <td>40000.0</td>\n",
       "      <td>241063875.0</td>\n",
       "      <td>370704</td>\n",
       "      <td>54083</td>\n",
       "      <td>4.0</td>\n",
       "      <td>484.0</td>\n",
       "      <td>250000000.0</td>\n",
       "      <td>11000.0</td>\n",
       "      <td>6.7</td>\n",
       "      <td>2.35</td>\n",
       "      <td>58000</td>\n",
       "    </tr>\n",
       "    <tr>\n",
       "      <th>19</th>\n",
       "      <td>451.0</td>\n",
       "      <td>106.0</td>\n",
       "      <td>188.0</td>\n",
       "      <td>718.0</td>\n",
       "      <td>10000.0</td>\n",
       "      <td>179020854.0</td>\n",
       "      <td>268154</td>\n",
       "      <td>12572</td>\n",
       "      <td>1.0</td>\n",
       "      <td>341.0</td>\n",
       "      <td>225000000.0</td>\n",
       "      <td>816.0</td>\n",
       "      <td>6.8</td>\n",
       "      <td>1.85</td>\n",
       "      <td>40000</td>\n",
       "    </tr>\n",
       "    <tr>\n",
       "      <th>20</th>\n",
       "      <td>422.0</td>\n",
       "      <td>164.0</td>\n",
       "      <td>0.0</td>\n",
       "      <td>773.0</td>\n",
       "      <td>5000.0</td>\n",
       "      <td>255108370.0</td>\n",
       "      <td>354228</td>\n",
       "      <td>9152</td>\n",
       "      <td>0.0</td>\n",
       "      <td>802.0</td>\n",
       "      <td>250000000.0</td>\n",
       "      <td>972.0</td>\n",
       "      <td>7.5</td>\n",
       "      <td>2.35</td>\n",
       "      <td>65000</td>\n",
       "    </tr>\n",
       "    <tr>\n",
       "      <th>21</th>\n",
       "      <td>599.0</td>\n",
       "      <td>153.0</td>\n",
       "      <td>464.0</td>\n",
       "      <td>963.0</td>\n",
       "      <td>15000.0</td>\n",
       "      <td>262030663.0</td>\n",
       "      <td>451803</td>\n",
       "      <td>28489</td>\n",
       "      <td>0.0</td>\n",
       "      <td>1225.0</td>\n",
       "      <td>230000000.0</td>\n",
       "      <td>10000.0</td>\n",
       "      <td>7.0</td>\n",
       "      <td>2.35</td>\n",
       "      <td>56000</td>\n",
       "    </tr>\n",
       "    <tr>\n",
       "      <th>22</th>\n",
       "      <td>343.0</td>\n",
       "      <td>156.0</td>\n",
       "      <td>0.0</td>\n",
       "      <td>738.0</td>\n",
       "      <td>891.0</td>\n",
       "      <td>105219735.0</td>\n",
       "      <td>211765</td>\n",
       "      <td>3244</td>\n",
       "      <td>0.0</td>\n",
       "      <td>546.0</td>\n",
       "      <td>200000000.0</td>\n",
       "      <td>882.0</td>\n",
       "      <td>6.7</td>\n",
       "      <td>2.35</td>\n",
       "      <td>17000</td>\n",
       "    </tr>\n",
       "    <tr>\n",
       "      <th>23</th>\n",
       "      <td>509.0</td>\n",
       "      <td>186.0</td>\n",
       "      <td>0.0</td>\n",
       "      <td>773.0</td>\n",
       "      <td>5000.0</td>\n",
       "      <td>258355354.0</td>\n",
       "      <td>483540</td>\n",
       "      <td>9152</td>\n",
       "      <td>6.0</td>\n",
       "      <td>951.0</td>\n",
       "      <td>225000000.0</td>\n",
       "      <td>972.0</td>\n",
       "      <td>7.9</td>\n",
       "      <td>2.35</td>\n",
       "      <td>83000</td>\n",
       "    </tr>\n",
       "    <tr>\n",
       "      <th>24</th>\n",
       "      <td>251.0</td>\n",
       "      <td>113.0</td>\n",
       "      <td>129.0</td>\n",
       "      <td>1000.0</td>\n",
       "      <td>16000.0</td>\n",
       "      <td>70083519.0</td>\n",
       "      <td>149019</td>\n",
       "      <td>24106</td>\n",
       "      <td>2.0</td>\n",
       "      <td>666.0</td>\n",
       "      <td>180000000.0</td>\n",
       "      <td>6000.0</td>\n",
       "      <td>6.1</td>\n",
       "      <td>2.35</td>\n",
       "      <td>0</td>\n",
       "    </tr>\n",
       "    <tr>\n",
       "      <th>25</th>\n",
       "      <td>446.0</td>\n",
       "      <td>201.0</td>\n",
       "      <td>0.0</td>\n",
       "      <td>84.0</td>\n",
       "      <td>6000.0</td>\n",
       "      <td>218051260.0</td>\n",
       "      <td>316018</td>\n",
       "      <td>7123</td>\n",
       "      <td>0.0</td>\n",
       "      <td>2618.0</td>\n",
       "      <td>207000000.0</td>\n",
       "      <td>919.0</td>\n",
       "      <td>7.2</td>\n",
       "      <td>2.35</td>\n",
       "      <td>0</td>\n",
       "    </tr>\n",
       "    <tr>\n",
       "      <th>26</th>\n",
       "      <td>315.0</td>\n",
       "      <td>194.0</td>\n",
       "      <td>0.0</td>\n",
       "      <td>794.0</td>\n",
       "      <td>29000.0</td>\n",
       "      <td>658672302.0</td>\n",
       "      <td>793059</td>\n",
       "      <td>45223</td>\n",
       "      <td>0.0</td>\n",
       "      <td>2528.0</td>\n",
       "      <td>200000000.0</td>\n",
       "      <td>14000.0</td>\n",
       "      <td>7.7</td>\n",
       "      <td>2.35</td>\n",
       "      <td>26000</td>\n",
       "    </tr>\n",
       "    <tr>\n",
       "      <th>27</th>\n",
       "      <td>516.0</td>\n",
       "      <td>147.0</td>\n",
       "      <td>94.0</td>\n",
       "      <td>11000.0</td>\n",
       "      <td>21000.0</td>\n",
       "      <td>407197282.0</td>\n",
       "      <td>272670</td>\n",
       "      <td>64798</td>\n",
       "      <td>0.0</td>\n",
       "      <td>1022.0</td>\n",
       "      <td>250000000.0</td>\n",
       "      <td>19000.0</td>\n",
       "      <td>8.2</td>\n",
       "      <td>2.35</td>\n",
       "      <td>72000</td>\n",
       "    </tr>\n",
       "    <tr>\n",
       "      <th>28</th>\n",
       "      <td>377.0</td>\n",
       "      <td>131.0</td>\n",
       "      <td>532.0</td>\n",
       "      <td>627.0</td>\n",
       "      <td>14000.0</td>\n",
       "      <td>65173160.0</td>\n",
       "      <td>202382</td>\n",
       "      <td>26679</td>\n",
       "      <td>0.0</td>\n",
       "      <td>751.0</td>\n",
       "      <td>209000000.0</td>\n",
       "      <td>10000.0</td>\n",
       "      <td>5.9</td>\n",
       "      <td>2.35</td>\n",
       "      <td>44000</td>\n",
       "    </tr>\n",
       "    <tr>\n",
       "      <th>29</th>\n",
       "      <td>644.0</td>\n",
       "      <td>124.0</td>\n",
       "      <td>365.0</td>\n",
       "      <td>1000.0</td>\n",
       "      <td>3000.0</td>\n",
       "      <td>652177271.0</td>\n",
       "      <td>418214</td>\n",
       "      <td>8458</td>\n",
       "      <td>0.0</td>\n",
       "      <td>1290.0</td>\n",
       "      <td>150000000.0</td>\n",
       "      <td>2000.0</td>\n",
       "      <td>7.0</td>\n",
       "      <td>2.00</td>\n",
       "      <td>150000</td>\n",
       "    </tr>\n",
       "    <tr>\n",
       "      <th>30</th>\n",
       "      <td>750.0</td>\n",
       "      <td>143.0</td>\n",
       "      <td>0.0</td>\n",
       "      <td>393.0</td>\n",
       "      <td>883.0</td>\n",
       "      <td>304360277.0</td>\n",
       "      <td>522030</td>\n",
       "      <td>2039</td>\n",
       "      <td>0.0</td>\n",
       "      <td>1498.0</td>\n",
       "      <td>200000000.0</td>\n",
       "      <td>563.0</td>\n",
       "      <td>7.8</td>\n",
       "      <td>2.35</td>\n",
       "      <td>80000</td>\n",
       "    </tr>\n",
       "    <tr>\n",
       "      <th>...</th>\n",
       "      <td>...</td>\n",
       "      <td>...</td>\n",
       "      <td>...</td>\n",
       "      <td>...</td>\n",
       "      <td>...</td>\n",
       "      <td>...</td>\n",
       "      <td>...</td>\n",
       "      <td>...</td>\n",
       "      <td>...</td>\n",
       "      <td>...</td>\n",
       "      <td>...</td>\n",
       "      <td>...</td>\n",
       "      <td>...</td>\n",
       "      <td>...</td>\n",
       "      <td>...</td>\n",
       "    </tr>\n",
       "    <tr>\n",
       "      <th>4930</th>\n",
       "      <td>91.0</td>\n",
       "      <td>78.0</td>\n",
       "      <td>56.0</td>\n",
       "      <td>184.0</td>\n",
       "      <td>376.0</td>\n",
       "      <td>2882062.0</td>\n",
       "      <td>5178</td>\n",
       "      <td>1144</td>\n",
       "      <td>2.0</td>\n",
       "      <td>101.0</td>\n",
       "      <td>150000.0</td>\n",
       "      <td>346.0</td>\n",
       "      <td>6.3</td>\n",
       "      <td>1.85</td>\n",
       "      <td>132</td>\n",
       "    </tr>\n",
       "    <tr>\n",
       "      <th>4931</th>\n",
       "      <td>232.0</td>\n",
       "      <td>85.0</td>\n",
       "      <td>109.0</td>\n",
       "      <td>18.0</td>\n",
       "      <td>200.0</td>\n",
       "      <td>9437933.0</td>\n",
       "      <td>90827</td>\n",
       "      <td>332</td>\n",
       "      <td>0.0</td>\n",
       "      <td>329.0</td>\n",
       "      <td>180000.0</td>\n",
       "      <td>96.0</td>\n",
       "      <td>7.9</td>\n",
       "      <td>1.85</td>\n",
       "      <td>26000</td>\n",
       "    </tr>\n",
       "    <tr>\n",
       "      <th>4933</th>\n",
       "      <td>29.0</td>\n",
       "      <td>93.0</td>\n",
       "      <td>0.0</td>\n",
       "      <td>2.0</td>\n",
       "      <td>58.0</td>\n",
       "      <td>155984.0</td>\n",
       "      <td>586</td>\n",
       "      <td>62</td>\n",
       "      <td>0.0</td>\n",
       "      <td>9.0</td>\n",
       "      <td>160000.0</td>\n",
       "      <td>2.0</td>\n",
       "      <td>7.4</td>\n",
       "      <td>1.85</td>\n",
       "      <td>0</td>\n",
       "    </tr>\n",
       "    <tr>\n",
       "      <th>4936</th>\n",
       "      <td>277.0</td>\n",
       "      <td>88.0</td>\n",
       "      <td>365.0</td>\n",
       "      <td>177.0</td>\n",
       "      <td>383.0</td>\n",
       "      <td>30859000.0</td>\n",
       "      <td>96411</td>\n",
       "      <td>1094</td>\n",
       "      <td>0.0</td>\n",
       "      <td>826.0</td>\n",
       "      <td>83532.0</td>\n",
       "      <td>371.0</td>\n",
       "      <td>7.5</td>\n",
       "      <td>1.85</td>\n",
       "      <td>0</td>\n",
       "    </tr>\n",
       "    <tr>\n",
       "      <th>4941</th>\n",
       "      <td>40.0</td>\n",
       "      <td>91.0</td>\n",
       "      <td>909.0</td>\n",
       "      <td>42.0</td>\n",
       "      <td>909.0</td>\n",
       "      <td>6706368.0</td>\n",
       "      <td>22800</td>\n",
       "      <td>1048</td>\n",
       "      <td>0.0</td>\n",
       "      <td>133.0</td>\n",
       "      <td>160000.0</td>\n",
       "      <td>91.0</td>\n",
       "      <td>7.5</td>\n",
       "      <td>1.66</td>\n",
       "      <td>667</td>\n",
       "    </tr>\n",
       "    <tr>\n",
       "      <th>4955</th>\n",
       "      <td>31.0</td>\n",
       "      <td>111.0</td>\n",
       "      <td>589.0</td>\n",
       "      <td>51.0</td>\n",
       "      <td>589.0</td>\n",
       "      <td>10174663.0</td>\n",
       "      <td>12399</td>\n",
       "      <td>916</td>\n",
       "      <td>0.0</td>\n",
       "      <td>382.0</td>\n",
       "      <td>100000.0</td>\n",
       "      <td>150.0</td>\n",
       "      <td>6.7</td>\n",
       "      <td>1.85</td>\n",
       "      <td>0</td>\n",
       "    </tr>\n",
       "    <tr>\n",
       "      <th>4956</th>\n",
       "      <td>159.0</td>\n",
       "      <td>81.0</td>\n",
       "      <td>3.0</td>\n",
       "      <td>7.0</td>\n",
       "      <td>220.0</td>\n",
       "      <td>22757819.0</td>\n",
       "      <td>13521</td>\n",
       "      <td>276</td>\n",
       "      <td>0.0</td>\n",
       "      <td>150.0</td>\n",
       "      <td>100000.0</td>\n",
       "      <td>40.0</td>\n",
       "      <td>4.2</td>\n",
       "      <td>1.85</td>\n",
       "      <td>0</td>\n",
       "    </tr>\n",
       "    <tr>\n",
       "      <th>4959</th>\n",
       "      <td>21.0</td>\n",
       "      <td>81.0</td>\n",
       "      <td>467.0</td>\n",
       "      <td>287.0</td>\n",
       "      <td>467.0</td>\n",
       "      <td>5228617.0</td>\n",
       "      <td>2770</td>\n",
       "      <td>1431</td>\n",
       "      <td>1.0</td>\n",
       "      <td>32.0</td>\n",
       "      <td>100000.0</td>\n",
       "      <td>322.0</td>\n",
       "      <td>7.0</td>\n",
       "      <td>1.85</td>\n",
       "      <td>471</td>\n",
       "    </tr>\n",
       "    <tr>\n",
       "      <th>4962</th>\n",
       "      <td>88.0</td>\n",
       "      <td>90.0</td>\n",
       "      <td>56.0</td>\n",
       "      <td>56.0</td>\n",
       "      <td>126.0</td>\n",
       "      <td>110536.0</td>\n",
       "      <td>4117</td>\n",
       "      <td>284</td>\n",
       "      <td>1.0</td>\n",
       "      <td>118.0</td>\n",
       "      <td>40000.0</td>\n",
       "      <td>76.0</td>\n",
       "      <td>7.0</td>\n",
       "      <td>1.85</td>\n",
       "      <td>0</td>\n",
       "    </tr>\n",
       "    <tr>\n",
       "      <th>4964</th>\n",
       "      <td>193.0</td>\n",
       "      <td>88.0</td>\n",
       "      <td>3.0</td>\n",
       "      <td>307.0</td>\n",
       "      <td>3000.0</td>\n",
       "      <td>59379.0</td>\n",
       "      <td>12796</td>\n",
       "      <td>4729</td>\n",
       "      <td>3.0</td>\n",
       "      <td>52.0</td>\n",
       "      <td>200000.0</td>\n",
       "      <td>982.0</td>\n",
       "      <td>6.8</td>\n",
       "      <td>2.35</td>\n",
       "      <td>0</td>\n",
       "    </tr>\n",
       "    <tr>\n",
       "      <th>4971</th>\n",
       "      <td>241.0</td>\n",
       "      <td>114.0</td>\n",
       "      <td>29.0</td>\n",
       "      <td>616.0</td>\n",
       "      <td>956.0</td>\n",
       "      <td>32721635.0</td>\n",
       "      <td>67824</td>\n",
       "      <td>3861</td>\n",
       "      <td>0.0</td>\n",
       "      <td>279.0</td>\n",
       "      <td>15000000.0</td>\n",
       "      <td>878.0</td>\n",
       "      <td>6.6</td>\n",
       "      <td>1.85</td>\n",
       "      <td>0</td>\n",
       "    </tr>\n",
       "    <tr>\n",
       "      <th>4973</th>\n",
       "      <td>138.0</td>\n",
       "      <td>84.0</td>\n",
       "      <td>0.0</td>\n",
       "      <td>194.0</td>\n",
       "      <td>1000.0</td>\n",
       "      <td>3216970.0</td>\n",
       "      <td>142619</td>\n",
       "      <td>2065</td>\n",
       "      <td>0.0</td>\n",
       "      <td>586.0</td>\n",
       "      <td>60000.0</td>\n",
       "      <td>512.0</td>\n",
       "      <td>7.5</td>\n",
       "      <td>1.66</td>\n",
       "      <td>24000</td>\n",
       "    </tr>\n",
       "    <tr>\n",
       "      <th>4975</th>\n",
       "      <td>32.0</td>\n",
       "      <td>87.0</td>\n",
       "      <td>0.0</td>\n",
       "      <td>153.0</td>\n",
       "      <td>1000.0</td>\n",
       "      <td>536767.0</td>\n",
       "      <td>1622</td>\n",
       "      <td>1362</td>\n",
       "      <td>0.0</td>\n",
       "      <td>83.0</td>\n",
       "      <td>60000.0</td>\n",
       "      <td>184.0</td>\n",
       "      <td>5.3</td>\n",
       "      <td>1.85</td>\n",
       "      <td>30</td>\n",
       "    </tr>\n",
       "    <tr>\n",
       "      <th>4977</th>\n",
       "      <td>193.0</td>\n",
       "      <td>100.0</td>\n",
       "      <td>293.0</td>\n",
       "      <td>0.0</td>\n",
       "      <td>0.0</td>\n",
       "      <td>11529368.0</td>\n",
       "      <td>85028</td>\n",
       "      <td>0</td>\n",
       "      <td>2.0</td>\n",
       "      <td>404.0</td>\n",
       "      <td>65000.0</td>\n",
       "      <td>0.0</td>\n",
       "      <td>7.3</td>\n",
       "      <td>1.78</td>\n",
       "      <td>0</td>\n",
       "    </tr>\n",
       "    <tr>\n",
       "      <th>4978</th>\n",
       "      <td>66.0</td>\n",
       "      <td>82.0</td>\n",
       "      <td>32.0</td>\n",
       "      <td>128.0</td>\n",
       "      <td>968.0</td>\n",
       "      <td>40557.0</td>\n",
       "      <td>1389</td>\n",
       "      <td>2046</td>\n",
       "      <td>0.0</td>\n",
       "      <td>22.0</td>\n",
       "      <td>60000.0</td>\n",
       "      <td>407.0</td>\n",
       "      <td>5.6</td>\n",
       "      <td>2.35</td>\n",
       "      <td>0</td>\n",
       "    </tr>\n",
       "    <tr>\n",
       "      <th>4979</th>\n",
       "      <td>65.0</td>\n",
       "      <td>82.0</td>\n",
       "      <td>217.0</td>\n",
       "      <td>442.0</td>\n",
       "      <td>10000.0</td>\n",
       "      <td>30084.0</td>\n",
       "      <td>5507</td>\n",
       "      <td>11642</td>\n",
       "      <td>3.0</td>\n",
       "      <td>23.0</td>\n",
       "      <td>70000.0</td>\n",
       "      <td>969.0</td>\n",
       "      <td>5.6</td>\n",
       "      <td>1.85</td>\n",
       "      <td>812</td>\n",
       "    </tr>\n",
       "    <tr>\n",
       "      <th>4984</th>\n",
       "      <td>36.0</td>\n",
       "      <td>98.0</td>\n",
       "      <td>0.0</td>\n",
       "      <td>73.0</td>\n",
       "      <td>138.0</td>\n",
       "      <td>10246600.0</td>\n",
       "      <td>6375</td>\n",
       "      <td>388</td>\n",
       "      <td>0.0</td>\n",
       "      <td>36.0</td>\n",
       "      <td>25000.0</td>\n",
       "      <td>111.0</td>\n",
       "      <td>6.6</td>\n",
       "      <td>1.85</td>\n",
       "      <td>265</td>\n",
       "    </tr>\n",
       "    <tr>\n",
       "      <th>4987</th>\n",
       "      <td>113.0</td>\n",
       "      <td>98.0</td>\n",
       "      <td>969.0</td>\n",
       "      <td>433.0</td>\n",
       "      <td>969.0</td>\n",
       "      <td>389804.0</td>\n",
       "      <td>11816</td>\n",
       "      <td>2530</td>\n",
       "      <td>0.0</td>\n",
       "      <td>35.0</td>\n",
       "      <td>65000.0</td>\n",
       "      <td>529.0</td>\n",
       "      <td>6.3</td>\n",
       "      <td>2.35</td>\n",
       "      <td>0</td>\n",
       "    </tr>\n",
       "    <tr>\n",
       "      <th>4997</th>\n",
       "      <td>75.0</td>\n",
       "      <td>90.0</td>\n",
       "      <td>234.0</td>\n",
       "      <td>15.0</td>\n",
       "      <td>552.0</td>\n",
       "      <td>241816.0</td>\n",
       "      <td>6246</td>\n",
       "      <td>642</td>\n",
       "      <td>0.0</td>\n",
       "      <td>76.0</td>\n",
       "      <td>42000.0</td>\n",
       "      <td>61.0</td>\n",
       "      <td>7.5</td>\n",
       "      <td>2.35</td>\n",
       "      <td>451</td>\n",
       "    </tr>\n",
       "    <tr>\n",
       "      <th>4998</th>\n",
       "      <td>21.0</td>\n",
       "      <td>90.0</td>\n",
       "      <td>4.0</td>\n",
       "      <td>113.0</td>\n",
       "      <td>20000.0</td>\n",
       "      <td>277233.0</td>\n",
       "      <td>2631</td>\n",
       "      <td>20814</td>\n",
       "      <td>5.0</td>\n",
       "      <td>26.0</td>\n",
       "      <td>40000.0</td>\n",
       "      <td>467.0</td>\n",
       "      <td>7.6</td>\n",
       "      <td>1.85</td>\n",
       "      <td>0</td>\n",
       "    </tr>\n",
       "    <tr>\n",
       "      <th>5008</th>\n",
       "      <td>136.0</td>\n",
       "      <td>102.0</td>\n",
       "      <td>0.0</td>\n",
       "      <td>216.0</td>\n",
       "      <td>898.0</td>\n",
       "      <td>3151130.0</td>\n",
       "      <td>181749</td>\n",
       "      <td>2103</td>\n",
       "      <td>4.0</td>\n",
       "      <td>615.0</td>\n",
       "      <td>230000.0</td>\n",
       "      <td>657.0</td>\n",
       "      <td>7.8</td>\n",
       "      <td>1.37</td>\n",
       "      <td>0</td>\n",
       "    </tr>\n",
       "    <tr>\n",
       "      <th>5011</th>\n",
       "      <td>80.0</td>\n",
       "      <td>97.0</td>\n",
       "      <td>119.0</td>\n",
       "      <td>7.0</td>\n",
       "      <td>136.0</td>\n",
       "      <td>2856622.0</td>\n",
       "      <td>11550</td>\n",
       "      <td>254</td>\n",
       "      <td>0.0</td>\n",
       "      <td>197.0</td>\n",
       "      <td>25000.0</td>\n",
       "      <td>108.0</td>\n",
       "      <td>7.3</td>\n",
       "      <td>1.85</td>\n",
       "      <td>489</td>\n",
       "    </tr>\n",
       "    <tr>\n",
       "      <th>5012</th>\n",
       "      <td>233.0</td>\n",
       "      <td>109.0</td>\n",
       "      <td>453.0</td>\n",
       "      <td>120.0</td>\n",
       "      <td>1000.0</td>\n",
       "      <td>10499968.0</td>\n",
       "      <td>47502</td>\n",
       "      <td>1458</td>\n",
       "      <td>3.0</td>\n",
       "      <td>212.0</td>\n",
       "      <td>35000000.0</td>\n",
       "      <td>206.0</td>\n",
       "      <td>5.7</td>\n",
       "      <td>1.85</td>\n",
       "      <td>10000</td>\n",
       "    </tr>\n",
       "    <tr>\n",
       "      <th>5015</th>\n",
       "      <td>61.0</td>\n",
       "      <td>100.0</td>\n",
       "      <td>0.0</td>\n",
       "      <td>0.0</td>\n",
       "      <td>5.0</td>\n",
       "      <td>1227508.0</td>\n",
       "      <td>15103</td>\n",
       "      <td>5</td>\n",
       "      <td>0.0</td>\n",
       "      <td>80.0</td>\n",
       "      <td>23000.0</td>\n",
       "      <td>0.0</td>\n",
       "      <td>7.1</td>\n",
       "      <td>1.37</td>\n",
       "      <td>2000</td>\n",
       "    </tr>\n",
       "    <tr>\n",
       "      <th>5025</th>\n",
       "      <td>73.0</td>\n",
       "      <td>108.0</td>\n",
       "      <td>0.0</td>\n",
       "      <td>105.0</td>\n",
       "      <td>462.0</td>\n",
       "      <td>180483.0</td>\n",
       "      <td>16792</td>\n",
       "      <td>760</td>\n",
       "      <td>2.0</td>\n",
       "      <td>183.0</td>\n",
       "      <td>10000.0</td>\n",
       "      <td>143.0</td>\n",
       "      <td>6.1</td>\n",
       "      <td>1.37</td>\n",
       "      <td>0</td>\n",
       "    </tr>\n",
       "    <tr>\n",
       "      <th>5026</th>\n",
       "      <td>81.0</td>\n",
       "      <td>110.0</td>\n",
       "      <td>107.0</td>\n",
       "      <td>45.0</td>\n",
       "      <td>576.0</td>\n",
       "      <td>136007.0</td>\n",
       "      <td>3924</td>\n",
       "      <td>776</td>\n",
       "      <td>1.0</td>\n",
       "      <td>39.0</td>\n",
       "      <td>4500.0</td>\n",
       "      <td>133.0</td>\n",
       "      <td>6.9</td>\n",
       "      <td>2.35</td>\n",
       "      <td>171</td>\n",
       "    </tr>\n",
       "    <tr>\n",
       "      <th>5027</th>\n",
       "      <td>64.0</td>\n",
       "      <td>90.0</td>\n",
       "      <td>397.0</td>\n",
       "      <td>0.0</td>\n",
       "      <td>5.0</td>\n",
       "      <td>673780.0</td>\n",
       "      <td>4555</td>\n",
       "      <td>5</td>\n",
       "      <td>0.0</td>\n",
       "      <td>26.0</td>\n",
       "      <td>10000.0</td>\n",
       "      <td>0.0</td>\n",
       "      <td>7.5</td>\n",
       "      <td>1.85</td>\n",
       "      <td>697</td>\n",
       "    </tr>\n",
       "    <tr>\n",
       "      <th>5033</th>\n",
       "      <td>143.0</td>\n",
       "      <td>77.0</td>\n",
       "      <td>291.0</td>\n",
       "      <td>8.0</td>\n",
       "      <td>291.0</td>\n",
       "      <td>424760.0</td>\n",
       "      <td>72639</td>\n",
       "      <td>368</td>\n",
       "      <td>0.0</td>\n",
       "      <td>371.0</td>\n",
       "      <td>7000.0</td>\n",
       "      <td>45.0</td>\n",
       "      <td>7.0</td>\n",
       "      <td>1.85</td>\n",
       "      <td>19000</td>\n",
       "    </tr>\n",
       "    <tr>\n",
       "      <th>5035</th>\n",
       "      <td>56.0</td>\n",
       "      <td>81.0</td>\n",
       "      <td>0.0</td>\n",
       "      <td>6.0</td>\n",
       "      <td>121.0</td>\n",
       "      <td>2040920.0</td>\n",
       "      <td>52055</td>\n",
       "      <td>147</td>\n",
       "      <td>0.0</td>\n",
       "      <td>130.0</td>\n",
       "      <td>7000.0</td>\n",
       "      <td>20.0</td>\n",
       "      <td>6.9</td>\n",
       "      <td>1.37</td>\n",
       "      <td>0</td>\n",
       "    </tr>\n",
       "    <tr>\n",
       "      <th>5042</th>\n",
       "      <td>43.0</td>\n",
       "      <td>90.0</td>\n",
       "      <td>16.0</td>\n",
       "      <td>16.0</td>\n",
       "      <td>86.0</td>\n",
       "      <td>85222.0</td>\n",
       "      <td>4285</td>\n",
       "      <td>163</td>\n",
       "      <td>0.0</td>\n",
       "      <td>84.0</td>\n",
       "      <td>1100.0</td>\n",
       "      <td>23.0</td>\n",
       "      <td>6.6</td>\n",
       "      <td>1.85</td>\n",
       "      <td>456</td>\n",
       "    </tr>\n",
       "  </tbody>\n",
       "</table>\n",
       "<p>3756 rows × 15 columns</p>\n",
       "</div>"
      ],
      "text/plain": [
       "      num_critic_for_reviews  duration  director_facebook_likes  \\\n",
       "0                      723.0     178.0                      0.0   \n",
       "1                      302.0     169.0                    563.0   \n",
       "2                      602.0     148.0                      0.0   \n",
       "3                      813.0     164.0                  22000.0   \n",
       "5                      462.0     132.0                    475.0   \n",
       "6                      392.0     156.0                      0.0   \n",
       "7                      324.0     100.0                     15.0   \n",
       "8                      635.0     141.0                      0.0   \n",
       "9                      375.0     153.0                    282.0   \n",
       "10                     673.0     183.0                      0.0   \n",
       "11                     434.0     169.0                      0.0   \n",
       "12                     403.0     106.0                    395.0   \n",
       "13                     313.0     151.0                    563.0   \n",
       "14                     450.0     150.0                    563.0   \n",
       "15                     733.0     143.0                      0.0   \n",
       "16                     258.0     150.0                     80.0   \n",
       "17                     703.0     173.0                      0.0   \n",
       "18                     448.0     136.0                    252.0   \n",
       "19                     451.0     106.0                    188.0   \n",
       "20                     422.0     164.0                      0.0   \n",
       "21                     599.0     153.0                    464.0   \n",
       "22                     343.0     156.0                      0.0   \n",
       "23                     509.0     186.0                      0.0   \n",
       "24                     251.0     113.0                    129.0   \n",
       "25                     446.0     201.0                      0.0   \n",
       "26                     315.0     194.0                      0.0   \n",
       "27                     516.0     147.0                     94.0   \n",
       "28                     377.0     131.0                    532.0   \n",
       "29                     644.0     124.0                    365.0   \n",
       "30                     750.0     143.0                      0.0   \n",
       "...                      ...       ...                      ...   \n",
       "4930                    91.0      78.0                     56.0   \n",
       "4931                   232.0      85.0                    109.0   \n",
       "4933                    29.0      93.0                      0.0   \n",
       "4936                   277.0      88.0                    365.0   \n",
       "4941                    40.0      91.0                    909.0   \n",
       "4955                    31.0     111.0                    589.0   \n",
       "4956                   159.0      81.0                      3.0   \n",
       "4959                    21.0      81.0                    467.0   \n",
       "4962                    88.0      90.0                     56.0   \n",
       "4964                   193.0      88.0                      3.0   \n",
       "4971                   241.0     114.0                     29.0   \n",
       "4973                   138.0      84.0                      0.0   \n",
       "4975                    32.0      87.0                      0.0   \n",
       "4977                   193.0     100.0                    293.0   \n",
       "4978                    66.0      82.0                     32.0   \n",
       "4979                    65.0      82.0                    217.0   \n",
       "4984                    36.0      98.0                      0.0   \n",
       "4987                   113.0      98.0                    969.0   \n",
       "4997                    75.0      90.0                    234.0   \n",
       "4998                    21.0      90.0                      4.0   \n",
       "5008                   136.0     102.0                      0.0   \n",
       "5011                    80.0      97.0                    119.0   \n",
       "5012                   233.0     109.0                    453.0   \n",
       "5015                    61.0     100.0                      0.0   \n",
       "5025                    73.0     108.0                      0.0   \n",
       "5026                    81.0     110.0                    107.0   \n",
       "5027                    64.0      90.0                    397.0   \n",
       "5033                   143.0      77.0                    291.0   \n",
       "5035                    56.0      81.0                      0.0   \n",
       "5042                    43.0      90.0                     16.0   \n",
       "\n",
       "      actor_3_facebook_likes  actor_1_facebook_likes        gross  \\\n",
       "0                      855.0                  1000.0  760505847.0   \n",
       "1                     1000.0                 40000.0  309404152.0   \n",
       "2                      161.0                 11000.0  200074175.0   \n",
       "3                    23000.0                 27000.0  448130642.0   \n",
       "5                      530.0                   640.0   73058679.0   \n",
       "6                     4000.0                 24000.0  336530303.0   \n",
       "7                      284.0                   799.0  200807262.0   \n",
       "8                    19000.0                 26000.0  458991599.0   \n",
       "9                    10000.0                 25000.0  301956980.0   \n",
       "10                    2000.0                 15000.0  330249062.0   \n",
       "11                     903.0                 18000.0  200069408.0   \n",
       "12                     393.0                   451.0  168368427.0   \n",
       "13                    1000.0                 40000.0  423032628.0   \n",
       "14                    1000.0                 40000.0   89289910.0   \n",
       "15                     748.0                 15000.0  291021565.0   \n",
       "16                     201.0                 22000.0  141614023.0   \n",
       "17                   19000.0                 26000.0  623279547.0   \n",
       "18                    1000.0                 40000.0  241063875.0   \n",
       "19                     718.0                 10000.0  179020854.0   \n",
       "20                     773.0                  5000.0  255108370.0   \n",
       "21                     963.0                 15000.0  262030663.0   \n",
       "22                     738.0                   891.0  105219735.0   \n",
       "23                     773.0                  5000.0  258355354.0   \n",
       "24                    1000.0                 16000.0   70083519.0   \n",
       "25                      84.0                  6000.0  218051260.0   \n",
       "26                     794.0                 29000.0  658672302.0   \n",
       "27                   11000.0                 21000.0  407197282.0   \n",
       "28                     627.0                 14000.0   65173160.0   \n",
       "29                    1000.0                  3000.0  652177271.0   \n",
       "30                     393.0                   883.0  304360277.0   \n",
       "...                      ...                     ...          ...   \n",
       "4930                   184.0                   376.0    2882062.0   \n",
       "4931                    18.0                   200.0    9437933.0   \n",
       "4933                     2.0                    58.0     155984.0   \n",
       "4936                   177.0                   383.0   30859000.0   \n",
       "4941                    42.0                   909.0    6706368.0   \n",
       "4955                    51.0                   589.0   10174663.0   \n",
       "4956                     7.0                   220.0   22757819.0   \n",
       "4959                   287.0                   467.0    5228617.0   \n",
       "4962                    56.0                   126.0     110536.0   \n",
       "4964                   307.0                  3000.0      59379.0   \n",
       "4971                   616.0                   956.0   32721635.0   \n",
       "4973                   194.0                  1000.0    3216970.0   \n",
       "4975                   153.0                  1000.0     536767.0   \n",
       "4977                     0.0                     0.0   11529368.0   \n",
       "4978                   128.0                   968.0      40557.0   \n",
       "4979                   442.0                 10000.0      30084.0   \n",
       "4984                    73.0                   138.0   10246600.0   \n",
       "4987                   433.0                   969.0     389804.0   \n",
       "4997                    15.0                   552.0     241816.0   \n",
       "4998                   113.0                 20000.0     277233.0   \n",
       "5008                   216.0                   898.0    3151130.0   \n",
       "5011                     7.0                   136.0    2856622.0   \n",
       "5012                   120.0                  1000.0   10499968.0   \n",
       "5015                     0.0                     5.0    1227508.0   \n",
       "5025                   105.0                   462.0     180483.0   \n",
       "5026                    45.0                   576.0     136007.0   \n",
       "5027                     0.0                     5.0     673780.0   \n",
       "5033                     8.0                   291.0     424760.0   \n",
       "5035                     6.0                   121.0    2040920.0   \n",
       "5042                    16.0                    86.0      85222.0   \n",
       "\n",
       "      num_voted_users  cast_total_facebook_likes  facenumber_in_poster  \\\n",
       "0              886204                       4834                   0.0   \n",
       "1              471220                      48350                   0.0   \n",
       "2              275868                      11700                   1.0   \n",
       "3             1144337                     106759                   0.0   \n",
       "5              212204                       1873                   1.0   \n",
       "6              383056                      46055                   0.0   \n",
       "7              294810                       2036                   1.0   \n",
       "8              462669                      92000                   4.0   \n",
       "9              321795                      58753                   3.0   \n",
       "10             371639                      24450                   0.0   \n",
       "11             240396                      29991                   0.0   \n",
       "12             330784                       2023                   1.0   \n",
       "13             522040                      48486                   2.0   \n",
       "14             181792                      45757                   1.0   \n",
       "15             548573                      20495                   0.0   \n",
       "16             149922                      22697                   4.0   \n",
       "17             995415                      87697                   3.0   \n",
       "18             370704                      54083                   4.0   \n",
       "19             268154                      12572                   1.0   \n",
       "20             354228                       9152                   0.0   \n",
       "21             451803                      28489                   0.0   \n",
       "22             211765                       3244                   0.0   \n",
       "23             483540                       9152                   6.0   \n",
       "24             149019                      24106                   2.0   \n",
       "25             316018                       7123                   0.0   \n",
       "26             793059                      45223                   0.0   \n",
       "27             272670                      64798                   0.0   \n",
       "28             202382                      26679                   0.0   \n",
       "29             418214                       8458                   0.0   \n",
       "30             522030                       2039                   0.0   \n",
       "...               ...                        ...                   ...   \n",
       "4930             5178                       1144                   2.0   \n",
       "4931            90827                        332                   0.0   \n",
       "4933              586                         62                   0.0   \n",
       "4936            96411                       1094                   0.0   \n",
       "4941            22800                       1048                   0.0   \n",
       "4955            12399                        916                   0.0   \n",
       "4956            13521                        276                   0.0   \n",
       "4959             2770                       1431                   1.0   \n",
       "4962             4117                        284                   1.0   \n",
       "4964            12796                       4729                   3.0   \n",
       "4971            67824                       3861                   0.0   \n",
       "4973           142619                       2065                   0.0   \n",
       "4975             1622                       1362                   0.0   \n",
       "4977            85028                          0                   2.0   \n",
       "4978             1389                       2046                   0.0   \n",
       "4979             5507                      11642                   3.0   \n",
       "4984             6375                        388                   0.0   \n",
       "4987            11816                       2530                   0.0   \n",
       "4997             6246                        642                   0.0   \n",
       "4998             2631                      20814                   5.0   \n",
       "5008           181749                       2103                   4.0   \n",
       "5011            11550                        254                   0.0   \n",
       "5012            47502                       1458                   3.0   \n",
       "5015            15103                          5                   0.0   \n",
       "5025            16792                        760                   2.0   \n",
       "5026             3924                        776                   1.0   \n",
       "5027             4555                          5                   0.0   \n",
       "5033            72639                        368                   0.0   \n",
       "5035            52055                        147                   0.0   \n",
       "5042             4285                        163                   0.0   \n",
       "\n",
       "      num_user_for_reviews       budget  actor_2_facebook_likes  imdb_score  \\\n",
       "0                   3054.0  237000000.0                   936.0         7.9   \n",
       "1                   1238.0  300000000.0                  5000.0         7.1   \n",
       "2                    994.0  245000000.0                   393.0         6.8   \n",
       "3                   2701.0  250000000.0                 23000.0         8.5   \n",
       "5                    738.0  263700000.0                   632.0         6.6   \n",
       "6                   1902.0  258000000.0                 11000.0         6.2   \n",
       "7                    387.0  260000000.0                   553.0         7.8   \n",
       "8                   1117.0  250000000.0                 21000.0         7.5   \n",
       "9                    973.0  250000000.0                 11000.0         7.5   \n",
       "10                  3018.0  250000000.0                  4000.0         6.9   \n",
       "11                  2367.0  209000000.0                 10000.0         6.1   \n",
       "12                  1243.0  200000000.0                   412.0         6.7   \n",
       "13                  1832.0  225000000.0                  5000.0         7.3   \n",
       "14                   711.0  215000000.0                  2000.0         6.5   \n",
       "15                  2536.0  225000000.0                  3000.0         7.2   \n",
       "16                   438.0  225000000.0                   216.0         6.6   \n",
       "17                  1722.0  220000000.0                 21000.0         8.1   \n",
       "18                   484.0  250000000.0                 11000.0         6.7   \n",
       "19                   341.0  225000000.0                   816.0         6.8   \n",
       "20                   802.0  250000000.0                   972.0         7.5   \n",
       "21                  1225.0  230000000.0                 10000.0         7.0   \n",
       "22                   546.0  200000000.0                   882.0         6.7   \n",
       "23                   951.0  225000000.0                   972.0         7.9   \n",
       "24                   666.0  180000000.0                  6000.0         6.1   \n",
       "25                  2618.0  207000000.0                   919.0         7.2   \n",
       "26                  2528.0  200000000.0                 14000.0         7.7   \n",
       "27                  1022.0  250000000.0                 19000.0         8.2   \n",
       "28                   751.0  209000000.0                 10000.0         5.9   \n",
       "29                  1290.0  150000000.0                  2000.0         7.0   \n",
       "30                  1498.0  200000000.0                   563.0         7.8   \n",
       "...                    ...          ...                     ...         ...   \n",
       "4930                 101.0     150000.0                   346.0         6.3   \n",
       "4931                 329.0     180000.0                    96.0         7.9   \n",
       "4933                   9.0     160000.0                     2.0         7.4   \n",
       "4936                 826.0      83532.0                   371.0         7.5   \n",
       "4941                 133.0     160000.0                    91.0         7.5   \n",
       "4955                 382.0     100000.0                   150.0         6.7   \n",
       "4956                 150.0     100000.0                    40.0         4.2   \n",
       "4959                  32.0     100000.0                   322.0         7.0   \n",
       "4962                 118.0      40000.0                    76.0         7.0   \n",
       "4964                  52.0     200000.0                   982.0         6.8   \n",
       "4971                 279.0   15000000.0                   878.0         6.6   \n",
       "4973                 586.0      60000.0                   512.0         7.5   \n",
       "4975                  83.0      60000.0                   184.0         5.3   \n",
       "4977                 404.0      65000.0                     0.0         7.3   \n",
       "4978                  22.0      60000.0                   407.0         5.6   \n",
       "4979                  23.0      70000.0                   969.0         5.6   \n",
       "4984                  36.0      25000.0                   111.0         6.6   \n",
       "4987                  35.0      65000.0                   529.0         6.3   \n",
       "4997                  76.0      42000.0                    61.0         7.5   \n",
       "4998                  26.0      40000.0                   467.0         7.6   \n",
       "5008                 615.0     230000.0                   657.0         7.8   \n",
       "5011                 197.0      25000.0                   108.0         7.3   \n",
       "5012                 212.0   35000000.0                   206.0         5.7   \n",
       "5015                  80.0      23000.0                     0.0         7.1   \n",
       "5025                 183.0      10000.0                   143.0         6.1   \n",
       "5026                  39.0       4500.0                   133.0         6.9   \n",
       "5027                  26.0      10000.0                     0.0         7.5   \n",
       "5033                 371.0       7000.0                    45.0         7.0   \n",
       "5035                 130.0       7000.0                    20.0         6.9   \n",
       "5042                  84.0       1100.0                    23.0         6.6   \n",
       "\n",
       "      aspect_ratio  movie_facebook_likes  \n",
       "0             1.78                 33000  \n",
       "1             2.35                     0  \n",
       "2             2.35                 85000  \n",
       "3             2.35                164000  \n",
       "5             2.35                 24000  \n",
       "6             2.35                     0  \n",
       "7             1.85                 29000  \n",
       "8             2.35                118000  \n",
       "9             2.35                 10000  \n",
       "10            2.35                197000  \n",
       "11            2.35                     0  \n",
       "12            2.35                     0  \n",
       "13            2.35                  5000  \n",
       "14            2.35                 48000  \n",
       "15            2.35                118000  \n",
       "16            2.35                     0  \n",
       "17            1.85                123000  \n",
       "18            2.35                 58000  \n",
       "19            1.85                 40000  \n",
       "20            2.35                 65000  \n",
       "21            2.35                 56000  \n",
       "22            2.35                 17000  \n",
       "23            2.35                 83000  \n",
       "24            2.35                     0  \n",
       "25            2.35                     0  \n",
       "26            2.35                 26000  \n",
       "27            2.35                 72000  \n",
       "28            2.35                 44000  \n",
       "29            2.00                150000  \n",
       "30            2.35                 80000  \n",
       "...            ...                   ...  \n",
       "4930          1.85                   132  \n",
       "4931          1.85                 26000  \n",
       "4933          1.85                     0  \n",
       "4936          1.85                     0  \n",
       "4941          1.66                   667  \n",
       "4955          1.85                     0  \n",
       "4956          1.85                     0  \n",
       "4959          1.85                   471  \n",
       "4962          1.85                     0  \n",
       "4964          2.35                     0  \n",
       "4971          1.85                     0  \n",
       "4973          1.66                 24000  \n",
       "4975          1.85                    30  \n",
       "4977          1.78                     0  \n",
       "4978          2.35                     0  \n",
       "4979          1.85                   812  \n",
       "4984          1.85                   265  \n",
       "4987          2.35                     0  \n",
       "4997          2.35                   451  \n",
       "4998          1.85                     0  \n",
       "5008          1.37                     0  \n",
       "5011          1.85                   489  \n",
       "5012          1.85                 10000  \n",
       "5015          1.37                  2000  \n",
       "5025          1.37                     0  \n",
       "5026          2.35                   171  \n",
       "5027          1.85                   697  \n",
       "5033          1.85                 19000  \n",
       "5035          1.37                     0  \n",
       "5042          1.85                   456  \n",
       "\n",
       "[3756 rows x 15 columns]"
      ]
     },
     "execution_count": 185,
     "metadata": {},
     "output_type": "execute_result"
    }
   ],
   "source": [
    "num_data.fillna(num_data.median(),inplace = True)"
   ]
  },
  {
   "cell_type": "code",
   "execution_count": 186,
   "metadata": {},
   "outputs": [
    {
     "data": {
      "image/png": "[encoded data removed]",
      "text/plain": [
       "<matplotlib.figure.Figure at 0xe9a0d30>"
      ]
     },
     "metadata": {},
     "output_type": "display_data"
    }
   ],
   "source": [
    "# most correlated features\n",
    "import seaborn as sns\n",
    "corrmat = num_data.corr()\n",
    "plt.figure(figsize = (10,7))\n",
    "# or fig, ax = plt.subplots(figsize=(20, 10))\n",
    "top_corr_features = corrmat.index[abs(corrmat[\"imdb_score\"])>0.1]\n",
    "g = sns.heatmap(data[top_corr_features].corr(),annot=True,cmap=\"RdYlGn\")\n",
    "#g = sns.heatmap(corrmat,annot=True,cmap=\"RdYlGn\")"
   ]
  },
  {
   "cell_type": "code",
   "execution_count": 187,
   "metadata": {},
   "outputs": [
    {
     "name": "stdout",
     "output_type": "stream",
     "text": [
      "imdb_score                   1.000000\n",
      "num_voted_users              0.482430\n",
      "duration                     0.366221\n",
      "num_critic_for_reviews       0.347886\n",
      "num_user_for_reviews         0.325003\n",
      "movie_facebook_likes         0.281155\n",
      "gross                        0.214740\n",
      "director_facebook_likes      0.192314\n",
      "cast_total_facebook_likes    0.106803\n",
      "actor_2_facebook_likes       0.102372\n",
      "actor_1_facebook_likes       0.093597\n",
      "actor_3_facebook_likes       0.065544\n",
      "aspect_ratio                 0.029979\n",
      "budget                       0.029190\n",
      "facenumber_in_poster        -0.065493\n",
      "Name: imdb_score, dtype: float64\n"
     ]
    }
   ],
   "source": [
    "corrmat.sort_values([\"imdb_score\"], ascending = False, inplace = True)\n",
    "print(corrmat.imdb_score)"
   ]
  },
  {
   "cell_type": "code",
   "execution_count": 188,
   "metadata": {
    "scrolled": false
   },
   "outputs": [
    {
     "data": {
      "text/plain": [
       "['imdb_score',\n",
       " 'num_voted_users',\n",
       " 'duration',\n",
       " 'num_critic_for_reviews',\n",
       " 'num_user_for_reviews']"
      ]
     },
     "execution_count": 188,
     "metadata": {},
     "output_type": "execute_result"
    }
   ],
   "source": [
    "corrmat.index[abs(corrmat['imdb_score']) > 0.3].tolist()"
   ]
  },
  {
   "cell_type": "markdown",
   "metadata": {},
   "source": [
    "# Outliers"
   ]
  },
  {
   "cell_type": "code",
   "execution_count": 189,
   "metadata": {
    "collapsed": true
   },
   "outputs": [],
   "source": [
    "import numpy as np\n",
    "\n",
    "def outliers_iqr(ys):\n",
    "    quartile_1, quartile_3 = np.percentile(ys, [25, 75])\n",
    "    iqr = quartile_3 - quartile_1\n",
    "    lower_bound = quartile_1 - (iqr * 1)\n",
    "    upper_bound = quartile_3 + (iqr * 1)\n",
    "    return np.where((ys > upper_bound) | (ys < lower_bound))"
   ]
  },
  {
   "cell_type": "code",
   "execution_count": 190,
   "metadata": {
    "collapsed": true
   },
   "outputs": [],
   "source": [
    "# outliers = num_data[(num_data['num_voted_users'] >200000) | (num_data['num_voted_users'] < 1000)].index\n",
    "# outliers.size\n",
    "\n",
    "# num_data.drop(outliers,inplace = True)\n",
    "# cat_data.drop(outliers,inplace = True)\n",
    "\n",
    "#sns.distplot(num_data['num_voted_users'])"
   ]
  },
  {
   "cell_type": "code",
   "execution_count": 191,
   "metadata": {
    "collapsed": true,
    "scrolled": true
   },
   "outputs": [],
   "source": [
    "# test = outliers_iqr(num_data['num_voted_users'])\n",
    "\n",
    "# # c=np.intersect1d(num_data.index.values,test)\n",
    "\n",
    "# c=np.setxor1d(num_data.index.values,test)\n",
    "\n",
    "# c.size\n",
    "\n",
    "# num_data_filtered = num_data.loc[c]\n",
    "\n",
    "# num_data_filtered.shape\n",
    "\n",
    "# sns.distplot(num_data_filtered['num_voted_users'])"
   ]
  },
  {
   "cell_type": "code",
   "execution_count": 192,
   "metadata": {
    "collapsed": true
   },
   "outputs": [],
   "source": [
    "# num_data_filtered.head()"
   ]
  },
  {
   "cell_type": "markdown",
   "metadata": {},
   "source": [
    "### Categorical Variable Genre "
   ]
  },
  {
   "cell_type": "code",
   "execution_count": 193,
   "metadata": {
    "collapsed": true
   },
   "outputs": [],
   "source": [
    "df_genres = pd.DataFrame(cat_data['genres'])\n",
    "df_genres = pd.DataFrame(df_genres.genres.str.split('|').tolist(),columns = [\"Genre_\"+str(i) for i in  range(0,8)] )\n",
    "\n",
    "df_genres = df_genres.reindex(cat_data.index)\n",
    "\n",
    "\n",
    "cat_data.drop('genres',inplace = True, axis = 1)\n",
    "cat_data = cat_data.merge(df_genres,left_index = True,right_index = True)"
   ]
  },
  {
   "cell_type": "code",
   "execution_count": 194,
   "metadata": {
    "scrolled": true
   },
   "outputs": [
    {
     "data": {
      "text/plain": [
       "(3756, 19)"
      ]
     },
     "execution_count": 194,
     "metadata": {},
     "output_type": "execute_result"
    }
   ],
   "source": [
    "cat_data.shape"
   ]
  },
  {
   "cell_type": "markdown",
   "metadata": {},
   "source": [
    "### Plot Keywords Handling"
   ]
  },
  {
   "cell_type": "code",
   "execution_count": 195,
   "metadata": {
    "collapsed": true
   },
   "outputs": [],
   "source": [
    "df_plot_keywords = pd.DataFrame(cat_data['plot_keywords'])\n",
    "df_plot_keywords = pd.DataFrame(df_plot_keywords.plot_keywords.str.split('|').tolist(),columns = [\"plot_keywords_\"+str(i) for i in  range(0,5)] )\n",
    "cat_data.drop('plot_keywords',inplace = True, axis = 1)\n",
    "df_plot_keywords = df_plot_keywords.reindex(cat_data.index)\n",
    "cat_data = cat_data.merge(df_plot_keywords,left_index = True,right_index = True)"
   ]
  },
  {
   "cell_type": "code",
   "execution_count": 196,
   "metadata": {
    "scrolled": true
   },
   "outputs": [
    {
     "data": {
      "text/html": [
       "<div>\n",
       "<style>\n",
       "    .dataframe thead tr:only-child th {\n",
       "        text-align: right;\n",
       "    }\n",
       "\n",
       "    .dataframe thead th {\n",
       "        text-align: left;\n",
       "    }\n",
       "\n",
       "    .dataframe tbody tr th {\n",
       "        vertical-align: top;\n",
       "    }\n",
       "</style>\n",
       "<table border=\"1\" class=\"dataframe\">\n",
       "  <thead>\n",
       "    <tr style=\"text-align: right;\">\n",
       "      <th></th>\n",
       "      <th>color</th>\n",
       "      <th>director_name</th>\n",
       "      <th>actor_2_name</th>\n",
       "      <th>actor_1_name</th>\n",
       "      <th>movie_title</th>\n",
       "      <th>actor_3_name</th>\n",
       "      <th>movie_imdb_link</th>\n",
       "      <th>language</th>\n",
       "      <th>country</th>\n",
       "      <th>content_rating</th>\n",
       "      <th>Genre_0</th>\n",
       "      <th>Genre_1</th>\n",
       "      <th>Genre_2</th>\n",
       "      <th>Genre_3</th>\n",
       "      <th>Genre_4</th>\n",
       "      <th>Genre_5</th>\n",
       "      <th>Genre_6</th>\n",
       "      <th>Genre_7</th>\n",
       "      <th>plot_keywords_0</th>\n",
       "      <th>plot_keywords_1</th>\n",
       "      <th>plot_keywords_2</th>\n",
       "      <th>plot_keywords_3</th>\n",
       "      <th>plot_keywords_4</th>\n",
       "    </tr>\n",
       "  </thead>\n",
       "  <tbody>\n",
       "    <tr>\n",
       "      <th>0</th>\n",
       "      <td>Color</td>\n",
       "      <td>James Cameron</td>\n",
       "      <td>Joel David Moore</td>\n",
       "      <td>CCH Pounder</td>\n",
       "      <td>Avatar</td>\n",
       "      <td>Wes Studi</td>\n",
       "      <td>http://www.imdb.com/title/tt0499549/?ref_=fn_t...</td>\n",
       "      <td>English</td>\n",
       "      <td>USA</td>\n",
       "      <td>PG-13</td>\n",
       "      <td>Action</td>\n",
       "      <td>Adventure</td>\n",
       "      <td>Fantasy</td>\n",
       "      <td>Sci-Fi</td>\n",
       "      <td>None</td>\n",
       "      <td>None</td>\n",
       "      <td>None</td>\n",
       "      <td>None</td>\n",
       "      <td>avatar</td>\n",
       "      <td>future</td>\n",
       "      <td>marine</td>\n",
       "      <td>native</td>\n",
       "      <td>paraplegic</td>\n",
       "    </tr>\n",
       "    <tr>\n",
       "      <th>1</th>\n",
       "      <td>Color</td>\n",
       "      <td>Gore Verbinski</td>\n",
       "      <td>Orlando Bloom</td>\n",
       "      <td>Johnny Depp</td>\n",
       "      <td>Pirates of the Caribbean: At World's End</td>\n",
       "      <td>Jack Davenport</td>\n",
       "      <td>http://www.imdb.com/title/tt0449088/?ref_=fn_t...</td>\n",
       "      <td>English</td>\n",
       "      <td>USA</td>\n",
       "      <td>PG-13</td>\n",
       "      <td>Action</td>\n",
       "      <td>Adventure</td>\n",
       "      <td>Fantasy</td>\n",
       "      <td>None</td>\n",
       "      <td>None</td>\n",
       "      <td>None</td>\n",
       "      <td>None</td>\n",
       "      <td>None</td>\n",
       "      <td>goddess</td>\n",
       "      <td>marriage ceremony</td>\n",
       "      <td>marriage proposal</td>\n",
       "      <td>pirate</td>\n",
       "      <td>singapore</td>\n",
       "    </tr>\n",
       "  </tbody>\n",
       "</table>\n",
       "</div>"
      ],
      "text/plain": [
       "   color   director_name      actor_2_name actor_1_name  \\\n",
       "0  Color   James Cameron  Joel David Moore  CCH Pounder   \n",
       "1  Color  Gore Verbinski     Orlando Bloom  Johnny Depp   \n",
       "\n",
       "                                 movie_title    actor_3_name  \\\n",
       "0                                    Avatar        Wes Studi   \n",
       "1  Pirates of the Caribbean: At World's End   Jack Davenport   \n",
       "\n",
       "                                     movie_imdb_link language country  \\\n",
       "0  http://www.imdb.com/title/tt0499549/?ref_=fn_t...  English     USA   \n",
       "1  http://www.imdb.com/title/tt0449088/?ref_=fn_t...  English     USA   \n",
       "\n",
       "  content_rating Genre_0    Genre_1  Genre_2 Genre_3 Genre_4 Genre_5 Genre_6  \\\n",
       "0          PG-13  Action  Adventure  Fantasy  Sci-Fi    None    None    None   \n",
       "1          PG-13  Action  Adventure  Fantasy    None    None    None    None   \n",
       "\n",
       "  Genre_7 plot_keywords_0    plot_keywords_1    plot_keywords_2  \\\n",
       "0    None          avatar             future             marine   \n",
       "1    None         goddess  marriage ceremony  marriage proposal   \n",
       "\n",
       "  plot_keywords_3 plot_keywords_4  \n",
       "0          native      paraplegic  \n",
       "1          pirate       singapore  "
      ]
     },
     "execution_count": 196,
     "metadata": {},
     "output_type": "execute_result"
    }
   ],
   "source": [
    "cat_data.head(2)"
   ]
  },
  {
   "cell_type": "code",
   "execution_count": 197,
   "metadata": {},
   "outputs": [
    {
     "data": {
      "text/plain": [
       "(3756, 23)"
      ]
     },
     "execution_count": 197,
     "metadata": {},
     "output_type": "execute_result"
    }
   ],
   "source": [
    "cat_data.shape"
   ]
  },
  {
   "cell_type": "markdown",
   "metadata": {},
   "source": [
    "### Filling NaN values in Categorical Features with Mode"
   ]
  },
  {
   "cell_type": "code",
   "execution_count": 198,
   "metadata": {
    "collapsed": true
   },
   "outputs": [],
   "source": [
    "# cat_data = data[categorical_features]"
   ]
  },
  {
   "cell_type": "code",
   "execution_count": 199,
   "metadata": {
    "collapsed": true
   },
   "outputs": [],
   "source": [
    "# # from sklearn.preprocessing import Imputer\n",
    "# # imr = Imputer(missing_values='NaN', strategy='most_frequent', axis=0)\n",
    "# # imr = imr.fit(cat_data)\n",
    "# # cat_data = imr.transform(cat_data.values)\n",
    "# cat_data.fillna(cat_data.mode(),inplace = True)\n",
    "# cat_data = cat_data.apply(lambda x:x.fillna(x.value_counts().index[0]))"
   ]
  },
  {
   "cell_type": "code",
   "execution_count": 200,
   "metadata": {
    "collapsed": true,
    "scrolled": false
   },
   "outputs": [],
   "source": [
    "\n",
    "# cat_data = cat_data.loc[:,['color',\n",
    "#  'Genre_5',\n",
    "#  'Genre_4',\n",
    "#  'Genre_3',\n",
    "#  'content_rating',\n",
    "#  'Genre_0',\n",
    "#  'Genre_2',\n",
    "#  'Genre_1',\n",
    "#  'language',\n",
    "#  'country']]\n",
    "\n",
    "# fig, ax = plt.subplots(figsize=(20,20), ncols=3, nrows=3)\n",
    "# sns.countplot(data = cat_data, x= 'color', ax = ax[0][0])\n",
    "# sns.countplot(data = cat_data, x= 'language', ax = ax[0][1])\n",
    "# sns.countplot(data = cat_data, x= 'country', ax = ax[1][0])\n",
    "# sns.countplot(data = cat_data, x= 'content_rating', ax = ax[1][1])\n",
    "# sns.countplot(data = cat_data, x= 'Genre_0', ax = ax[2][0])\n",
    "# sns.countplot(data = cat_data, x= 'Genre_1', ax = ax[2][1])\n",
    "# sns.countplot(data = cat_data, x= 'Genre_2', ax = ax[2][2])\n",
    "# sns.countplot(data = cat_data, x= 'Genre_3', ax = ax[0][2])\n",
    "# sns.countplot(data = cat_data, x= 'Genre_4', ax = ax[1][2])\n",
    "# sns.countplot(data = cat_data, x= 'Genre_5', ax = ax[1][1])"
   ]
  },
  {
   "cell_type": "code",
   "execution_count": 201,
   "metadata": {},
   "outputs": [
    {
     "data": {
      "text/plain": [
       "color                 2\n",
       "Genre_7               3\n",
       "Genre_6               9\n",
       "Genre_5              12\n",
       "content_rating       12\n",
       "Genre_4              16\n",
       "Genre_3              17\n",
       "Genre_0              17\n",
       "Genre_2              21\n",
       "Genre_1              21\n",
       "language             34\n",
       "country              45\n",
       "actor_1_name       1428\n",
       "plot_keywords_0    1486\n",
       "director_name      1659\n",
       "plot_keywords_4    1688\n",
       "plot_keywords_1    1757\n",
       "plot_keywords_3    1819\n",
       "plot_keywords_2    1895\n",
       "actor_2_name       2188\n",
       "actor_3_name       2587\n",
       "movie_title        3655\n",
       "movie_imdb_link    3656\n",
       "dtype: int64"
      ]
     },
     "execution_count": 201,
     "metadata": {},
     "output_type": "execute_result"
    }
   ],
   "source": [
    "cat_data.nunique().sort_values()\n"
   ]
  },
  {
   "cell_type": "code",
   "execution_count": 202,
   "metadata": {
    "scrolled": false
   },
   "outputs": [
    {
     "data": {
      "text/plain": [
       "Index([u'color', u'director_name', u'actor_2_name', u'actor_1_name',\n",
       "       u'movie_title', u'actor_3_name', u'movie_imdb_link', u'language',\n",
       "       u'country', u'content_rating', u'Genre_0', u'Genre_1', u'Genre_2',\n",
       "       u'Genre_3', u'Genre_4', u'Genre_5', u'Genre_6', u'Genre_7',\n",
       "       u'plot_keywords_0', u'plot_keywords_1', u'plot_keywords_2',\n",
       "       u'plot_keywords_3', u'plot_keywords_4'],\n",
       "      dtype='object')"
      ]
     },
     "execution_count": 202,
     "metadata": {},
     "output_type": "execute_result"
    }
   ],
   "source": [
    "cat_data.columns"
   ]
  },
  {
   "cell_type": "code",
   "execution_count": 203,
   "metadata": {
    "collapsed": true
   },
   "outputs": [],
   "source": [
    "cat_data.drop(['movie_imdb_link','Genre_6','Genre_7'],inplace = True, axis = 1)"
   ]
  },
  {
   "cell_type": "markdown",
   "metadata": {},
   "source": [
    "## Split Data before doing any transformations"
   ]
  },
  {
   "cell_type": "code",
   "execution_count": 204,
   "metadata": {
    "collapsed": true,
    "scrolled": true
   },
   "outputs": [],
   "source": [
    "whole_data = pd.concat([num_data,cat_data],axis = 1)"
   ]
  },
  {
   "cell_type": "code",
   "execution_count": 205,
   "metadata": {
    "collapsed": true
   },
   "outputs": [],
   "source": [
    "y = whole_data['imdb_score']"
   ]
  },
  {
   "cell_type": "code",
   "execution_count": 206,
   "metadata": {
    "collapsed": true,
    "scrolled": true
   },
   "outputs": [],
   "source": [
    "whole_data.drop('imdb_score',axis = 1,inplace = True)"
   ]
  },
  {
   "cell_type": "code",
   "execution_count": 207,
   "metadata": {
    "collapsed": true
   },
   "outputs": [],
   "source": [
    "from sklearn.model_selection import train_test_split # to split the data into two parts\n",
    "X_train,X_test,y_train,y_test = train_test_split(whole_data,y, random_state = 0,test_size = 0.20) # test_size = 0.10"
   ]
  },
  {
   "cell_type": "code",
   "execution_count": 208,
   "metadata": {
    "collapsed": true
   },
   "outputs": [],
   "source": [
    "num_feat = whole_data.select_dtypes(exclude=['object']).columns.tolist()\n",
    "cat_feat = whole_data.select_dtypes(include=['object']).columns.tolist()"
   ]
  },
  {
   "cell_type": "code",
   "execution_count": 209,
   "metadata": {
    "collapsed": true
   },
   "outputs": [],
   "source": [
    "X_train_num = X_train[num_feat]\n",
    "\n",
    "X_train_cat = X_train[cat_feat]"
   ]
  },
  {
   "cell_type": "code",
   "execution_count": 210,
   "metadata": {
    "collapsed": true
   },
   "outputs": [],
   "source": [
    "X_test_num = X_test[num_feat]\n",
    "\n",
    "X_test_cat = X_test[cat_feat]"
   ]
  },
  {
   "cell_type": "markdown",
   "metadata": {},
   "source": [
    "# Skewness"
   ]
  },
  {
   "cell_type": "code",
   "execution_count": 211,
   "metadata": {
    "collapsed": true
   },
   "outputs": [],
   "source": [
    "from scipy.stats import skew \n",
    "skewness = X_train_num.apply(lambda x: skew(x.dropna()))\n",
    "skewness = skewness[abs(skewness) > 0.75]\n",
    "skew_features = X_train_num[skewness.index]\n",
    "skew_features  = np.log1p(skew_features)\n",
    "X_train_num[skewness.index] = skew_features"
   ]
  },
  {
   "cell_type": "code",
   "execution_count": 212,
   "metadata": {
    "scrolled": true
   },
   "outputs": [
    {
     "data": {
      "text/html": [
       "<div>\n",
       "<style>\n",
       "    .dataframe thead tr:only-child th {\n",
       "        text-align: right;\n",
       "    }\n",
       "\n",
       "    .dataframe thead th {\n",
       "        text-align: left;\n",
       "    }\n",
       "\n",
       "    .dataframe tbody tr th {\n",
       "        vertical-align: top;\n",
       "    }\n",
       "</style>\n",
       "<table border=\"1\" class=\"dataframe\">\n",
       "  <thead>\n",
       "    <tr style=\"text-align: right;\">\n",
       "      <th></th>\n",
       "      <th>num_critic_for_reviews</th>\n",
       "      <th>duration</th>\n",
       "      <th>director_facebook_likes</th>\n",
       "      <th>actor_3_facebook_likes</th>\n",
       "      <th>actor_1_facebook_likes</th>\n",
       "      <th>gross</th>\n",
       "      <th>num_voted_users</th>\n",
       "      <th>cast_total_facebook_likes</th>\n",
       "      <th>facenumber_in_poster</th>\n",
       "      <th>num_user_for_reviews</th>\n",
       "      <th>budget</th>\n",
       "      <th>actor_2_facebook_likes</th>\n",
       "      <th>aspect_ratio</th>\n",
       "      <th>movie_facebook_likes</th>\n",
       "    </tr>\n",
       "  </thead>\n",
       "  <tbody>\n",
       "    <tr>\n",
       "      <th>745</th>\n",
       "      <td>5.780744</td>\n",
       "      <td>4.521789</td>\n",
       "      <td>0.000000</td>\n",
       "      <td>6.622736</td>\n",
       "      <td>9.305741</td>\n",
       "      <td>17.982267</td>\n",
       "      <td>12.002309</td>\n",
       "      <td>9.521861</td>\n",
       "      <td>0.000000</td>\n",
       "      <td>7.142827</td>\n",
       "      <td>17.686712</td>\n",
       "      <td>6.853299</td>\n",
       "      <td>1.85</td>\n",
       "      <td>8.699681</td>\n",
       "    </tr>\n",
       "    <tr>\n",
       "      <th>4862</th>\n",
       "      <td>2.995732</td>\n",
       "      <td>4.330733</td>\n",
       "      <td>3.828641</td>\n",
       "      <td>0.000000</td>\n",
       "      <td>1.791759</td>\n",
       "      <td>12.221626</td>\n",
       "      <td>7.264730</td>\n",
       "      <td>2.079442</td>\n",
       "      <td>0.000000</td>\n",
       "      <td>3.091042</td>\n",
       "      <td>12.429220</td>\n",
       "      <td>1.098612</td>\n",
       "      <td>1.85</td>\n",
       "      <td>5.187386</td>\n",
       "    </tr>\n",
       "    <tr>\n",
       "      <th>2808</th>\n",
       "      <td>3.044522</td>\n",
       "      <td>4.941642</td>\n",
       "      <td>4.897840</td>\n",
       "      <td>1.791759</td>\n",
       "      <td>6.049733</td>\n",
       "      <td>14.721347</td>\n",
       "      <td>7.794823</td>\n",
       "      <td>6.102559</td>\n",
       "      <td>0.693147</td>\n",
       "      <td>3.332205</td>\n",
       "      <td>16.454568</td>\n",
       "      <td>2.772589</td>\n",
       "      <td>1.85</td>\n",
       "      <td>4.852030</td>\n",
       "    </tr>\n",
       "    <tr>\n",
       "      <th>2415</th>\n",
       "      <td>6.030685</td>\n",
       "      <td>4.595120</td>\n",
       "      <td>9.305741</td>\n",
       "      <td>5.389072</td>\n",
       "      <td>6.388561</td>\n",
       "      <td>17.324212</td>\n",
       "      <td>11.918944</td>\n",
       "      <td>7.210818</td>\n",
       "      <td>0.693147</td>\n",
       "      <td>5.953243</td>\n",
       "      <td>16.705882</td>\n",
       "      <td>5.594711</td>\n",
       "      <td>2.35</td>\n",
       "      <td>10.491302</td>\n",
       "    </tr>\n",
       "    <tr>\n",
       "      <th>4180</th>\n",
       "      <td>4.867534</td>\n",
       "      <td>4.465908</td>\n",
       "      <td>4.499810</td>\n",
       "      <td>6.320768</td>\n",
       "      <td>6.570883</td>\n",
       "      <td>17.505432</td>\n",
       "      <td>10.452216</td>\n",
       "      <td>8.137980</td>\n",
       "      <td>1.945910</td>\n",
       "      <td>4.682131</td>\n",
       "      <td>14.731802</td>\n",
       "      <td>6.371612</td>\n",
       "      <td>1.85</td>\n",
       "      <td>0.000000</td>\n",
       "    </tr>\n",
       "  </tbody>\n",
       "</table>\n",
       "</div>"
      ],
      "text/plain": [
       "      num_critic_for_reviews  duration  director_facebook_likes  \\\n",
       "745                 5.780744  4.521789                 0.000000   \n",
       "4862                2.995732  4.330733                 3.828641   \n",
       "2808                3.044522  4.941642                 4.897840   \n",
       "2415                6.030685  4.595120                 9.305741   \n",
       "4180                4.867534  4.465908                 4.499810   \n",
       "\n",
       "      actor_3_facebook_likes  actor_1_facebook_likes      gross  \\\n",
       "745                 6.622736                9.305741  17.982267   \n",
       "4862                0.000000                1.791759  12.221626   \n",
       "2808                1.791759                6.049733  14.721347   \n",
       "2415                5.389072                6.388561  17.324212   \n",
       "4180                6.320768                6.570883  17.505432   \n",
       "\n",
       "      num_voted_users  cast_total_facebook_likes  facenumber_in_poster  \\\n",
       "745         12.002309                   9.521861              0.000000   \n",
       "4862         7.264730                   2.079442              0.000000   \n",
       "2808         7.794823                   6.102559              0.693147   \n",
       "2415        11.918944                   7.210818              0.693147   \n",
       "4180        10.452216                   8.137980              1.945910   \n",
       "\n",
       "      num_user_for_reviews     budget  actor_2_facebook_likes  aspect_ratio  \\\n",
       "745               7.142827  17.686712                6.853299          1.85   \n",
       "4862              3.091042  12.429220                1.098612          1.85   \n",
       "2808              3.332205  16.454568                2.772589          1.85   \n",
       "2415              5.953243  16.705882                5.594711          2.35   \n",
       "4180              4.682131  14.731802                6.371612          1.85   \n",
       "\n",
       "      movie_facebook_likes  \n",
       "745               8.699681  \n",
       "4862              5.187386  \n",
       "2808              4.852030  \n",
       "2415             10.491302  \n",
       "4180              0.000000  "
      ]
     },
     "execution_count": 212,
     "metadata": {},
     "output_type": "execute_result"
    }
   ],
   "source": [
    "X_train_num.head()"
   ]
  },
  {
   "cell_type": "markdown",
   "metadata": {},
   "source": [
    "## Standardize "
   ]
  },
  {
   "cell_type": "code",
   "execution_count": 213,
   "metadata": {
    "collapsed": true
   },
   "outputs": [],
   "source": [
    "from sklearn.preprocessing import StandardScaler\n",
    "scaler = StandardScaler()\n",
    "X_train_num_scaled = scaler.fit_transform(X_train_num)"
   ]
  },
  {
   "cell_type": "code",
   "execution_count": 214,
   "metadata": {
    "collapsed": true,
    "scrolled": false
   },
   "outputs": [],
   "source": [
    "for i, col in enumerate(num_feat):\n",
    "    X_train_num.loc[:,col] = X_train_num_scaled[:, i]"
   ]
  },
  {
   "cell_type": "markdown",
   "metadata": {},
   "source": [
    "## Transformations on Numeric Test data"
   ]
  },
  {
   "cell_type": "code",
   "execution_count": 215,
   "metadata": {
    "collapsed": true
   },
   "outputs": [],
   "source": [
    "from scipy.stats import skew \n",
    "skewness = X_test_num.apply(lambda x: skew(x.dropna()))\n",
    "skewness = skewness[abs(skewness) > 0.75]\n",
    "skew_features = X_test_num[skewness.index]\n",
    "skew_features  = np.log1p(skew_features)\n",
    "X_test_num[skewness.index] = skew_features"
   ]
  },
  {
   "cell_type": "code",
   "execution_count": 216,
   "metadata": {
    "collapsed": true
   },
   "outputs": [],
   "source": [
    "X_test_num_scaled = scaler.transform(X_test_num)"
   ]
  },
  {
   "cell_type": "code",
   "execution_count": 217,
   "metadata": {
    "collapsed": true
   },
   "outputs": [],
   "source": [
    "for i, col in enumerate(num_feat):\n",
    "    X_test_num.loc[:,col] = X_test_num_scaled[:, i]"
   ]
  },
  {
   "cell_type": "markdown",
   "metadata": {},
   "source": [
    "## Random Forest Regressor"
   ]
  },
  {
   "cell_type": "code",
   "execution_count": 218,
   "metadata": {},
   "outputs": [
    {
     "name": "stdout",
     "output_type": "stream",
     "text": [
      "('Training score: ', 0.93900681590385726)\n",
      "('Testing score: ', 0.54723643656587528)\n"
     ]
    }
   ],
   "source": [
    "from sklearn.ensemble import RandomForestRegressor\n",
    "dt = RandomForestRegressor(n_estimators = 1000,n_jobs=-1,random_state = 0)\n",
    "dt.fit(X_train_num, y_train)\n",
    "dt_score_train = dt.score(X_train_num, y_train)\n",
    "print(\"Training score: \",dt_score_train)\n",
    "dt_score_test = dt.score(X_test_num_scaled, y_test)\n",
    "print(\"Testing score: \",dt_score_test)"
   ]
  },
  {
   "cell_type": "markdown",
   "metadata": {},
   "source": [
    "### Numerical Feature Importance"
   ]
  },
  {
   "cell_type": "code",
   "execution_count": 219,
   "metadata": {},
   "outputs": [
    {
     "data": {
      "text/plain": [
       "<matplotlib.text.Text at 0x18c75710>"
      ]
     },
     "execution_count": 219,
     "metadata": {},
     "output_type": "execute_result"
    },
    {
     "data": {
      "image/png": "[encoded data removed]",
      "text/plain": [
       "<matplotlib.figure.Figure at 0x204db160>"
      ]
     },
     "metadata": {},
     "output_type": "display_data"
    }
   ],
   "source": [
    "df = pd.DataFrame(data = dt.feature_importances_,index = X_train_num.columns.tolist())\n",
    "\n",
    "df = df[df.iloc[:,0] > 0].sort_values(by = 0,ascending = False)\n",
    "fig, ax = plt.subplots(figsize=(20,10))\n",
    "sns.barplot(y = df.index, x= df[0])\n",
    "plt.xlabel('importance')"
   ]
  },
  {
   "cell_type": "markdown",
   "metadata": {},
   "source": [
    "                          looks like number of voter users and duration has lot to say about imdb_score"
   ]
  },
  {
   "cell_type": "code",
   "execution_count": 220,
   "metadata": {},
   "outputs": [
    {
     "data": {
      "text/plain": [
       "<seaborn.axisgrid.PairGrid at 0x15b658d0>"
      ]
     },
     "execution_count": 220,
     "metadata": {},
     "output_type": "execute_result"
    },
    {
     "data": {
      "image/png": "[encoded data removed]",
      "text/plain": [
       "<matplotlib.figure.Figure at 0x15b4d7b8>"
      ]
     },
     "metadata": {},
     "output_type": "display_data"
    }
   ],
   "source": [
    "sns.set(style=\"ticks\")\n",
    "sns.pairplot(X_train_num.iloc[:,:4],diag_kind=\"kde\")"
   ]
  },
  {
   "cell_type": "markdown",
   "metadata": {},
   "source": [
    "### Tried Target Encoding for categorical features ;("
   ]
  },
  {
   "cell_type": "code",
   "execution_count": 235,
   "metadata": {
    "collapsed": true,
    "scrolled": true
   },
   "outputs": [],
   "source": [
    "train_tar_enc = pd.concat([X_train_cat,y_train],axis = 1)\n",
    "test_tar_enc = pd.concat([X_test_cat,y_test],axis = 1)"
   ]
  },
  {
   "cell_type": "code",
   "execution_count": 237,
   "metadata": {},
   "outputs": [
    {
     "data": {
      "text/html": [
       "<div>\n",
       "<style>\n",
       "    .dataframe thead tr:only-child th {\n",
       "        text-align: right;\n",
       "    }\n",
       "\n",
       "    .dataframe thead th {\n",
       "        text-align: left;\n",
       "    }\n",
       "\n",
       "    .dataframe tbody tr th {\n",
       "        vertical-align: top;\n",
       "    }\n",
       "</style>\n",
       "<table border=\"1\" class=\"dataframe\">\n",
       "  <thead>\n",
       "    <tr style=\"text-align: right;\">\n",
       "      <th></th>\n",
       "      <th>color</th>\n",
       "      <th>director_name</th>\n",
       "      <th>actor_2_name</th>\n",
       "      <th>actor_1_name</th>\n",
       "      <th>movie_title</th>\n",
       "      <th>actor_3_name</th>\n",
       "      <th>language</th>\n",
       "      <th>country</th>\n",
       "      <th>content_rating</th>\n",
       "      <th>Genre_0</th>\n",
       "      <th>Genre_1</th>\n",
       "      <th>Genre_2</th>\n",
       "      <th>Genre_3</th>\n",
       "      <th>Genre_4</th>\n",
       "      <th>Genre_5</th>\n",
       "      <th>plot_keywords_0</th>\n",
       "      <th>plot_keywords_1</th>\n",
       "      <th>plot_keywords_2</th>\n",
       "      <th>plot_keywords_3</th>\n",
       "      <th>plot_keywords_4</th>\n",
       "      <th>imdb_score</th>\n",
       "    </tr>\n",
       "  </thead>\n",
       "  <tbody>\n",
       "    <tr>\n",
       "      <th>745</th>\n",
       "      <td>Color</td>\n",
       "      <td>M. Night Shyamalan</td>\n",
       "      <td>Alan Ruck</td>\n",
       "      <td>Zooey Deschanel</td>\n",
       "      <td>The Happening</td>\n",
       "      <td>Kristen Connolly</td>\n",
       "      <td>English</td>\n",
       "      <td>USA</td>\n",
       "      <td>R</td>\n",
       "      <td>Comedy</td>\n",
       "      <td>Crime</td>\n",
       "      <td>None</td>\n",
       "      <td>None</td>\n",
       "      <td>None</td>\n",
       "      <td>None</td>\n",
       "      <td>blonde</td>\n",
       "      <td>mafia</td>\n",
       "      <td>mental illness</td>\n",
       "      <td>prison</td>\n",
       "      <td>second part</td>\n",
       "      <td>5.0</td>\n",
       "    </tr>\n",
       "  </tbody>\n",
       "</table>\n",
       "</div>"
      ],
      "text/plain": [
       "     color       director_name actor_2_name     actor_1_name     movie_title  \\\n",
       "745  Color  M. Night Shyamalan    Alan Ruck  Zooey Deschanel  The Happening    \n",
       "\n",
       "         actor_3_name language country content_rating Genre_0 Genre_1 Genre_2  \\\n",
       "745  Kristen Connolly  English     USA              R  Comedy   Crime    None   \n",
       "\n",
       "    Genre_3 Genre_4 Genre_5 plot_keywords_0 plot_keywords_1 plot_keywords_2  \\\n",
       "745    None    None    None          blonde           mafia  mental illness   \n",
       "\n",
       "    plot_keywords_3 plot_keywords_4  imdb_score  \n",
       "745          prison     second part         5.0  "
      ]
     },
     "execution_count": 237,
     "metadata": {},
     "output_type": "execute_result"
    }
   ],
   "source": [
    "train_tar_enc.head(1)"
   ]
  },
  {
   "cell_type": "code",
   "execution_count": null,
   "metadata": {},
   "outputs": [
    {
     "name": "stdout",
     "output_type": "stream",
     "text": [
      "Impact coding for color\n",
      "Impact coding for director_name\n",
      "Impact coding for actor_2_name\n",
      "Impact coding for actor_1_name\n",
      "Impact coding for movie_title\n",
      "Impact coding for actor_3_name\n",
      "Impact coding for language\n"
     ]
    }
   ],
   "source": [
    "# This way we have randomness and are able to reproduce the behaviour within this cell.\n",
    "np.random.seed(13)\n",
    "from sklearn.model_selection import KFold\n",
    "def impact_coding(data, feature, target='imdb_score'):\n",
    "    '''\n",
    "    In this implementation we get the values and the dictionary as two different steps.\n",
    "    This is just because initially we were ignoring the dictionary as a result variable.\n",
    "    \n",
    "    In this implementation the KFolds use shuffling. If you want reproducibility the cv \n",
    "    could be moved to a parameter.\n",
    "    '''\n",
    "    n_folds = 20\n",
    "    n_inner_folds = 10\n",
    "    impact_coded = pd.Series()\n",
    "    \n",
    "    oof_default_mean = data[target].mean() # Gobal mean to use by default (you could further tune this)\n",
    "    kf = KFold(n_splits=n_folds, shuffle=True)\n",
    "    oof_mean_cv = pd.DataFrame()\n",
    "    split = 0\n",
    "    for infold, oof in kf.split(data[feature]):\n",
    "            impact_coded_cv = pd.Series()\n",
    "            kf_inner = KFold(n_splits=n_inner_folds, shuffle=True)\n",
    "            inner_split = 0\n",
    "            inner_oof_mean_cv = pd.DataFrame()\n",
    "            oof_default_inner_mean = data.iloc[infold][target].mean()\n",
    "            for infold_inner, oof_inner in kf_inner.split(data.iloc[infold]):\n",
    "                # The mean to apply to the inner oof split (a 1/n_folds % based on the rest)\n",
    "                oof_mean = data.iloc[infold_inner].groupby(by=feature)[target].mean()\n",
    "                impact_coded_cv = impact_coded_cv.append(data.iloc[infold].apply(\n",
    "                            lambda x: oof_mean[x[feature]]\n",
    "                                      if x[feature] in oof_mean.index\n",
    "                                      else oof_default_inner_mean\n",
    "                            , axis=1))\n",
    "\n",
    "                # Also populate mapping (this has all group -> mean for all inner CV folds)\n",
    "                inner_oof_mean_cv = inner_oof_mean_cv.join(pd.DataFrame(oof_mean), rsuffix=inner_split, how='outer')\n",
    "                inner_oof_mean_cv.fillna(value=oof_default_inner_mean, inplace=True)\n",
    "                inner_split += 1\n",
    "\n",
    "            # Also populate mapping\n",
    "            oof_mean_cv = oof_mean_cv.join(pd.DataFrame(inner_oof_mean_cv), rsuffix=split, how='outer')\n",
    "            oof_mean_cv.fillna(value=oof_default_mean, inplace=True)\n",
    "            split += 1\n",
    "            \n",
    "            impact_coded = impact_coded.append(data.iloc[oof].apply(\n",
    "                            lambda x: inner_oof_mean_cv.loc[x[feature]].mean()\n",
    "                                      if x[feature] in inner_oof_mean_cv.index\n",
    "                                      else oof_default_mean\n",
    "                            , axis=1))\n",
    "\n",
    "    return impact_coded, oof_mean_cv.mean(axis=1), oof_default_mean\n",
    "\n",
    "impact_coding_map = {}\n",
    "for f in cat_feat:\n",
    "    print(\"Impact coding for {}\".format(f))\n",
    "    train_tar_enc[\"impact_encoded_{}\".format(f)], impact_coding_mapping, default_coding = impact_coding(train_tar_enc, f)\n",
    "    impact_coding_map[f] = (impact_coding_mapping, default_coding)\n",
    "    mapping, default_mean = impact_coding_map[f]\n",
    "    test_tar_enc[\"impact_encoded_{}\".format(f)] = test_tar_enc.apply(lambda x: mapping[x[f]]\n",
    "                                                                       if x[f] in mapping\n",
    "                                                                         else default_mean\n",
    "                                                               , axis=1)"
   ]
  },
  {
   "cell_type": "code",
   "execution_count": 59,
   "metadata": {
    "collapsed": true,
    "scrolled": false
   },
   "outputs": [],
   "source": [
    "merged_train.drop(cat_features,inplace = True,axis = 1)\n",
    "merged_test.drop(cat_features,inplace = True,axis = 1)\n",
    "\n",
    "merged_train.drop('imdb_score',inplace = True,axis = 1)\n",
    "merged_test.drop('imdb_score',inplace = True,axis = 1)"
   ]
  },
  {
   "cell_type": "markdown",
   "metadata": {},
   "source": [
    "### Feature Hashing for Categorical features"
   ]
  },
  {
   "cell_type": "code",
   "execution_count": 60,
   "metadata": {
    "collapsed": true
   },
   "outputs": [],
   "source": [
    "import copy\n",
    "X_train_hash = copy.copy(X_train_cat)\n",
    "X_test_hash = copy.copy(X_test_cat)\n",
    "from sklearn.feature_extraction import FeatureHasher\n",
    "for i in range(X_train_cat.shape[1]):\n",
    "    X_train_hash.iloc[:,i]=X_train_hash.iloc[:,i].astype('str')\n",
    "for i in range(X_test_hash.shape[1]):\n",
    "    X_test_hash.iloc[:,i]=X_test_hash.iloc[:,i].astype('str')\n",
    "h = FeatureHasher(n_features=10000,input_type=\"string\")\n"
   ]
  },
  {
   "cell_type": "code",
   "execution_count": 61,
   "metadata": {
    "collapsed": true
   },
   "outputs": [],
   "source": [
    "X_train_hash = h.transform(X_train_hash.values)\n",
    "X_test_hash = h.transform(X_test_hash.values)"
   ]
  },
  {
   "cell_type": "markdown",
   "metadata": {},
   "source": [
    "One Hot Encoding "
   ]
  },
  {
   "cell_type": "code",
   "execution_count": 62,
   "metadata": {},
   "outputs": [
    {
     "data": {
      "text/html": [
       "<div>\n",
       "<style>\n",
       "    .dataframe thead tr:only-child th {\n",
       "        text-align: right;\n",
       "    }\n",
       "\n",
       "    .dataframe thead th {\n",
       "        text-align: left;\n",
       "    }\n",
       "\n",
       "    .dataframe tbody tr th {\n",
       "        vertical-align: top;\n",
       "    }\n",
       "</style>\n",
       "<table border=\"1\" class=\"dataframe\">\n",
       "  <thead>\n",
       "    <tr style=\"text-align: right;\">\n",
       "      <th></th>\n",
       "      <th>color</th>\n",
       "      <th>director_name</th>\n",
       "      <th>actor_2_name</th>\n",
       "      <th>actor_1_name</th>\n",
       "      <th>movie_title</th>\n",
       "      <th>actor_3_name</th>\n",
       "      <th>language</th>\n",
       "      <th>country</th>\n",
       "      <th>content_rating</th>\n",
       "      <th>Genre_0</th>\n",
       "      <th>Genre_1</th>\n",
       "      <th>Genre_2</th>\n",
       "      <th>Genre_3</th>\n",
       "      <th>Genre_4</th>\n",
       "      <th>Genre_5</th>\n",
       "      <th>plot_keywords_0</th>\n",
       "      <th>plot_keywords_1</th>\n",
       "      <th>plot_keywords_2</th>\n",
       "      <th>plot_keywords_3</th>\n",
       "      <th>plot_keywords_4</th>\n",
       "    </tr>\n",
       "  </thead>\n",
       "  <tbody>\n",
       "    <tr>\n",
       "      <th>745</th>\n",
       "      <td>Color</td>\n",
       "      <td>M. Night Shyamalan</td>\n",
       "      <td>Alan Ruck</td>\n",
       "      <td>Zooey Deschanel</td>\n",
       "      <td>The Happening</td>\n",
       "      <td>Kristen Connolly</td>\n",
       "      <td>English</td>\n",
       "      <td>USA</td>\n",
       "      <td>R</td>\n",
       "      <td>Comedy</td>\n",
       "      <td>Crime</td>\n",
       "      <td>None</td>\n",
       "      <td>None</td>\n",
       "      <td>None</td>\n",
       "      <td>None</td>\n",
       "      <td>blonde</td>\n",
       "      <td>mafia</td>\n",
       "      <td>mental illness</td>\n",
       "      <td>prison</td>\n",
       "      <td>second part</td>\n",
       "    </tr>\n",
       "    <tr>\n",
       "      <th>4862</th>\n",
       "      <td>Color</td>\n",
       "      <td>Bill Plympton</td>\n",
       "      <td>Bill Martone</td>\n",
       "      <td>Charis Michelsen</td>\n",
       "      <td>I Married a Strange Person!</td>\n",
       "      <td>Richard Spore</td>\n",
       "      <td>English</td>\n",
       "      <td>USA</td>\n",
       "      <td>R</td>\n",
       "      <td>NaN</td>\n",
       "      <td>NaN</td>\n",
       "      <td>NaN</td>\n",
       "      <td>NaN</td>\n",
       "      <td>NaN</td>\n",
       "      <td>NaN</td>\n",
       "      <td>NaN</td>\n",
       "      <td>NaN</td>\n",
       "      <td>NaN</td>\n",
       "      <td>NaN</td>\n",
       "      <td>NaN</td>\n",
       "    </tr>\n",
       "    <tr>\n",
       "      <th>2808</th>\n",
       "      <td>Color</td>\n",
       "      <td>James Ivory</td>\n",
       "      <td>Todd Boyce</td>\n",
       "      <td>Seth Gilliam</td>\n",
       "      <td>Jefferson in Paris</td>\n",
       "      <td>Nigel Whitmey</td>\n",
       "      <td>English</td>\n",
       "      <td>France</td>\n",
       "      <td>PG-13</td>\n",
       "      <td>Biography</td>\n",
       "      <td>Drama</td>\n",
       "      <td>None</td>\n",
       "      <td>None</td>\n",
       "      <td>None</td>\n",
       "      <td>None</td>\n",
       "      <td>actress</td>\n",
       "      <td>assistant director</td>\n",
       "      <td>blonde bombshell</td>\n",
       "      <td>movie star</td>\n",
       "      <td>wardrobe</td>\n",
       "    </tr>\n",
       "    <tr>\n",
       "      <th>2415</th>\n",
       "      <td>Color</td>\n",
       "      <td>Woody Allen</td>\n",
       "      <td>Charlie Tahan</td>\n",
       "      <td>Sally Hawkins</td>\n",
       "      <td>Blue Jasmine</td>\n",
       "      <td>Andrew Dice Clay</td>\n",
       "      <td>English</td>\n",
       "      <td>USA</td>\n",
       "      <td>PG-13</td>\n",
       "      <td>Action</td>\n",
       "      <td>Crime</td>\n",
       "      <td>Drama</td>\n",
       "      <td>Romance</td>\n",
       "      <td>Thriller</td>\n",
       "      <td>None</td>\n",
       "      <td>business</td>\n",
       "      <td>escaped convict</td>\n",
       "      <td>farm</td>\n",
       "      <td>motorcycle</td>\n",
       "      <td>widow</td>\n",
       "    </tr>\n",
       "    <tr>\n",
       "      <th>4180</th>\n",
       "      <td>Color</td>\n",
       "      <td>Michael Tiddes</td>\n",
       "      <td>Alanna Ubach</td>\n",
       "      <td>Essence Atkins</td>\n",
       "      <td>A Haunted House</td>\n",
       "      <td>J.B. Smoove</td>\n",
       "      <td>English</td>\n",
       "      <td>USA</td>\n",
       "      <td>R</td>\n",
       "      <td>NaN</td>\n",
       "      <td>NaN</td>\n",
       "      <td>NaN</td>\n",
       "      <td>NaN</td>\n",
       "      <td>NaN</td>\n",
       "      <td>NaN</td>\n",
       "      <td>NaN</td>\n",
       "      <td>NaN</td>\n",
       "      <td>NaN</td>\n",
       "      <td>NaN</td>\n",
       "      <td>NaN</td>\n",
       "    </tr>\n",
       "  </tbody>\n",
       "</table>\n",
       "</div>"
      ],
      "text/plain": [
       "      color       director_name   actor_2_name      actor_1_name  \\\n",
       "745   Color  M. Night Shyamalan      Alan Ruck   Zooey Deschanel   \n",
       "4862  Color       Bill Plympton   Bill Martone  Charis Michelsen   \n",
       "2808  Color         James Ivory     Todd Boyce      Seth Gilliam   \n",
       "2415  Color         Woody Allen  Charlie Tahan     Sally Hawkins   \n",
       "4180  Color      Michael Tiddes   Alanna Ubach    Essence Atkins   \n",
       "\n",
       "                       movie_title      actor_3_name language country  \\\n",
       "745                 The Happening   Kristen Connolly  English     USA   \n",
       "4862  I Married a Strange Person!      Richard Spore  English     USA   \n",
       "2808           Jefferson in Paris      Nigel Whitmey  English  France   \n",
       "2415                 Blue Jasmine   Andrew Dice Clay  English     USA   \n",
       "4180              A Haunted House        J.B. Smoove  English     USA   \n",
       "\n",
       "     content_rating    Genre_0 Genre_1 Genre_2  Genre_3   Genre_4 Genre_5  \\\n",
       "745               R     Comedy   Crime    None     None      None    None   \n",
       "4862              R        NaN     NaN     NaN      NaN       NaN     NaN   \n",
       "2808          PG-13  Biography   Drama    None     None      None    None   \n",
       "2415          PG-13     Action   Crime   Drama  Romance  Thriller    None   \n",
       "4180              R        NaN     NaN     NaN      NaN       NaN     NaN   \n",
       "\n",
       "     plot_keywords_0     plot_keywords_1   plot_keywords_2 plot_keywords_3  \\\n",
       "745           blonde               mafia    mental illness          prison   \n",
       "4862             NaN                 NaN               NaN             NaN   \n",
       "2808         actress  assistant director  blonde bombshell      movie star   \n",
       "2415        business     escaped convict              farm      motorcycle   \n",
       "4180             NaN                 NaN               NaN             NaN   \n",
       "\n",
       "     plot_keywords_4  \n",
       "745      second part  \n",
       "4862             NaN  \n",
       "2808        wardrobe  \n",
       "2415           widow  \n",
       "4180             NaN  "
      ]
     },
     "execution_count": 62,
     "metadata": {},
     "output_type": "execute_result"
    }
   ],
   "source": [
    "X_train_cat.head()"
   ]
  },
  {
   "cell_type": "code",
   "execution_count": 63,
   "metadata": {},
   "outputs": [
    {
     "data": {
      "text/plain": [
       "color                 0\n",
       "director_name         0\n",
       "actor_2_name          0\n",
       "actor_1_name          0\n",
       "movie_title           0\n",
       "actor_3_name          0\n",
       "language              0\n",
       "country               0\n",
       "content_rating        0\n",
       "Genre_0             421\n",
       "Genre_1             643\n",
       "Genre_2            1317\n",
       "Genre_3            2194\n",
       "Genre_4            2741\n",
       "Genre_5            2949\n",
       "plot_keywords_0     421\n",
       "plot_keywords_1     427\n",
       "plot_keywords_2     428\n",
       "plot_keywords_3     435\n",
       "plot_keywords_4     440\n",
       "dtype: int64"
      ]
     },
     "execution_count": 63,
     "metadata": {},
     "output_type": "execute_result"
    }
   ],
   "source": [
    "X_train_cat.isnull().sum()"
   ]
  },
  {
   "cell_type": "code",
   "execution_count": 64,
   "metadata": {
    "scrolled": true
   },
   "outputs": [
    {
     "name": "stdout",
     "output_type": "stream",
     "text": [
      "('Feature: ', 'color')\n",
      "3004\n",
      "--------------------------------------\n",
      "('Feature: ', 'director_name')\n",
      "103\n",
      "--------------------------------------\n",
      "('Feature: ', 'actor_2_name')\n",
      "78\n",
      "--------------------------------------\n",
      "('Feature: ', 'actor_1_name')\n",
      "190\n",
      "--------------------------------------\n",
      "('Feature: ', 'movie_title')\n",
      "17\n",
      "--------------------------------------\n",
      "('Feature: ', 'actor_3_name')\n",
      "40\n",
      "--------------------------------------\n",
      "('Feature: ', 'language')\n",
      "2956\n",
      "--------------------------------------\n",
      "('Feature: ', 'country')\n",
      "2884\n",
      "--------------------------------------\n",
      "('Feature: ', 'content_rating')\n",
      "2988\n",
      "--------------------------------------\n",
      "('Feature: ', 'Genre_0')\n",
      "2484\n",
      "--------------------------------------\n",
      "('Feature: ', 'Genre_1')\n",
      "1753\n",
      "--------------------------------------\n",
      "('Feature: ', 'Genre_2')\n",
      "1291\n",
      "--------------------------------------\n",
      "('Feature: ', 'Genre_3')\n",
      "667\n",
      "--------------------------------------\n",
      "('Feature: ', 'Genre_4')\n",
      "234\n",
      "--------------------------------------\n",
      "('Feature: ', 'Genre_5')\n",
      "48\n",
      "--------------------------------------\n",
      "('Feature: ', 'plot_keywords_0')\n",
      "172\n",
      "--------------------------------------\n",
      "('Feature: ', 'plot_keywords_1')\n",
      "167\n",
      "--------------------------------------\n",
      "('Feature: ', 'plot_keywords_2')\n",
      "156\n",
      "--------------------------------------\n",
      "('Feature: ', 'plot_keywords_3')\n",
      "148\n",
      "--------------------------------------\n",
      "('Feature: ', 'plot_keywords_4')\n",
      "144\n",
      "--------------------------------------\n"
     ]
    }
   ],
   "source": [
    "for i in cat_feat:\n",
    "    print('Feature: ',i)\n",
    "    print(X_train_cat[i].value_counts()[:7].sum())\n",
    "    print('--------------------------------------')\n",
    "\n",
    "    "
   ]
  },
  {
   "cell_type": "code",
   "execution_count": 65,
   "metadata": {
    "collapsed": true
   },
   "outputs": [],
   "source": [
    "X_train_cat.drop(['Genre_2','Genre_3','Genre_4','Genre_5'],axis = 1,inplace = True)\n",
    "X_test_cat.drop(['Genre_2','Genre_3','Genre_4','Genre_5'],axis = 1,inplace = True)"
   ]
  },
  {
   "cell_type": "code",
   "execution_count": 66,
   "metadata": {
    "collapsed": true
   },
   "outputs": [],
   "source": [
    "# X_train_cat = X_train_cat.astype('str')"
   ]
  },
  {
   "cell_type": "code",
   "execution_count": 69,
   "metadata": {
    "collapsed": true,
    "scrolled": true
   },
   "outputs": [],
   "source": [
    "# from sklearn.preprocessing import OneHotEncoder\n",
    "# enc = OneHotEncoder(handle_unknown='ignore')\n",
    "# enc.fit(X_train_cat)\n",
    "# X_train_one_hot = enc.transform(X_train_cat)\n",
    "# X_test_one_hot = enc.transform(X_test_cat)\n"
   ]
  },
  {
   "cell_type": "markdown",
   "metadata": {},
   "source": [
    "#### After target encding didn't help, tried manual encoding and then did this\n",
    "## Coupling last 5% values as \"Other\" in each Categorical Variable"
   ]
  },
  {
   "cell_type": "code",
   "execution_count": 72,
   "metadata": {},
   "outputs": [],
   "source": [
    "temp_cat = pd.concat([X_train_cat,X_test_cat])"
   ]
  },
  {
   "cell_type": "code",
   "execution_count": 73,
   "metadata": {},
   "outputs": [
    {
     "data": {
      "text/plain": [
       "(3756, 16)"
      ]
     },
     "execution_count": 73,
     "metadata": {},
     "output_type": "execute_result"
    }
   ],
   "source": [
    "temp_cat.shape"
   ]
  },
  {
   "cell_type": "code",
   "execution_count": 79,
   "metadata": {},
   "outputs": [
    {
     "data": {
      "text/plain": [
       "3380.4"
      ]
     },
     "execution_count": 79,
     "metadata": {},
     "output_type": "execute_result"
    }
   ],
   "source": [
    "0.90*3756"
   ]
  },
  {
   "cell_type": "code",
   "execution_count": 81,
   "metadata": {
    "scrolled": true
   },
   "outputs": [
    {
     "data": {
      "text/plain": [
       "['USA',\n",
       " 'UK',\n",
       " 'France',\n",
       " 'Germany',\n",
       " 'Canada',\n",
       " 'Australia',\n",
       " 'Spain',\n",
       " 0,\n",
       " 'Japan',\n",
       " 'Hong Kong']"
      ]
     },
     "execution_count": 81,
     "metadata": {},
     "output_type": "execute_result"
    }
   ],
   "source": [
    "temp_cat.country.value_counts()[:10].index.tolist()"
   ]
  },
  {
   "cell_type": "code",
   "execution_count": 84,
   "metadata": {
    "scrolled": true
   },
   "outputs": [
    {
     "data": {
      "text/plain": [
       "USA        2973\n",
       "UK          317\n",
       "Other       285\n",
       "France      101\n",
       "Germany      80\n",
       "Name: country, dtype: int64"
      ]
     },
     "execution_count": 84,
     "metadata": {},
     "output_type": "execute_result"
    }
   ],
   "source": [
    "# cat_data.loc[cat_data[(cat_data[\"country\"] == \"USA\")].index,\"country\"] = 2\n",
    "# temp_cat.loc[temp_cat[(cat_data[\"country\"] != \"USA\")&(cat_data[\"country\"] != \"UK\")&(cat_data[\"country\"] != \"Germany\")&(cat_data[\"country\"] != \"France\")].index,\"country\"] = \"Other\"\n",
    "temp_cat.loc[temp_cat[~temp_cat[\"country\"].isin(['USA',\n",
    " 'UK',\n",
    " 'France',\n",
    " 'Germany'])].index,\"country\"] = \"Other\"\n",
    "\n",
    "# cat_data.loc[cat_data[(cat_data[\"country\"] != 2) & (cat_data[\"country\"] != 1)].index,\"country\"] = 0\n",
    "\n",
    "temp_cat.country.value_counts()"
   ]
  },
  {
   "cell_type": "code",
   "execution_count": 85,
   "metadata": {},
   "outputs": [
    {
     "data": {
      "text/plain": [
       "English     3598\n",
       "French        34\n",
       "Spanish       23\n",
       "Mandarin      15\n",
       "Japanese      10\n",
       "Name: language, dtype: int64"
      ]
     },
     "execution_count": 85,
     "metadata": {},
     "output_type": "execute_result"
    }
   ],
   "source": [
    "cat_data.language.value_counts()[:5]"
   ]
  },
  {
   "cell_type": "code",
   "execution_count": null,
   "metadata": {
    "collapsed": true
   },
   "outputs": [],
   "source": [
    "temp_cat[\"language\"] = (temp_cat[\"language\"] == \"English\") * 1\n",
    "temp_cat.language.value_counts()"
   ]
  },
  {
   "cell_type": "code",
   "execution_count": 88,
   "metadata": {},
   "outputs": [
    {
     "data": {
      "text/plain": [
       "R            1691\n",
       "PG-13        1300\n",
       "PG            564\n",
       "G              87\n",
       "Not Rated      34\n",
       "Unrated        22\n",
       "0              19\n",
       "Approved       17\n",
       "X              10\n",
       "NC-17           6\n",
       "Name: content_rating, dtype: int64"
      ]
     },
     "execution_count": 88,
     "metadata": {},
     "output_type": "execute_result"
    }
   ],
   "source": [
    "temp_cat.content_rating.value_counts()[:10]\n",
    "\n",
    "# temp_cat.loc[temp_cat[(temp_cat[\"content_rating\"] == \"R\")].index,\"content_rating\"] = 4\n",
    "# temp_cat.loc[temp_cat[(temp_cat[\"content_rating\"] == \"PG-13\")].index,\"content_rating\"] = 3\n",
    "# temp_cat.loc[temp_cat[(temp_cat[\"content_rating\"] == \"PG\")].index,\"content_rating\"] = 2\n",
    "# temp_cat.loc[temp_cat[(temp_cat[\"content_rating\"] != 4) & (temp_cat[\"content_rating\"] != 3)&(temp_cat[\"content_rating\"] != 2)].index,\"content_rating\"] = 0"
   ]
  },
  {
   "cell_type": "code",
   "execution_count": 89,
   "metadata": {},
   "outputs": [
    {
     "data": {
      "text/plain": [
       "R        1691\n",
       "PG-13    1300\n",
       "PG        564\n",
       "Other     201\n",
       "Name: content_rating, dtype: int64"
      ]
     },
     "execution_count": 89,
     "metadata": {},
     "output_type": "execute_result"
    }
   ],
   "source": [
    "temp_cat.loc[temp_cat[(temp_cat[\"content_rating\"] != \"R\")&(temp_cat[\"content_rating\"] != \"PG-13\")&(temp_cat[\"content_rating\"] != \"PG\")].index,\"content_rating\"] = \"Other\"\n",
    "\n",
    "temp_cat.content_rating.value_counts()"
   ]
  },
  {
   "cell_type": "code",
   "execution_count": 90,
   "metadata": {},
   "outputs": [
    {
     "data": {
      "text/plain": [
       "Action         872\n",
       "Comedy         817\n",
       "Drama          540\n",
       "nan            421\n",
       "Adventure      325\n",
       "Crime          211\n",
       "Biography      170\n",
       "Horror         142\n",
       "Animation       40\n",
       "Fantasy         29\n",
       "0               19\n",
       "Mystery         17\n",
       "Documentary     17\n",
       "Sci-Fi           7\n",
       "Western          2\n",
       "Family           2\n",
       "Musical          1\n",
       "Romance          1\n",
       "Thriller         1\n",
       "Name: Genre_0, dtype: int64"
      ]
     },
     "execution_count": 90,
     "metadata": {},
     "output_type": "execute_result"
    }
   ],
   "source": [
    "temp_cat.Genre_0.unique()\n",
    "\n",
    "temp_cat.Genre_0.value_counts()\n",
    "\n",
    "# temp_cat.loc[temp_cat[(temp_cat[\"Genre_0\"] == \"Action\")].index,\"Genre_0\"] = 5\n",
    "# temp_cat.loc[temp_cat[(temp_cat[\"Genre_0\"] == \"Comedy\")].index,\"Genre_0\"] = 4\n",
    "# temp_cat.loc[temp_cat[(temp_cat[\"Genre_0\"] == \"Drama\")].index,\"Genre_0\"] = 3\n",
    "# temp_cat.loc[temp_cat[(temp_cat[\"Genre_0\"] == \"Adventure\")].index,\"Genre_0\"] = 2\n",
    "# temp_cat.loc[temp_cat[(temp_cat[\"Genre_0\"] != 5) & (temp_cat[\"Genre_0\"] != 4) & (temp_cat[\"Genre_0\"] != 3)&(temp_cat[\"Genre_0\"] != 2)].index,\"Genre_0\"] = 0"
   ]
  },
  {
   "cell_type": "code",
   "execution_count": 91,
   "metadata": {},
   "outputs": [
    {
     "data": {
      "text/plain": [
       "Action       872\n",
       "Other        821\n",
       "Comedy       817\n",
       "Drama        540\n",
       "Adventure    325\n",
       "Crime        211\n",
       "Biography    170\n",
       "Name: Genre_0, dtype: int64"
      ]
     },
     "execution_count": 91,
     "metadata": {},
     "output_type": "execute_result"
    }
   ],
   "source": [
    "temp_cat.loc[temp_cat[(temp_cat[\"Genre_0\"] != \"Action\")&(temp_cat[\"Genre_0\"] != \"Drama\")&(temp_cat[\"Genre_0\"] != \"Comedy\")&(temp_cat[\"Genre_0\"] != \"Adventure\")&(temp_cat[\"Genre_0\"] != \"Crime\")&(temp_cat[\"Genre_0\"] != \"Biography\")].index,\"Genre_0\"] = \"Other\"\n",
    "\n",
    "temp_cat.Genre_0.value_counts()"
   ]
  },
  {
   "cell_type": "code",
   "execution_count": 92,
   "metadata": {},
   "outputs": [
    {
     "data": {
      "text/plain": [
       "Other        1276\n",
       "Drama         691\n",
       "Adventure     370\n",
       "Crime         278\n",
       "Comedy        238\n",
       "Romance       219\n",
       "Mystery       144\n",
       "Thriller      114\n",
       "Family        108\n",
       "Horror        108\n",
       "Animation     106\n",
       "Fantasy       104\n",
       "Name: Genre_1, dtype: int64"
      ]
     },
     "execution_count": 92,
     "metadata": {},
     "output_type": "execute_result"
    }
   ],
   "source": [
    "temp_cat.Genre_1.value_counts()\n",
    "\n",
    "# temp_cat[\"Genre_0\"] = ((temp_cat[\"Genre_0\"] == \"Comedy\") | (temp_cat[\"Genre_0\"] == \"Action\") |(temp_cat[\"Genre_0\"] == \"Drama\")|(temp_cat[\"Genre_0\"] == \"Adventure\") | (temp_cat[\"Genre_0\"] == \"Crime\") |(temp_cat[\"Genre_0\"] == \"Biography\")|(temp_cat[\"Genre_0\"] == \"Horror\")) * 1\n",
    "# temp_cat.Genre_0.value_counts()\n",
    "\n",
    "\n",
    "temp_cat.Genre_1.value_counts().index.tolist()\n",
    "\n",
    "# # temp_cat[\"Genre_1\"] = ((temp_cat[\"Genre_1\"] == \"Comedy\") | (temp_cat[\"Genre_1\"] == \"Action\") |(temp_cat[\"Genre_1\"] == \"Drama\")|(temp_cat[\"Genre_1\"] == \"Adventure\") | (temp_cat[\"Genre_1\"] == \"Crime\") |(temp_cat[\"Genre_1\"] == \"Romance\")|(temp_cat[\"Genre_1\"] == \"Mystery\")|(temp_cat[\"Genre_1\"] == \"Romance\")|(temp_cat[\"Genre_1\"] == \"Mystery\")) * 1\n",
    "# # temp_cat.Genre_1.value_counts()\n",
    "# temp_cat.loc[temp_cat[(temp_cat[\"Genre_1\"] == \"Drama\")].index,\"Genre_1\"] = 5\n",
    "# temp_cat.loc[temp_cat[(temp_cat[\"Genre_1\"] == \"Adventure\")].index,\"Genre_1\"] = 4\n",
    "# temp_cat.loc[temp_cat[(temp_cat[\"Genre_1\"] == \"Crime\")].index,\"Genre_1\"] = 3\n",
    "# temp_cat.loc[temp_cat[(temp_cat[\"Genre_1\"] == \"Comedy\")].index,\"Genre_1\"] = 2\n",
    "# temp_cat.loc[temp_cat[(temp_cat[\"Genre_1\"] == \"Romance\")].index,\"Genre_1\"] = 1\n",
    "\n",
    "temp_cat.loc[temp_cat[~temp_cat[\"Genre_1\"].isin(['Drama',\n",
    " 'Adventure',\n",
    " 'Crime',\n",
    " 'Comedy',\n",
    " 'Romance',\n",
    " 'Mystery',\n",
    " 'Thriller',\n",
    " 'Horror',\n",
    " 'Family',\n",
    " 'Animation',\n",
    " 'Fantasy'])].index,\"Genre_1\"] = \"Other\"\n",
    "temp_cat.Genre_1.value_counts()"
   ]
  },
  {
   "cell_type": "code",
   "execution_count": 94,
   "metadata": {},
   "outputs": [
    {
     "data": {
      "text/plain": [
       "['color',\n",
       " 'director_name',\n",
       " 'actor_2_name',\n",
       " 'actor_1_name',\n",
       " 'movie_title',\n",
       " 'actor_3_name',\n",
       " 'language',\n",
       " 'country',\n",
       " 'content_rating',\n",
       " 'Genre_0',\n",
       " 'Genre_1',\n",
       " 'plot_keywords_0',\n",
       " 'plot_keywords_1',\n",
       " 'plot_keywords_2',\n",
       " 'plot_keywords_3',\n",
       " 'plot_keywords_4']"
      ]
     },
     "execution_count": 94,
     "metadata": {},
     "output_type": "execute_result"
    }
   ],
   "source": [
    "# from sklearn.decomposition import PCA\n",
    "# from sklearn.preprocessing import StandardScaler\n",
    "# pca = PCA(n_components=None, svd_solver=\"full\")\n",
    "# pca.fit(StandardScaler().fit_transform(num_data))\n",
    "# # X_train = pca.transform(X_train)\n",
    "# # pca_data = pca.transform(num_data)\n",
    "# cum_var_exp = np.cumsum(pca.explained_variance_ratio_)\n",
    "\n",
    "# temp_cat.drop(['Genre_3','Genre_4','Genre_5'],inplace = True, axis = 1)\n",
    "\n",
    "\n",
    "temp_cat[\"color\"] = (temp_cat[\"color\"] == \"Color\") * 1\n",
    "temp_cat.color.value_counts()\n",
    "\n",
    "temp_cat.columns.tolist()"
   ]
  },
  {
   "cell_type": "code",
   "execution_count": 95,
   "metadata": {
    "collapsed": true
   },
   "outputs": [],
   "source": [
    "temp_cat.drop(['movie_title'],inplace = True, axis = 1)"
   ]
  },
  {
   "cell_type": "markdown",
   "metadata": {},
   "source": [
    "### LabelEncoder for rest of the Categorical VAlues (Have levels > 1000)"
   ]
  },
  {
   "cell_type": "code",
   "execution_count": 96,
   "metadata": {
    "collapsed": true
   },
   "outputs": [],
   "source": [
    "from sklearn.preprocessing import LabelEncoder\n",
    "abc  = cat_data[[\n",
    " 'director_name',\n",
    " 'actor_2_name',\n",
    " 'actor_1_name',\n",
    " 'actor_3_name',\n",
    " 'plot_keywords_0',\n",
    " 'plot_keywords_1',\n",
    " 'plot_keywords_2',\n",
    "'plot_keywords_3',\n",
    " 'plot_keywords_4']].apply(LabelEncoder().fit_transform)\n"
   ]
  },
  {
   "cell_type": "code",
   "execution_count": 97,
   "metadata": {
    "collapsed": true
   },
   "outputs": [],
   "source": [
    "temp_cat[[\n",
    " 'director_name',\n",
    " 'actor_2_name',\n",
    " 'actor_1_name',\n",
    " 'actor_3_name',\n",
    " 'plot_keywords_0',\n",
    " 'plot_keywords_1',\n",
    " 'plot_keywords_2','plot_keywords_3',\n",
    " 'plot_keywords_4']] = abc"
   ]
  },
  {
   "cell_type": "code",
   "execution_count": 98,
   "metadata": {
    "collapsed": true
   },
   "outputs": [],
   "source": [
    "temp_cat = pd.get_dummies(temp_cat)"
   ]
  },
  {
   "cell_type": "code",
   "execution_count": 99,
   "metadata": {},
   "outputs": [
    {
     "data": {
      "text/html": [
       "<div>\n",
       "<style>\n",
       "    .dataframe thead tr:only-child th {\n",
       "        text-align: right;\n",
       "    }\n",
       "\n",
       "    .dataframe thead th {\n",
       "        text-align: left;\n",
       "    }\n",
       "\n",
       "    .dataframe tbody tr th {\n",
       "        vertical-align: top;\n",
       "    }\n",
       "</style>\n",
       "<table border=\"1\" class=\"dataframe\">\n",
       "  <thead>\n",
       "    <tr style=\"text-align: right;\">\n",
       "      <th></th>\n",
       "      <th>color</th>\n",
       "      <th>director_name</th>\n",
       "      <th>actor_2_name</th>\n",
       "      <th>actor_1_name</th>\n",
       "      <th>actor_3_name</th>\n",
       "      <th>plot_keywords_0</th>\n",
       "      <th>plot_keywords_1</th>\n",
       "      <th>plot_keywords_2</th>\n",
       "      <th>plot_keywords_3</th>\n",
       "      <th>plot_keywords_4</th>\n",
       "      <th>language_0</th>\n",
       "      <th>language_Aboriginal</th>\n",
       "      <th>language_Arabic</th>\n",
       "      <th>language_Aramaic</th>\n",
       "      <th>language_Bosnian</th>\n",
       "      <th>language_Cantonese</th>\n",
       "      <th>language_Czech</th>\n",
       "      <th>language_Danish</th>\n",
       "      <th>language_Dari</th>\n",
       "      <th>language_Dutch</th>\n",
       "      <th>language_English</th>\n",
       "      <th>language_Filipino</th>\n",
       "      <th>language_French</th>\n",
       "      <th>language_German</th>\n",
       "      <th>language_Hebrew</th>\n",
       "      <th>language_Hindi</th>\n",
       "      <th>language_Hungarian</th>\n",
       "      <th>language_Indonesian</th>\n",
       "      <th>language_Italian</th>\n",
       "      <th>language_Japanese</th>\n",
       "      <th>language_Kazakh</th>\n",
       "      <th>language_Korean</th>\n",
       "      <th>language_Mandarin</th>\n",
       "      <th>language_Maya</th>\n",
       "      <th>language_Mongolian</th>\n",
       "      <th>language_None</th>\n",
       "      <th>language_Norwegian</th>\n",
       "      <th>language_Persian</th>\n",
       "      <th>language_Portuguese</th>\n",
       "      <th>language_Romanian</th>\n",
       "      <th>language_Russian</th>\n",
       "      <th>language_Spanish</th>\n",
       "      <th>language_Thai</th>\n",
       "      <th>language_Vietnamese</th>\n",
       "      <th>language_Zulu</th>\n",
       "      <th>country_France</th>\n",
       "      <th>country_Germany</th>\n",
       "      <th>country_Other</th>\n",
       "      <th>country_UK</th>\n",
       "      <th>country_USA</th>\n",
       "      <th>content_rating_Other</th>\n",
       "      <th>content_rating_PG</th>\n",
       "      <th>content_rating_PG-13</th>\n",
       "      <th>content_rating_R</th>\n",
       "      <th>Genre_0_Action</th>\n",
       "      <th>Genre_0_Adventure</th>\n",
       "      <th>Genre_0_Biography</th>\n",
       "      <th>Genre_0_Comedy</th>\n",
       "      <th>Genre_0_Crime</th>\n",
       "      <th>Genre_0_Drama</th>\n",
       "      <th>Genre_0_Other</th>\n",
       "      <th>Genre_1_Adventure</th>\n",
       "      <th>Genre_1_Animation</th>\n",
       "      <th>Genre_1_Comedy</th>\n",
       "      <th>Genre_1_Crime</th>\n",
       "      <th>Genre_1_Drama</th>\n",
       "      <th>Genre_1_Family</th>\n",
       "      <th>Genre_1_Fantasy</th>\n",
       "      <th>Genre_1_Horror</th>\n",
       "      <th>Genre_1_Mystery</th>\n",
       "      <th>Genre_1_Other</th>\n",
       "      <th>Genre_1_Romance</th>\n",
       "      <th>Genre_1_Thriller</th>\n",
       "    </tr>\n",
       "  </thead>\n",
       "  <tbody>\n",
       "    <tr>\n",
       "      <th>745</th>\n",
       "      <td>1</td>\n",
       "      <td>958</td>\n",
       "      <td>47</td>\n",
       "      <td>1425</td>\n",
       "      <td>1418</td>\n",
       "      <td>526</td>\n",
       "      <td>1390</td>\n",
       "      <td>1169</td>\n",
       "      <td>1032</td>\n",
       "      <td>668</td>\n",
       "      <td>0</td>\n",
       "      <td>0</td>\n",
       "      <td>0</td>\n",
       "      <td>0</td>\n",
       "      <td>0</td>\n",
       "      <td>0</td>\n",
       "      <td>0</td>\n",
       "      <td>0</td>\n",
       "      <td>0</td>\n",
       "      <td>0</td>\n",
       "      <td>1</td>\n",
       "      <td>0</td>\n",
       "      <td>0</td>\n",
       "      <td>0</td>\n",
       "      <td>0</td>\n",
       "      <td>0</td>\n",
       "      <td>0</td>\n",
       "      <td>0</td>\n",
       "      <td>0</td>\n",
       "      <td>0</td>\n",
       "      <td>0</td>\n",
       "      <td>0</td>\n",
       "      <td>0</td>\n",
       "      <td>0</td>\n",
       "      <td>0</td>\n",
       "      <td>0</td>\n",
       "      <td>0</td>\n",
       "      <td>0</td>\n",
       "      <td>0</td>\n",
       "      <td>0</td>\n",
       "      <td>0</td>\n",
       "      <td>0</td>\n",
       "      <td>0</td>\n",
       "      <td>0</td>\n",
       "      <td>0</td>\n",
       "      <td>0</td>\n",
       "      <td>0</td>\n",
       "      <td>0</td>\n",
       "      <td>0</td>\n",
       "      <td>1</td>\n",
       "      <td>0</td>\n",
       "      <td>0</td>\n",
       "      <td>0</td>\n",
       "      <td>1</td>\n",
       "      <td>0</td>\n",
       "      <td>0</td>\n",
       "      <td>0</td>\n",
       "      <td>1</td>\n",
       "      <td>0</td>\n",
       "      <td>0</td>\n",
       "      <td>0</td>\n",
       "      <td>0</td>\n",
       "      <td>0</td>\n",
       "      <td>0</td>\n",
       "      <td>1</td>\n",
       "      <td>0</td>\n",
       "      <td>0</td>\n",
       "      <td>0</td>\n",
       "      <td>0</td>\n",
       "      <td>0</td>\n",
       "      <td>0</td>\n",
       "      <td>0</td>\n",
       "      <td>0</td>\n",
       "    </tr>\n",
       "    <tr>\n",
       "      <th>4862</th>\n",
       "      <td>1</td>\n",
       "      <td>132</td>\n",
       "      <td>216</td>\n",
       "      <td>220</td>\n",
       "      <td>2053</td>\n",
       "      <td>0</td>\n",
       "      <td>1</td>\n",
       "      <td>1</td>\n",
       "      <td>1</td>\n",
       "      <td>1</td>\n",
       "      <td>0</td>\n",
       "      <td>0</td>\n",
       "      <td>0</td>\n",
       "      <td>0</td>\n",
       "      <td>0</td>\n",
       "      <td>0</td>\n",
       "      <td>0</td>\n",
       "      <td>0</td>\n",
       "      <td>0</td>\n",
       "      <td>0</td>\n",
       "      <td>1</td>\n",
       "      <td>0</td>\n",
       "      <td>0</td>\n",
       "      <td>0</td>\n",
       "      <td>0</td>\n",
       "      <td>0</td>\n",
       "      <td>0</td>\n",
       "      <td>0</td>\n",
       "      <td>0</td>\n",
       "      <td>0</td>\n",
       "      <td>0</td>\n",
       "      <td>0</td>\n",
       "      <td>0</td>\n",
       "      <td>0</td>\n",
       "      <td>0</td>\n",
       "      <td>0</td>\n",
       "      <td>0</td>\n",
       "      <td>0</td>\n",
       "      <td>0</td>\n",
       "      <td>0</td>\n",
       "      <td>0</td>\n",
       "      <td>0</td>\n",
       "      <td>0</td>\n",
       "      <td>0</td>\n",
       "      <td>0</td>\n",
       "      <td>0</td>\n",
       "      <td>0</td>\n",
       "      <td>0</td>\n",
       "      <td>0</td>\n",
       "      <td>1</td>\n",
       "      <td>0</td>\n",
       "      <td>0</td>\n",
       "      <td>0</td>\n",
       "      <td>1</td>\n",
       "      <td>0</td>\n",
       "      <td>0</td>\n",
       "      <td>0</td>\n",
       "      <td>0</td>\n",
       "      <td>0</td>\n",
       "      <td>0</td>\n",
       "      <td>1</td>\n",
       "      <td>0</td>\n",
       "      <td>0</td>\n",
       "      <td>0</td>\n",
       "      <td>0</td>\n",
       "      <td>0</td>\n",
       "      <td>0</td>\n",
       "      <td>0</td>\n",
       "      <td>0</td>\n",
       "      <td>0</td>\n",
       "      <td>1</td>\n",
       "      <td>0</td>\n",
       "      <td>0</td>\n",
       "    </tr>\n",
       "    <tr>\n",
       "      <th>2808</th>\n",
       "      <td>1</td>\n",
       "      <td>629</td>\n",
       "      <td>2037</td>\n",
       "      <td>1225</td>\n",
       "      <td>1834</td>\n",
       "      <td>99</td>\n",
       "      <td>86</td>\n",
       "      <td>45</td>\n",
       "      <td>698</td>\n",
       "      <td>1476</td>\n",
       "      <td>0</td>\n",
       "      <td>0</td>\n",
       "      <td>0</td>\n",
       "      <td>0</td>\n",
       "      <td>0</td>\n",
       "      <td>0</td>\n",
       "      <td>0</td>\n",
       "      <td>0</td>\n",
       "      <td>0</td>\n",
       "      <td>0</td>\n",
       "      <td>1</td>\n",
       "      <td>0</td>\n",
       "      <td>0</td>\n",
       "      <td>0</td>\n",
       "      <td>0</td>\n",
       "      <td>0</td>\n",
       "      <td>0</td>\n",
       "      <td>0</td>\n",
       "      <td>0</td>\n",
       "      <td>0</td>\n",
       "      <td>0</td>\n",
       "      <td>0</td>\n",
       "      <td>0</td>\n",
       "      <td>0</td>\n",
       "      <td>0</td>\n",
       "      <td>0</td>\n",
       "      <td>0</td>\n",
       "      <td>0</td>\n",
       "      <td>0</td>\n",
       "      <td>0</td>\n",
       "      <td>0</td>\n",
       "      <td>0</td>\n",
       "      <td>0</td>\n",
       "      <td>0</td>\n",
       "      <td>0</td>\n",
       "      <td>1</td>\n",
       "      <td>0</td>\n",
       "      <td>0</td>\n",
       "      <td>0</td>\n",
       "      <td>0</td>\n",
       "      <td>0</td>\n",
       "      <td>0</td>\n",
       "      <td>1</td>\n",
       "      <td>0</td>\n",
       "      <td>0</td>\n",
       "      <td>0</td>\n",
       "      <td>1</td>\n",
       "      <td>0</td>\n",
       "      <td>0</td>\n",
       "      <td>0</td>\n",
       "      <td>0</td>\n",
       "      <td>0</td>\n",
       "      <td>0</td>\n",
       "      <td>0</td>\n",
       "      <td>0</td>\n",
       "      <td>1</td>\n",
       "      <td>0</td>\n",
       "      <td>0</td>\n",
       "      <td>0</td>\n",
       "      <td>0</td>\n",
       "      <td>0</td>\n",
       "      <td>0</td>\n",
       "      <td>0</td>\n",
       "    </tr>\n",
       "    <tr>\n",
       "      <th>2415</th>\n",
       "      <td>1</td>\n",
       "      <td>1645</td>\n",
       "      <td>346</td>\n",
       "      <td>1184</td>\n",
       "      <td>118</td>\n",
       "      <td>644</td>\n",
       "      <td>795</td>\n",
       "      <td>431</td>\n",
       "      <td>692</td>\n",
       "      <td>1548</td>\n",
       "      <td>0</td>\n",
       "      <td>0</td>\n",
       "      <td>0</td>\n",
       "      <td>0</td>\n",
       "      <td>0</td>\n",
       "      <td>0</td>\n",
       "      <td>0</td>\n",
       "      <td>0</td>\n",
       "      <td>0</td>\n",
       "      <td>0</td>\n",
       "      <td>1</td>\n",
       "      <td>0</td>\n",
       "      <td>0</td>\n",
       "      <td>0</td>\n",
       "      <td>0</td>\n",
       "      <td>0</td>\n",
       "      <td>0</td>\n",
       "      <td>0</td>\n",
       "      <td>0</td>\n",
       "      <td>0</td>\n",
       "      <td>0</td>\n",
       "      <td>0</td>\n",
       "      <td>0</td>\n",
       "      <td>0</td>\n",
       "      <td>0</td>\n",
       "      <td>0</td>\n",
       "      <td>0</td>\n",
       "      <td>0</td>\n",
       "      <td>0</td>\n",
       "      <td>0</td>\n",
       "      <td>0</td>\n",
       "      <td>0</td>\n",
       "      <td>0</td>\n",
       "      <td>0</td>\n",
       "      <td>0</td>\n",
       "      <td>0</td>\n",
       "      <td>0</td>\n",
       "      <td>0</td>\n",
       "      <td>0</td>\n",
       "      <td>1</td>\n",
       "      <td>0</td>\n",
       "      <td>0</td>\n",
       "      <td>1</td>\n",
       "      <td>0</td>\n",
       "      <td>1</td>\n",
       "      <td>0</td>\n",
       "      <td>0</td>\n",
       "      <td>0</td>\n",
       "      <td>0</td>\n",
       "      <td>0</td>\n",
       "      <td>0</td>\n",
       "      <td>0</td>\n",
       "      <td>0</td>\n",
       "      <td>0</td>\n",
       "      <td>1</td>\n",
       "      <td>0</td>\n",
       "      <td>0</td>\n",
       "      <td>0</td>\n",
       "      <td>0</td>\n",
       "      <td>0</td>\n",
       "      <td>0</td>\n",
       "      <td>0</td>\n",
       "      <td>0</td>\n",
       "    </tr>\n",
       "    <tr>\n",
       "      <th>4180</th>\n",
       "      <td>1</td>\n",
       "      <td>1076</td>\n",
       "      <td>51</td>\n",
       "      <td>435</td>\n",
       "      <td>995</td>\n",
       "      <td>0</td>\n",
       "      <td>1</td>\n",
       "      <td>1</td>\n",
       "      <td>1</td>\n",
       "      <td>1</td>\n",
       "      <td>0</td>\n",
       "      <td>0</td>\n",
       "      <td>0</td>\n",
       "      <td>0</td>\n",
       "      <td>0</td>\n",
       "      <td>0</td>\n",
       "      <td>0</td>\n",
       "      <td>0</td>\n",
       "      <td>0</td>\n",
       "      <td>0</td>\n",
       "      <td>1</td>\n",
       "      <td>0</td>\n",
       "      <td>0</td>\n",
       "      <td>0</td>\n",
       "      <td>0</td>\n",
       "      <td>0</td>\n",
       "      <td>0</td>\n",
       "      <td>0</td>\n",
       "      <td>0</td>\n",
       "      <td>0</td>\n",
       "      <td>0</td>\n",
       "      <td>0</td>\n",
       "      <td>0</td>\n",
       "      <td>0</td>\n",
       "      <td>0</td>\n",
       "      <td>0</td>\n",
       "      <td>0</td>\n",
       "      <td>0</td>\n",
       "      <td>0</td>\n",
       "      <td>0</td>\n",
       "      <td>0</td>\n",
       "      <td>0</td>\n",
       "      <td>0</td>\n",
       "      <td>0</td>\n",
       "      <td>0</td>\n",
       "      <td>0</td>\n",
       "      <td>0</td>\n",
       "      <td>0</td>\n",
       "      <td>0</td>\n",
       "      <td>1</td>\n",
       "      <td>0</td>\n",
       "      <td>0</td>\n",
       "      <td>0</td>\n",
       "      <td>1</td>\n",
       "      <td>0</td>\n",
       "      <td>0</td>\n",
       "      <td>0</td>\n",
       "      <td>0</td>\n",
       "      <td>0</td>\n",
       "      <td>0</td>\n",
       "      <td>1</td>\n",
       "      <td>0</td>\n",
       "      <td>0</td>\n",
       "      <td>0</td>\n",
       "      <td>0</td>\n",
       "      <td>0</td>\n",
       "      <td>0</td>\n",
       "      <td>0</td>\n",
       "      <td>0</td>\n",
       "      <td>0</td>\n",
       "      <td>1</td>\n",
       "      <td>0</td>\n",
       "      <td>0</td>\n",
       "    </tr>\n",
       "  </tbody>\n",
       "</table>\n",
       "</div>"
      ],
      "text/plain": [
       "      color  director_name  actor_2_name  actor_1_name  actor_3_name  \\\n",
       "745       1            958            47          1425          1418   \n",
       "4862      1            132           216           220          2053   \n",
       "2808      1            629          2037          1225          1834   \n",
       "2415      1           1645           346          1184           118   \n",
       "4180      1           1076            51           435           995   \n",
       "\n",
       "      plot_keywords_0  plot_keywords_1  plot_keywords_2  plot_keywords_3  \\\n",
       "745               526             1390             1169             1032   \n",
       "4862                0                1                1                1   \n",
       "2808               99               86               45              698   \n",
       "2415              644              795              431              692   \n",
       "4180                0                1                1                1   \n",
       "\n",
       "      plot_keywords_4  language_0  language_Aboriginal  language_Arabic  \\\n",
       "745               668           0                    0                0   \n",
       "4862                1           0                    0                0   \n",
       "2808             1476           0                    0                0   \n",
       "2415             1548           0                    0                0   \n",
       "4180                1           0                    0                0   \n",
       "\n",
       "      language_Aramaic  language_Bosnian  language_Cantonese  language_Czech  \\\n",
       "745                  0                 0                   0               0   \n",
       "4862                 0                 0                   0               0   \n",
       "2808                 0                 0                   0               0   \n",
       "2415                 0                 0                   0               0   \n",
       "4180                 0                 0                   0               0   \n",
       "\n",
       "      language_Danish  language_Dari  language_Dutch  language_English  \\\n",
       "745                 0              0               0                 1   \n",
       "4862                0              0               0                 1   \n",
       "2808                0              0               0                 1   \n",
       "2415                0              0               0                 1   \n",
       "4180                0              0               0                 1   \n",
       "\n",
       "      language_Filipino  language_French  language_German  language_Hebrew  \\\n",
       "745                   0                0                0                0   \n",
       "4862                  0                0                0                0   \n",
       "2808                  0                0                0                0   \n",
       "2415                  0                0                0                0   \n",
       "4180                  0                0                0                0   \n",
       "\n",
       "      language_Hindi  language_Hungarian  language_Indonesian  \\\n",
       "745                0                   0                    0   \n",
       "4862               0                   0                    0   \n",
       "2808               0                   0                    0   \n",
       "2415               0                   0                    0   \n",
       "4180               0                   0                    0   \n",
       "\n",
       "      language_Italian  language_Japanese  language_Kazakh  language_Korean  \\\n",
       "745                  0                  0                0                0   \n",
       "4862                 0                  0                0                0   \n",
       "2808                 0                  0                0                0   \n",
       "2415                 0                  0                0                0   \n",
       "4180                 0                  0                0                0   \n",
       "\n",
       "      language_Mandarin  language_Maya  language_Mongolian  language_None  \\\n",
       "745                   0              0                   0              0   \n",
       "4862                  0              0                   0              0   \n",
       "2808                  0              0                   0              0   \n",
       "2415                  0              0                   0              0   \n",
       "4180                  0              0                   0              0   \n",
       "\n",
       "      language_Norwegian  language_Persian  language_Portuguese  \\\n",
       "745                    0                 0                    0   \n",
       "4862                   0                 0                    0   \n",
       "2808                   0                 0                    0   \n",
       "2415                   0                 0                    0   \n",
       "4180                   0                 0                    0   \n",
       "\n",
       "      language_Romanian  language_Russian  language_Spanish  language_Thai  \\\n",
       "745                   0                 0                 0              0   \n",
       "4862                  0                 0                 0              0   \n",
       "2808                  0                 0                 0              0   \n",
       "2415                  0                 0                 0              0   \n",
       "4180                  0                 0                 0              0   \n",
       "\n",
       "      language_Vietnamese  language_Zulu  country_France  country_Germany  \\\n",
       "745                     0              0               0                0   \n",
       "4862                    0              0               0                0   \n",
       "2808                    0              0               1                0   \n",
       "2415                    0              0               0                0   \n",
       "4180                    0              0               0                0   \n",
       "\n",
       "      country_Other  country_UK  country_USA  content_rating_Other  \\\n",
       "745               0           0            1                     0   \n",
       "4862              0           0            1                     0   \n",
       "2808              0           0            0                     0   \n",
       "2415              0           0            1                     0   \n",
       "4180              0           0            1                     0   \n",
       "\n",
       "      content_rating_PG  content_rating_PG-13  content_rating_R  \\\n",
       "745                   0                     0                 1   \n",
       "4862                  0                     0                 1   \n",
       "2808                  0                     1                 0   \n",
       "2415                  0                     1                 0   \n",
       "4180                  0                     0                 1   \n",
       "\n",
       "      Genre_0_Action  Genre_0_Adventure  Genre_0_Biography  Genre_0_Comedy  \\\n",
       "745                0                  0                  0               1   \n",
       "4862               0                  0                  0               0   \n",
       "2808               0                  0                  1               0   \n",
       "2415               1                  0                  0               0   \n",
       "4180               0                  0                  0               0   \n",
       "\n",
       "      Genre_0_Crime  Genre_0_Drama  Genre_0_Other  Genre_1_Adventure  \\\n",
       "745               0              0              0                  0   \n",
       "4862              0              0              1                  0   \n",
       "2808              0              0              0                  0   \n",
       "2415              0              0              0                  0   \n",
       "4180              0              0              1                  0   \n",
       "\n",
       "      Genre_1_Animation  Genre_1_Comedy  Genre_1_Crime  Genre_1_Drama  \\\n",
       "745                   0               0              1              0   \n",
       "4862                  0               0              0              0   \n",
       "2808                  0               0              0              1   \n",
       "2415                  0               0              1              0   \n",
       "4180                  0               0              0              0   \n",
       "\n",
       "      Genre_1_Family  Genre_1_Fantasy  Genre_1_Horror  Genre_1_Mystery  \\\n",
       "745                0                0               0                0   \n",
       "4862               0                0               0                0   \n",
       "2808               0                0               0                0   \n",
       "2415               0                0               0                0   \n",
       "4180               0                0               0                0   \n",
       "\n",
       "      Genre_1_Other  Genre_1_Romance  Genre_1_Thriller  \n",
       "745               0                0                 0  \n",
       "4862              1                0                 0  \n",
       "2808              0                0                 0  \n",
       "2415              0                0                 0  \n",
       "4180              1                0                 0  "
      ]
     },
     "execution_count": 99,
     "metadata": {},
     "output_type": "execute_result"
    }
   ],
   "source": [
    "temp_cat.head()"
   ]
  },
  {
   "cell_type": "code",
   "execution_count": 100,
   "metadata": {
    "collapsed": true
   },
   "outputs": [],
   "source": [
    "X_train_cat = temp_cat.loc[X_train_cat.index,:]"
   ]
  },
  {
   "cell_type": "code",
   "execution_count": 101,
   "metadata": {
    "collapsed": true
   },
   "outputs": [],
   "source": [
    "X_test_cat = temp_cat.loc[X_test_cat.index,:]"
   ]
  },
  {
   "cell_type": "code",
   "execution_count": 102,
   "metadata": {
    "collapsed": true
   },
   "outputs": [],
   "source": [
    "X_train = pd.concat([X_train_num,X_train_cat], axis =1)"
   ]
  },
  {
   "cell_type": "code",
   "execution_count": 105,
   "metadata": {
    "scrolled": true
   },
   "outputs": [],
   "source": [
    "X_test = pd.concat([X_test_num,X_test_cat], axis =1)"
   ]
  },
  {
   "cell_type": "markdown",
   "metadata": {},
   "source": [
    "### Some improvement but still Overfitting"
   ]
  },
  {
   "cell_type": "code",
   "execution_count": 106,
   "metadata": {},
   "outputs": [
    {
     "name": "stdout",
     "output_type": "stream",
     "text": [
      "('Training score: ', 0.93834395489037792)\n",
      "('Testing score: ', 0.55178187654254129)\n"
     ]
    }
   ],
   "source": [
    "from sklearn.ensemble import RandomForestRegressor\n",
    "dt = RandomForestRegressor(n_estimators = 1000,n_jobs=-1,random_state = 0)\n",
    "dt.fit(X_train, y_train)\n",
    "dt_score_train = dt.score(X_train, y_train)\n",
    "print(\"Training score: \",dt_score_train)\n",
    "dt_score_test = dt.score(X_test, y_test)\n",
    "print(\"Testing score: \",dt_score_test)"
   ]
  },
  {
   "cell_type": "code",
   "execution_count": 109,
   "metadata": {},
   "outputs": [
    {
     "name": "stdout",
     "output_type": "stream",
     "text": [
      "('best alpha', 6.0)\n",
      "Try again for more precision with alphas centered around 6.0\n",
      "('Best alpha :', 6.3000000000000007)\n",
      "('Training score: ', 0.47927813208661896)\n",
      "('Testing score: ', 0.44477665769502239)\n"
     ]
    }
   ],
   "source": [
    "from sklearn.linear_model import LinearRegression, RidgeCV, LassoCV\n",
    "ridge = RidgeCV(alphas = [0.01, 0.03, 0.06, 0.1, 0.3, 0.6, 1, 3, 6, 10, 30, 60])\n",
    "ridge.fit(X_train,y_train)\n",
    "alpha = ridge.alpha_\n",
    "print('best alpha',alpha)\n",
    "print(\"Try again for more precision with alphas centered around \" + str(alpha))\n",
    "ridge = RidgeCV(alphas = [alpha * .6, alpha * .65, alpha * .7, alpha * .75, alpha * .8, alpha * .85, \n",
    "                          alpha * .9, alpha * .95, alpha, alpha * 1.05, alpha * 1.1, alpha * 1.15,\n",
    "                          alpha * 1.25, alpha * 1.3, alpha * 1.35, alpha * 1.4],cv = 5)\n",
    "ridge.fit(X_train, y_train)\n",
    "alpha = ridge.alpha_\n",
    "print(\"Best alpha :\", alpha)\n",
    "# print(\"Ridge RMSE on Training set :\", rmse_CV_train(ridge).mean())\n",
    "# print(\"Ridge RMSE on Test set :\", rmse_CV_test(ridge).mean())\n",
    "y_train_rdg = ridge.predict(X_train)\n",
    "y_test_rdg = ridge.predict(X_test)\n",
    "print(\"Training score: \",ridge.score(X_train,y_train))\n",
    "print(\"Testing score: \",ridge.score(X_test,y_test))\n"
   ]
  },
  {
   "cell_type": "code",
   "execution_count": 110,
   "metadata": {
    "scrolled": true
   },
   "outputs": [
    {
     "data": {
      "image/png": "[encoded data removed]",
      "text/plain": [
       "<matplotlib.figure.Figure at 0x1b7288d0>"
      ]
     },
     "metadata": {},
     "output_type": "display_data"
    }
   ],
   "source": [
    "plt.scatter(y_train_rdg, y_train_rdg - y_train, c = \"blue\",  label = \"Training data\")\n",
    "#plt.scatter(y_test_rdg,y_test_rdg - y_test, c = \"green\",  label = \"Validation data\")\n",
    "plt.title(\"Linear regression\")\n",
    "plt.xlabel(\"Predicted values\")\n",
    "plt.ylabel(\"Residuals\")\n",
    "plt.legend(loc = \"upper left\")\n",
    "plt.hlines(y = 0, xmin = 10.5, xmax = 13.5, color = \"red\")\n",
    "plt.show()"
   ]
  },
  {
   "cell_type": "code",
   "execution_count": 111,
   "metadata": {
    "collapsed": true
   },
   "outputs": [],
   "source": [
    "\n",
    "from sklearn.model_selection import cross_val_score\n",
    "\n",
    "def rmse_cv(model):\n",
    "    rmse= np.sqrt(-cross_val_score(model, X_train, y_train, scoring=\"neg_mean_squared_error\", cv = 5))\n",
    "    return(rmse)"
   ]
  },
  {
   "cell_type": "code",
   "execution_count": 112,
   "metadata": {
    "collapsed": true
   },
   "outputs": [],
   "source": [
    "from sklearn.linear_model import Ridge\n",
    "alphas = [0.05, 0.1, 0.3, 1, 3, 5, 10, 15, 30, 50, 75]\n",
    "cv_ridge = [rmse_cv(Ridge(alpha = alpha)).mean() \n",
    "            for alpha in alphas]"
   ]
  },
  {
   "cell_type": "code",
   "execution_count": 113,
   "metadata": {
    "scrolled": false
   },
   "outputs": [
    {
     "data": {
      "text/plain": [
       "<matplotlib.text.Text at 0x14549550>"
      ]
     },
     "execution_count": 113,
     "metadata": {},
     "output_type": "execute_result"
    },
    {
     "data": {
      "image/png": "[encoded data removed]",
      "text/plain": [
       "<matplotlib.figure.Figure at 0x1b738710>"
      ]
     },
     "metadata": {},
     "output_type": "display_data"
    }
   ],
   "source": [
    "cv_ridge = pd.Series(cv_ridge, index = alphas)\n",
    "cv_ridge.plot(title = \"Validation\")\n",
    "plt.xlabel(\"alpha\")\n",
    "plt.ylabel(\"rmse\")"
   ]
  },
  {
   "cell_type": "code",
   "execution_count": 118,
   "metadata": {},
   "outputs": [
    {
     "data": {
      "text/plain": [
       "0.05     0.775847\n",
       "0.10     0.775730\n",
       "0.30     0.775336\n",
       "1.00     0.774479\n",
       "3.00     0.773575\n",
       "5.00     0.773340\n",
       "10.00    0.773416\n",
       "15.00    0.773708\n",
       "30.00    0.774666\n",
       "50.00    0.775907\n",
       "75.00    0.777510\n",
       "dtype: float64"
      ]
     },
     "execution_count": 118,
     "metadata": {},
     "output_type": "execute_result"
    }
   ],
   "source": [
    "cv_ridge"
   ]
  },
  {
   "cell_type": "code",
   "execution_count": 119,
   "metadata": {
    "collapsed": true,
    "scrolled": true
   },
   "outputs": [],
   "source": [
    "linridge = Ridge(alpha=5).fit(X_train, y_train)"
   ]
  },
  {
   "cell_type": "code",
   "execution_count": 120,
   "metadata": {},
   "outputs": [
    {
     "name": "stdout",
     "output_type": "stream",
     "text": [
      "IMDB dataset\n",
      "ridge regression linear model intercept: 7.05377084462\n",
      "ridge regression linear model coeff:\n",
      "[  1.14874195e-02   3.65971961e-01   2.49700831e-02  -4.33358095e-02\n",
      "   3.46239298e-01  -1.05446363e-01   7.96523220e-01  -3.72185735e-01\n",
      "  -6.01008130e-02  -2.64946064e-01  -2.93064267e-01   7.07116629e-02\n",
      "  -4.50421210e-02   4.36277869e-02  -2.92382832e-01   4.01215686e-05\n",
      "   5.14614389e-06  -1.30111490e-05  -4.67265108e-06  -2.14473314e-05\n",
      "   2.07075378e-06   2.00872077e-05   3.50387254e-05  -2.21410092e-05\n",
      "  -8.21682594e-01   9.84005181e-02   2.99726474e-02   0.00000000e+00\n",
      "  -4.57553800e-01   1.49515638e-01   1.65506322e-01   5.24297945e-02\n",
      "   0.00000000e+00   1.35817362e-01  -2.86009138e-01  -5.67335542e-03\n",
      "   3.25822997e-01  -1.75632366e-01   0.00000000e+00  -2.33146567e-02\n",
      "   1.71817567e-01  -5.75568215e-02  -1.69053336e-01   2.22795639e-01\n",
      "  -2.49403280e-02   1.27622710e-01   1.57622425e-01   1.95502325e-03\n",
      "   2.32224251e-03   2.32801443e-01  -2.55964535e-02  -9.45535973e-02\n",
      "   4.32332907e-02  -6.29688763e-02  -1.34203144e-01   6.79917130e-02\n",
      "   9.87288050e-02   1.78716083e-01   7.56662447e-02   3.91350235e-02\n",
      "  -1.71124975e-01   8.52324935e-03   1.83472947e-01  -6.00062449e-02\n",
      "   1.83230699e-01   4.45405844e-02  -2.01326767e-01  -2.64445167e-02\n",
      "   1.85524943e-02  -2.67246421e-02  -1.68313209e-02   2.28012361e-02\n",
      "  -8.21336324e-03  -7.12129724e-03   1.75368931e-02  -2.77150397e-02\n",
      "   4.85308246e-02  -5.13096117e-02  -4.02566285e-02   2.17005932e-02\n",
      "  -9.99531787e-02   1.12957898e-01  -2.24996281e-02  -1.07719199e-01\n",
      "   5.49741889e-02   4.99165941e-02   6.13731871e-02]\n",
      "R-squared score (training): 0.480\n",
      "Number of non-zero features: 84\n",
      "Number of zero features: 3\n"
     ]
    }
   ],
   "source": [
    "linridge.score(X_train, y_train)\n",
    "\n",
    "print('IMDB dataset')\n",
    "\n",
    "print('ridge regression linear model intercept: {}'\n",
    "     .format(linridge.intercept_))\n",
    "# print('ridge regression features: {}'\n",
    "#      .format(features))\n",
    "print('ridge regression linear model coeff:\\n{}'\n",
    "     .format(linridge.coef_))\n",
    "print('R-squared score (training): {:.3f}'\n",
    "     .format(linridge.score(X_train, y_train)))\n",
    "# print('R-squared score (test): {:.3f}'\n",
    "#      .format(linridge.score(X_test, y_test)))\n",
    "print('Number of non-zero features: {}'\n",
    "     .format(np.sum(linridge.coef_ != 0)))\n",
    "print('Number of zero features: {}'\n",
    "     .format(np.sum(linridge.coef_ == 0)))"
   ]
  },
  {
   "cell_type": "markdown",
   "metadata": {},
   "source": [
    "## Lasso Regression"
   ]
  },
  {
   "cell_type": "code",
   "execution_count": 121,
   "metadata": {},
   "outputs": [
    {
     "name": "stdout",
     "output_type": "stream",
     "text": [
      "('Training score: ', 0.47740793582719249)\n",
      "('Testing score: ', 0.44577269842539302)\n"
     ]
    }
   ],
   "source": [
    "from sklearn.linear_model import LinearRegression, RidgeCV, LassoCV\n",
    "from sklearn.linear_model import Lasso\n",
    "from sklearn.model_selection import KFold\n",
    "from sklearn.model_selection import GridSearchCV\n",
    "\n",
    "\n",
    "#lasso = Lasso(random_state=0)\n",
    "alphas = np.logspace(-4, -0.5, 30)\n",
    "\n",
    "tuned_parameters = [{'alpha': alphas}]\n",
    "n_folds = 3\n",
    "lasso_cv = LassoCV(alphas=alphas, random_state=0)\n",
    "# lasso_cv = Lasso(alpha = 0.001)\n",
    "lasso_cv.fit(X_train, y_train)\n",
    "#lasso_cv.predict(X_test)\n",
    "print(\"Training score: \",lasso_cv.score(X_train, y_train))\n",
    "print(\"Testing score: \",lasso_cv.score(X_test, y_test))"
   ]
  },
  {
   "cell_type": "code",
   "execution_count": 122,
   "metadata": {},
   "outputs": [
    {
     "name": "stdout",
     "output_type": "stream",
     "text": [
      "('Training score: ', 0.48350244159034161)\n",
      "('Testing score: ', 0.44783442396131834)\n"
     ]
    }
   ],
   "source": [
    "\n",
    "tuned_parameters = [{'alpha': alphas}]\n",
    "n_folds = 3\n",
    "ridge_cv = RidgeCV(alphas=alphas)\n",
    "ridge_cv.fit(X_train, y_train)\n",
    "print(\"Training score: \",ridge_cv.score(X_train, y_train))\n",
    "print(\"Testing score: \",ridge_cv.score(X_test, y_test))"
   ]
  },
  {
   "cell_type": "code",
   "execution_count": null,
   "metadata": {
    "collapsed": true,
    "scrolled": true
   },
   "outputs": [],
   "source": [
    "# from sklearn import neighbors\n",
    "# def func(distances):\n",
    "#     w = []\n",
    "#     kek = 0.0\n",
    "#     for dist in distances:\n",
    "#         kek += np.exp(dist)\n",
    "#     for dist in distances:\n",
    "#         w.append(np.exp(dist)/kek)\n",
    "#     return w\n",
    "# knn = neighbors.KNeighborsRegressor(n_neighbors = 3, weights = func)\n",
    "# knn = knn.fit(X_train, y_train)\n",
    "# print(\"Training score: \",knn.score(X_train, y_train))\n",
    "# print(\"Testing score: \",knn.score(X_test, y_test))"
   ]
  },
  {
   "cell_type": "code",
   "execution_count": null,
   "metadata": {
    "collapsed": true
   },
   "outputs": [],
   "source": [
    "# from sklearn.decomposition import PCA\n",
    "# pca = PCA(n_components = 90).fit(X_train)\n",
    "# plt.plot(np.cumsum(pca.explained_variance_ratio_))\n",
    "# # plt.xlim(0,7,1)\n",
    "# plt.xlabel('Number of components')\n",
    "# plt.ylabel('Cumulative explained variance')"
   ]
  },
  {
   "cell_type": "code",
   "execution_count": null,
   "metadata": {
    "collapsed": true
   },
   "outputs": [],
   "source": [
    "# np.cumsum(pca.explained_variance_ratio_)"
   ]
  },
  {
   "cell_type": "code",
   "execution_count": null,
   "metadata": {
    "collapsed": true
   },
   "outputs": [],
   "source": [
    "# X_train_pca = pca.transform(X_train)\n",
    "# X_test_pca = pca.transform(X_test)"
   ]
  },
  {
   "cell_type": "code",
   "execution_count": null,
   "metadata": {
    "collapsed": true
   },
   "outputs": [],
   "source": [
    "# plt.scatter(y_test, y_test_ - y_test, c = \"blue\",  label = \"Training data\")\n",
    "# #plt.scatter(y_test_rdg,y_test_rdg - y_test, c = \"green\",  label = \"Validation data\")\n",
    "# plt.title(\"Linear regression\")\n",
    "# plt.xlabel(\"Predicted values\")\n",
    "# plt.ylabel(\"Residuals\")\n",
    "# plt.legend(loc = \"upper left\")\n",
    "# plt.hlines(y = 0, xmin = 10.5, xmax = 13.5, color = \"red\")\n",
    "# plt.show()"
   ]
  },
  {
   "cell_type": "code",
   "execution_count": 123,
   "metadata": {},
   "outputs": [
    {
     "data": {
      "text/plain": [
       "1.6000000000000001"
      ]
     },
     "execution_count": 123,
     "metadata": {},
     "output_type": "execute_result"
    }
   ],
   "source": [
    "(data['imdb_score']).min()"
   ]
  },
  {
   "cell_type": "markdown",
   "metadata": {},
   "source": [
    "# Classifying a movie into 4 classes based on IMDB Score"
   ]
  },
  {
   "cell_type": "code",
   "execution_count": 126,
   "metadata": {
    "collapsed": true
   },
   "outputs": [],
   "source": [
    "temp_whole = pd.concat([X_train,X_test])"
   ]
  },
  {
   "cell_type": "code",
   "execution_count": 127,
   "metadata": {},
   "outputs": [
    {
     "data": {
      "text/plain": [
       "(3756, 87)"
      ]
     },
     "execution_count": 127,
     "metadata": {},
     "output_type": "execute_result"
    }
   ],
   "source": [
    "temp_whole.shape"
   ]
  },
  {
   "cell_type": "code",
   "execution_count": 130,
   "metadata": {},
   "outputs": [],
   "source": [
    "y = pd.cut(y,bins = [2,4,6,8,10],labels = [0,1,2,3],right = True)"
   ]
  },
  {
   "cell_type": "code",
   "execution_count": 131,
   "metadata": {},
   "outputs": [
    {
     "data": {
      "text/plain": [
       "3756"
      ]
     },
     "execution_count": 131,
     "metadata": {},
     "output_type": "execute_result"
    }
   ],
   "source": [
    "y.size"
   ]
  },
  {
   "cell_type": "code",
   "execution_count": 132,
   "metadata": {},
   "outputs": [
    {
     "data": {
      "text/plain": [
       "2    2453\n",
       "1    1052\n",
       "3     158\n",
       "0      89\n",
       "Name: imdb_score, dtype: int64"
      ]
     },
     "execution_count": 132,
     "metadata": {},
     "output_type": "execute_result"
    }
   ],
   "source": [
    "y.value_counts()"
   ]
  },
  {
   "cell_type": "code",
   "execution_count": 128,
   "metadata": {
    "scrolled": true
   },
   "outputs": [
    {
     "data": {
      "text/plain": [
       "0       7.9\n",
       "1       7.1\n",
       "2       6.8\n",
       "3       8.5\n",
       "5       6.6\n",
       "6       6.2\n",
       "7       7.8\n",
       "8       7.5\n",
       "9       7.5\n",
       "10      6.9\n",
       "11      6.1\n",
       "12      6.7\n",
       "13      7.3\n",
       "14      6.5\n",
       "15      7.2\n",
       "16      6.6\n",
       "17      8.1\n",
       "18      6.7\n",
       "19      6.8\n",
       "20      7.5\n",
       "21      7.0\n",
       "22      6.7\n",
       "23      7.9\n",
       "24      6.1\n",
       "25      7.2\n",
       "26      7.7\n",
       "27      8.2\n",
       "28      5.9\n",
       "29      7.0\n",
       "30      7.8\n",
       "       ... \n",
       "4930    6.3\n",
       "4931    7.9\n",
       "4933    7.4\n",
       "4936    7.5\n",
       "4941    7.5\n",
       "4955    6.7\n",
       "4956    4.2\n",
       "4959    7.0\n",
       "4962    7.0\n",
       "4964    6.8\n",
       "4971    6.6\n",
       "4973    7.5\n",
       "4975    5.3\n",
       "4977    7.3\n",
       "4978    5.6\n",
       "4979    5.6\n",
       "4984    6.6\n",
       "4987    6.3\n",
       "4997    7.5\n",
       "4998    7.6\n",
       "5008    7.8\n",
       "5011    7.3\n",
       "5012    5.7\n",
       "5015    7.1\n",
       "5025    6.1\n",
       "5026    6.9\n",
       "5027    7.5\n",
       "5033    7.0\n",
       "5035    6.9\n",
       "5042    6.6\n",
       "Name: imdb_score, Length: 3756, dtype: float64"
      ]
     },
     "execution_count": 128,
     "metadata": {},
     "output_type": "execute_result"
    }
   ],
   "source": [
    "y"
   ]
  },
  {
   "cell_type": "code",
   "execution_count": 134,
   "metadata": {
    "collapsed": true
   },
   "outputs": [],
   "source": [
    "y.fillna(value = 0,inplace = True)"
   ]
  },
  {
   "cell_type": "code",
   "execution_count": 135,
   "metadata": {},
   "outputs": [
    {
     "data": {
      "text/plain": [
       "2    2453\n",
       "1    1052\n",
       "3     158\n",
       "0      93\n",
       "Name: imdb_score, dtype: int64"
      ]
     },
     "execution_count": 135,
     "metadata": {},
     "output_type": "execute_result"
    }
   ],
   "source": [
    "y.value_counts()"
   ]
  },
  {
   "cell_type": "code",
   "execution_count": 142,
   "metadata": {
    "collapsed": true
   },
   "outputs": [],
   "source": [
    "from sklearn.decomposition import PCA\n",
    "from sklearn.preprocessing import StandardScaler\n",
    "pca = PCA(n_components=9, svd_solver=\"full\")\n",
    "pca_data = pca.fit_transform(temp_whole)\n",
    "# X_train = pca.transform(X_train)\n",
    "# pca_data = pca.transform(num_data)\n",
    "cum_var_exp = np.cumsum(pca.explained_variance_ratio_)"
   ]
  },
  {
   "cell_type": "code",
   "execution_count": 143,
   "metadata": {},
   "outputs": [
    {
     "data": {
      "text/plain": [
       "array([ 0.37304199,  0.57324552,  0.71810919,  0.80176347,  0.86836767,\n",
       "        0.92689875,  0.96361259,  0.98467188,  0.99999359])"
      ]
     },
     "execution_count": 143,
     "metadata": {},
     "output_type": "execute_result"
    }
   ],
   "source": [
    "cum_var_exp"
   ]
  },
  {
   "cell_type": "code",
   "execution_count": null,
   "metadata": {
    "collapsed": true
   },
   "outputs": [],
   "source": [
    "merged.corr()"
   ]
  },
  {
   "cell_type": "code",
   "execution_count": null,
   "metadata": {
    "collapsed": true,
    "scrolled": true
   },
   "outputs": [],
   "source": [
    "merged.head()"
   ]
  },
  {
   "cell_type": "code",
   "execution_count": 152,
   "metadata": {
    "collapsed": true
   },
   "outputs": [],
   "source": [
    "from sklearn.model_selection import train_test_split # to split the data into two parts\n",
    "X_train,X_test,y_train,y_test = train_test_split(temp_whole,y, random_state = 1,test_size = 0.20,stratify =y) # test_size = 0.10"
   ]
  },
  {
   "cell_type": "code",
   "execution_count": 140,
   "metadata": {},
   "outputs": [
    {
     "data": {
      "text/plain": [
       "10"
      ]
     },
     "execution_count": 140,
     "metadata": {},
     "output_type": "execute_result"
    }
   ],
   "source": [
    "cum_var_exp.size"
   ]
  },
  {
   "cell_type": "markdown",
   "metadata": {},
   "source": [
    "## Logistic Regression"
   ]
  },
  {
   "cell_type": "code",
   "execution_count": 153,
   "metadata": {},
   "outputs": [
    {
     "name": "stdout",
     "output_type": "stream",
     "text": [
      "Accuracy of Logistic regression classifier on training set: 0.65\n",
      "Accuracy of Logistic regression classifier on test set: 0.65\n"
     ]
    }
   ],
   "source": [
    "from sklearn.linear_model import LogisticRegression\n",
    "clf = LogisticRegression()\n",
    "\n",
    "clf.fit(X_train,y_train)\n",
    "\n",
    "print('Accuracy of Logistic regression classifier on training set: {:.2f}'\n",
    "     .format(clf.score(X_train, y_train)))\n",
    "print('Accuracy of Logistic regression classifier on test set: {:.2f}'\n",
    "     .format(clf.score(X_test, y_test)))"
   ]
  },
  {
   "cell_type": "code",
   "execution_count": 151,
   "metadata": {},
   "outputs": [
    {
     "ename": "NameError",
     "evalue": "name 'whole_temp' is not defined",
     "output_type": "error",
     "traceback": [
      "\u001b[1;31m---------------------------------------------------------------------------\u001b[0m",
      "\u001b[1;31mNameError\u001b[0m                                 Traceback (most recent call last)",
      "\u001b[1;32m<ipython-input-151-be0c2c94d2a9>\u001b[0m in \u001b[0;36m<module>\u001b[1;34m()\u001b[0m\n\u001b[1;32m----> 1\u001b[1;33m \u001b[0mwhole_temp\u001b[0m\u001b[1;33m.\u001b[0m\u001b[0mhead\u001b[0m\u001b[1;33m(\u001b[0m\u001b[1;33m)\u001b[0m\u001b[1;33m\u001b[0m\u001b[0m\n\u001b[0m",
      "\u001b[1;31mNameError\u001b[0m: name 'whole_temp' is not defined"
     ]
    }
   ],
   "source": []
  },
  {
   "cell_type": "code",
   "execution_count": 155,
   "metadata": {},
   "outputs": [
    {
     "name": "stdout",
     "output_type": "stream",
     "text": [
      "('Training score: ', 1.0)\n",
      "('Testing score: ', 0.6542553191489362)\n"
     ]
    }
   ],
   "source": [
    "from sklearn.ensemble import RandomForestClassifier\n",
    "dt = RandomForestClassifier(n_estimators = 1000,n_jobs=-1,random_state = 0)\n",
    "dt.fit(X_train, y_train)\n",
    "dt_score_train = dt.score(X_train, y_train)\n",
    "print(\"Training score: \",dt_score_train)\n",
    "dt_score_test = dt.score(X_test, y_test)\n",
    "print(\"Testing score: \",dt_score_test)"
   ]
  },
  {
   "cell_type": "markdown",
   "metadata": {},
   "source": [
    "### Feature Importance"
   ]
  },
  {
   "cell_type": "code",
   "execution_count": 156,
   "metadata": {
    "scrolled": true
   },
   "outputs": [
    {
     "data": {
      "text/plain": [
       "<matplotlib.text.Text at 0x28bae748>"
      ]
     },
     "execution_count": 156,
     "metadata": {},
     "output_type": "execute_result"
    },
    {
     "data": {
      "image/png": "[encoded data removed]",
      "text/plain": [
       "<matplotlib.figure.Figure at 0x211f86a0>"
      ]
     },
     "metadata": {},
     "output_type": "display_data"
    }
   ],
   "source": [
    "df = pd.DataFrame(data = dt.feature_importances_[:10],index = temp_whole.columns.tolist()[:10])\n",
    "\n",
    "df = df[df.iloc[:,0] > 0].sort_values(by = 0,ascending = False)\n",
    "fig, ax = plt.subplots(figsize=(20,10))\n",
    "sns.barplot(y = df.index, x= df[0])\n",
    "plt.xlabel('importance')"
   ]
  },
  {
   "cell_type": "code",
   "execution_count": null,
   "metadata": {
    "collapsed": true
   },
   "outputs": [],
   "source": [
    ">>> from sklearn.learning_curve import validation_curve\n",
    ">>> param_range = [0.001, 0.01, 0.1, 1.0, 10.0, 100.0]\n",
    ">>> train_scores, test_scores = validation_curve(\n",
    "... LogisticRegression(penalty='l2', random_state=0),\n",
    "... X=X_train,\n",
    "... y=y_train,\n",
    "... param_name='C',\n",
    "... param_range=param_range,cv=10)"
   ]
  },
  {
   "cell_type": "code",
   "execution_count": null,
   "metadata": {},
   "outputs": [],
   "source": [
    ">>> train_mean = np.mean(train_scores, axis=1)\n",
    ">>> train_std = np.std(train_scores, axis=1)\n",
    ">>> test_mean = np.mean(test_scores, axis=1)\n",
    ">>> test_std = np.std(test_scores, axis=1)\n",
    ">>> plt.plot(param_range, train_mean,\n",
    "... color='blue', marker='o',\n",
    "... markersize=5,\n",
    "... label='training accuracy')\n",
    ">>> plt.fill_between(param_range, train_mean + train_std,\n",
    "... train_mean - train_std, alpha=0.15,\n",
    "... color='blue')\n",
    ">>> plt.plot(param_range, test_mean,\n",
    "... color='green', linestyle='--',\n",
    "... marker='s', markersize=5,\n",
    "... label='validation accuracy')\n",
    ">>> plt.fill_between(param_range,\n",
    "... test_mean + test_std,\n",
    "... test_mean - test_std,\n",
    "... alpha=0.15, color='green')\n",
    ">>> plt.grid()\n",
    ">>> plt.xscale('log')\n",
    ">>> plt.legend(loc='lower right')\n",
    ">>> plt.xlabel('Parameter C')\n",
    ">>> plt.ylabel('Accuracy')\n",
    ">>> plt.ylim([0.8, 0.85])\n",
    ">>> plt.show() "
   ]
  },
  {
   "cell_type": "code",
   "execution_count": null,
   "metadata": {},
   "outputs": [],
   "source": [
    "from sklearn.linear_model import LogisticRegression\n",
    "clf = LogisticRegression(C = 10,penalty='l2', random_state=0)\n",
    "\n",
    "clf.fit(X_train,y_train)\n",
    "\n",
    "print('Accuracy of Logistic regression classifier on training set: {:.2f}'\n",
    "     .format(clf.score(X_train, y_train)))\n",
    "print('Accuracy of Logistic regression classifier on test set: {:.2f}'\n",
    "     .format(clf.score(X_test, y_test)))"
   ]
  },
  {
   "cell_type": "markdown",
   "metadata": {},
   "source": [
    "## SVC Regularized Classifier"
   ]
  },
  {
   "cell_type": "code",
   "execution_count": null,
   "metadata": {
    "collapsed": true
   },
   "outputs": [],
   "source": [
    "# >>> from sklearn.grid_search import GridSearchCV\n",
    "# >>> from sklearn.pipeline import Pipeline\n",
    "# >>> from sklearn.svm import SVC\n",
    "# >>> pipe_svc = Pipeline([('clf', SVC(random_state=1))])\n",
    "# >>> param_range = [0.0001, 0.001, 0.01, 0.1, 1.0, 10.0, 100.0, 1000.0]\n",
    "# >>> param_grid = [{'clf__C': param_range,\n",
    "# ... 'clf__kernel': ['linear']},\n",
    "# ... {'clf__C': param_range,\n",
    "# ... 'clf__gamma': param_range,\n",
    "# ... 'clf__kernel': ['rbf']}]\n",
    "# >>> gs = GridSearchCV(estimator=pipe_svc,\n",
    "# ... param_grid=param_grid,\n",
    "# ... scoring='accuracy',\n",
    "# ... cv=10,\n",
    "# ... n_jobs=-1)\n",
    "# >>> gs = gs.fit(X_train, y_train)\n",
    "\n",
    "\n",
    "# print(gs.best_score_)\n",
    "# print(gs.best_params_)"
   ]
  },
  {
   "cell_type": "markdown",
   "metadata": {},
   "source": [
    "### Confusion Matrix"
   ]
  },
  {
   "cell_type": "code",
   "execution_count": 157,
   "metadata": {},
   "outputs": [
    {
     "name": "stdout",
     "output_type": "stream",
     "text": [
      "[[  0   0  18   0]\n",
      " [  0   1 210   0]\n",
      " [  0   0 491   0]\n",
      " [  0   0  32   0]]\n"
     ]
    }
   ],
   "source": [
    "from sklearn.metrics import confusion_matrix\n",
    "y_pred = clf.predict(X_test)\n",
    "cm = confusion_matrix(y_true=y_test, y_pred=y_pred)\n",
    "print(cm)"
   ]
  },
  {
   "cell_type": "code",
   "execution_count": null,
   "metadata": {
    "collapsed": true
   },
   "outputs": [],
   "source": []
  }
 ],
 "metadata": {
  "kernelspec": {
   "display_name": "Python 2",
   "language": "python",
   "name": "python2"
  },
  "language_info": {
   "codemirror_mode": {
    "name": "ipython",
    "version": 2
   },
   "file_extension": ".py",
   "mimetype": "text/x-python",
   "name": "python",
   "nbconvert_exporter": "python",
   "pygments_lexer": "ipython2",
   "version": "2.7.13"
  }
 },
 "nbformat": 4,
 "nbformat_minor": 2
}
